{
 "cells": [
  {
   "cell_type": "code",
   "execution_count": 1,
   "metadata": {
    "_cell_guid": "b1076dfc-b9ad-4769-8c92-a6c4dae69d19",
    "_uuid": "8f2839f25d086af736a60e9eeb907d3b93b6e0e5"
   },
   "outputs": [
    {
     "name": "stderr",
     "output_type": "stream",
     "text": [
      "/usr/local/lib/python3.7/site-packages/lightgbm/__init__.py:46: UserWarning: Starting from version 2.2.1, the library file in distribution wheels for macOS is built by the Apple Clang (Xcode_8.3.1) compiler.\n",
      "This means that in case of installing LightGBM from PyPI via the ``pip install lightgbm`` command, you don't need to install the gcc compiler anymore.\n",
      "Instead of that, you need to install the OpenMP library, which is required for running LightGBM on the system with the Apple Clang compiler.\n",
      "You can install the OpenMP library by the following command: ``brew install libomp``.\n",
      "  \"You can install the OpenMP library by the following command: ``brew install libomp``.\", UserWarning)\n"
     ]
    }
   ],
   "source": [
    "# + проверить выкидывание групп\n",
    "# + сначала разбить, потом обработать\n",
    "# + catboost\n",
    "\n",
    "# neuron\n",
    "\n",
    "# reg 2 classification\n",
    "\n",
    "\n",
    "import gc\n",
    "\n",
    "gc.enable()\n",
    "\n",
    "import pandas as pd\n",
    "import numpy as np\n",
    "import seaborn as sns\n",
    "import matplotlib.pyplot as plt  \n",
    "\n",
    "from sklearn import preprocessing\n",
    "from sklearn.model_selection import train_test_split\n",
    "\n",
    "\n",
    "from sklearn.preprocessing import LabelEncoder\n",
    "from sklearn.model_selection import KFold\n",
    "from sklearn.metrics import mean_squared_error\n",
    "from sklearn.metrics import mean_absolute_error\n",
    "from sklearn.metrics import explained_variance_score\n",
    "\n",
    "import lightgbm as lgb\n",
    "\n",
    "import os\n",
    "import os.path\n",
    "# print(os.listdir(\"../input\"))\n",
    "\n",
    "# credit to https://www.kaggle.com/gemartin/load-data-reduce-memory-usage\n",
    "def reduce_mem_usage(df):\n",
    "    \"\"\" iterate through all the columns of a dataframe and modify the data type\n",
    "        to reduce memory usage.        \n",
    "    \"\"\"\n",
    "    for col in df.columns:\n",
    "        col_type = df[col].dtype\n",
    "\n",
    "        if col_type != object:\n",
    "            c_min = df[col].min()\n",
    "            c_max = df[col].max()\n",
    "            if str(col_type)[:3] == 'int':\n",
    "                if c_min > np.iinfo(np.int8).min and c_max < np.iinfo(np.int8).max:\n",
    "                    df[col] = df[col].astype(np.int8)\n",
    "                elif c_min > np.iinfo(np.int16).min and c_max < np.iinfo(np.int16).max:\n",
    "                    df[col] = df[col].astype(np.int16)\n",
    "                elif c_min > np.iinfo(np.int32).min and c_max < np.iinfo(np.int32).max:\n",
    "                    df[col] = df[col].astype(np.int32)\n",
    "                elif c_min > np.iinfo(np.int64).min and c_max < np.iinfo(np.int64).max:\n",
    "                    df[col] = df[col].astype(np.int64)  \n",
    "            else:\n",
    "                if c_min > np.finfo(np.float16).min and c_max < np.finfo(np.float16).max:\n",
    "                    df[col] = df[col].astype(np.float16)\n",
    "                elif c_min > np.finfo(np.float32).min and c_max < np.finfo(np.float32).max:\n",
    "                    df[col] = df[col].astype(np.float32)\n",
    "                else:\n",
    "                    df[col] = df[col].astype(np.float64)\n",
    "\n",
    "    return df"
   ]
  },
  {
   "cell_type": "code",
   "execution_count": 2,
   "metadata": {
    "_cell_guid": "79c7e3d0-c299-4dcb-8224-4455121ee9b0",
    "_uuid": "d629ff2d2480ee46fbb7e2d37f6b5fab8052498a"
   },
   "outputs": [],
   "source": [
    "by_team = ['matchId','groupId']"
   ]
  },
  {
   "cell_type": "code",
   "execution_count": 3,
   "metadata": {
    "_uuid": "a0d56df2e2687faee55284223bd15d52c255a6a6"
   },
   "outputs": [
    {
     "name": "stdout",
     "output_type": "stream",
     "text": [
      "Solo file exists, loaded, size:  720712\n"
     ]
    },
    {
     "data": {
      "text/plain": [
       "7"
      ]
     },
     "execution_count": 3,
     "metadata": {},
     "output_type": "execute_result"
    }
   ],
   "source": [
    "random_seed = 15305\n",
    "df_train = None\n",
    "\n",
    "if not os.path.isfile('train_V2_solo.csv'):\n",
    "    print('Solo file not exists, load all')\n",
    "    df_train = pd.read_csv('train_V2.csv')\n",
    "    df_train = reduce_mem_usage(df_train)\n",
    "    df_train = df_train[df_train['winPlacePerc'].isna() != True]\n",
    "    mapper = lambda x: 'solo' if ('solo' in x) else 'duo' if ('duo' in x) or ('crash' in x) else 'squad'\n",
    "    \n",
    "#     df_train['matchType'].value_counts().plot.bar()\n",
    "    \n",
    "    df_train['matchType'] = df_train['matchType'].apply(mapper)\n",
    "    \n",
    "    old_size = df_train.shape[0]\n",
    "    \n",
    "    df_train = df_train[df_train['matchType'] == 'solo']\n",
    "    \n",
    "    print('Reduced size from ', old_size, ' to ', df_train.shape[0])\n",
    "    \n",
    "    df_train.to_csv('train_V2_solo.csv', index=False)\n",
    "    \n",
    "else:\n",
    "    df_train = pd.read_csv('train_V2_solo.csv')\n",
    "    df_train = reduce_mem_usage(df_train)\n",
    "    print('Solo file exists, loaded, size: ', df_train.shape[0])\n",
    "        \n",
    "\n",
    "gc.collect()"
   ]
  },
  {
   "cell_type": "code",
   "execution_count": 4,
   "metadata": {
    "_uuid": "e9234ec8f0414f82dcffce1c96460a71bf7e0d4f"
   },
   "outputs": [
    {
     "data": {
      "text/html": [
       "<div>\n",
       "<style scoped>\n",
       "    .dataframe tbody tr th:only-of-type {\n",
       "        vertical-align: middle;\n",
       "    }\n",
       "\n",
       "    .dataframe tbody tr th {\n",
       "        vertical-align: top;\n",
       "    }\n",
       "\n",
       "    .dataframe thead th {\n",
       "        text-align: right;\n",
       "    }\n",
       "</style>\n",
       "<table border=\"1\" class=\"dataframe\">\n",
       "  <thead>\n",
       "    <tr style=\"text-align: right;\">\n",
       "      <th></th>\n",
       "      <th>mean</th>\n",
       "      <th>std</th>\n",
       "      <th>min</th>\n",
       "      <th>25%</th>\n",
       "      <th>50%</th>\n",
       "      <th>75%</th>\n",
       "      <th>max</th>\n",
       "    </tr>\n",
       "  </thead>\n",
       "  <tbody>\n",
       "    <tr>\n",
       "      <th>assists</th>\n",
       "      <td>0.062236</td>\n",
       "      <td>0.297540</td>\n",
       "      <td>0.0</td>\n",
       "      <td>0.000000</td>\n",
       "      <td>0.000000</td>\n",
       "      <td>0.000000</td>\n",
       "      <td>22.0</td>\n",
       "    </tr>\n",
       "    <tr>\n",
       "      <th>boosts</th>\n",
       "      <td>1.059862</td>\n",
       "      <td>1.799456</td>\n",
       "      <td>0.0</td>\n",
       "      <td>0.000000</td>\n",
       "      <td>0.000000</td>\n",
       "      <td>2.000000</td>\n",
       "      <td>28.0</td>\n",
       "    </tr>\n",
       "    <tr>\n",
       "      <th>damageDealt</th>\n",
       "      <td>NaN</td>\n",
       "      <td>NaN</td>\n",
       "      <td>0.0</td>\n",
       "      <td>0.000000</td>\n",
       "      <td>74.375000</td>\n",
       "      <td>169.250000</td>\n",
       "      <td>6616.0</td>\n",
       "    </tr>\n",
       "    <tr>\n",
       "      <th>DBNOs</th>\n",
       "      <td>0.000000</td>\n",
       "      <td>0.000000</td>\n",
       "      <td>0.0</td>\n",
       "      <td>0.000000</td>\n",
       "      <td>0.000000</td>\n",
       "      <td>0.000000</td>\n",
       "      <td>0.0</td>\n",
       "    </tr>\n",
       "    <tr>\n",
       "      <th>headshotKills</th>\n",
       "      <td>0.249281</td>\n",
       "      <td>0.660425</td>\n",
       "      <td>0.0</td>\n",
       "      <td>0.000000</td>\n",
       "      <td>0.000000</td>\n",
       "      <td>0.000000</td>\n",
       "      <td>42.0</td>\n",
       "    </tr>\n",
       "    <tr>\n",
       "      <th>heals</th>\n",
       "      <td>1.014149</td>\n",
       "      <td>2.406086</td>\n",
       "      <td>0.0</td>\n",
       "      <td>0.000000</td>\n",
       "      <td>0.000000</td>\n",
       "      <td>1.000000</td>\n",
       "      <td>63.0</td>\n",
       "    </tr>\n",
       "    <tr>\n",
       "      <th>killPlace</th>\n",
       "      <td>47.457529</td>\n",
       "      <td>27.728956</td>\n",
       "      <td>1.0</td>\n",
       "      <td>23.000000</td>\n",
       "      <td>47.000000</td>\n",
       "      <td>71.000000</td>\n",
       "      <td>100.0</td>\n",
       "    </tr>\n",
       "    <tr>\n",
       "      <th>killPoints</th>\n",
       "      <td>447.426431</td>\n",
       "      <td>594.989089</td>\n",
       "      <td>0.0</td>\n",
       "      <td>0.000000</td>\n",
       "      <td>0.000000</td>\n",
       "      <td>1090.000000</td>\n",
       "      <td>1970.0</td>\n",
       "    </tr>\n",
       "    <tr>\n",
       "      <th>kills</th>\n",
       "      <td>0.936860</td>\n",
       "      <td>1.603249</td>\n",
       "      <td>0.0</td>\n",
       "      <td>0.000000</td>\n",
       "      <td>0.000000</td>\n",
       "      <td>1.000000</td>\n",
       "      <td>66.0</td>\n",
       "    </tr>\n",
       "    <tr>\n",
       "      <th>killStreaks</th>\n",
       "      <td>0.475054</td>\n",
       "      <td>0.564241</td>\n",
       "      <td>0.0</td>\n",
       "      <td>0.000000</td>\n",
       "      <td>0.000000</td>\n",
       "      <td>1.000000</td>\n",
       "      <td>18.0</td>\n",
       "    </tr>\n",
       "    <tr>\n",
       "      <th>longestKill</th>\n",
       "      <td>NaN</td>\n",
       "      <td>NaN</td>\n",
       "      <td>0.0</td>\n",
       "      <td>0.000000</td>\n",
       "      <td>0.000000</td>\n",
       "      <td>20.875000</td>\n",
       "      <td>1052.0</td>\n",
       "    </tr>\n",
       "    <tr>\n",
       "      <th>matchDuration</th>\n",
       "      <td>1600.651940</td>\n",
       "      <td>257.052724</td>\n",
       "      <td>133.0</td>\n",
       "      <td>1384.000000</td>\n",
       "      <td>1456.000000</td>\n",
       "      <td>1874.000000</td>\n",
       "      <td>2237.0</td>\n",
       "    </tr>\n",
       "    <tr>\n",
       "      <th>maxPlace</th>\n",
       "      <td>93.908900</td>\n",
       "      <td>10.134818</td>\n",
       "      <td>2.0</td>\n",
       "      <td>94.000000</td>\n",
       "      <td>96.000000</td>\n",
       "      <td>97.000000</td>\n",
       "      <td>100.0</td>\n",
       "    </tr>\n",
       "    <tr>\n",
       "      <th>numGroups</th>\n",
       "      <td>91.115282</td>\n",
       "      <td>11.436636</td>\n",
       "      <td>1.0</td>\n",
       "      <td>91.000000</td>\n",
       "      <td>93.000000</td>\n",
       "      <td>95.000000</td>\n",
       "      <td>100.0</td>\n",
       "    </tr>\n",
       "    <tr>\n",
       "      <th>rankPoints</th>\n",
       "      <td>966.581536</td>\n",
       "      <td>744.319530</td>\n",
       "      <td>-1.0</td>\n",
       "      <td>-1.000000</td>\n",
       "      <td>1496.000000</td>\n",
       "      <td>1517.000000</td>\n",
       "      <td>2857.0</td>\n",
       "    </tr>\n",
       "    <tr>\n",
       "      <th>revives</th>\n",
       "      <td>0.000000</td>\n",
       "      <td>0.000000</td>\n",
       "      <td>0.0</td>\n",
       "      <td>0.000000</td>\n",
       "      <td>0.000000</td>\n",
       "      <td>0.000000</td>\n",
       "      <td>0.0</td>\n",
       "    </tr>\n",
       "    <tr>\n",
       "      <th>rideDistance</th>\n",
       "      <td>NaN</td>\n",
       "      <td>NaN</td>\n",
       "      <td>0.0</td>\n",
       "      <td>0.000000</td>\n",
       "      <td>0.000000</td>\n",
       "      <td>0.000000</td>\n",
       "      <td>40704.0</td>\n",
       "    </tr>\n",
       "    <tr>\n",
       "      <th>roadKills</th>\n",
       "      <td>0.005113</td>\n",
       "      <td>0.087960</td>\n",
       "      <td>0.0</td>\n",
       "      <td>0.000000</td>\n",
       "      <td>0.000000</td>\n",
       "      <td>0.000000</td>\n",
       "      <td>18.0</td>\n",
       "    </tr>\n",
       "    <tr>\n",
       "      <th>swimDistance</th>\n",
       "      <td>NaN</td>\n",
       "      <td>NaN</td>\n",
       "      <td>0.0</td>\n",
       "      <td>0.000000</td>\n",
       "      <td>0.000000</td>\n",
       "      <td>0.000000</td>\n",
       "      <td>1974.0</td>\n",
       "    </tr>\n",
       "    <tr>\n",
       "      <th>teamKills</th>\n",
       "      <td>0.011487</td>\n",
       "      <td>0.106860</td>\n",
       "      <td>0.0</td>\n",
       "      <td>0.000000</td>\n",
       "      <td>0.000000</td>\n",
       "      <td>0.000000</td>\n",
       "      <td>5.0</td>\n",
       "    </tr>\n",
       "    <tr>\n",
       "      <th>vehicleDestroys</th>\n",
       "      <td>0.004509</td>\n",
       "      <td>0.069601</td>\n",
       "      <td>0.0</td>\n",
       "      <td>0.000000</td>\n",
       "      <td>0.000000</td>\n",
       "      <td>0.000000</td>\n",
       "      <td>5.0</td>\n",
       "    </tr>\n",
       "    <tr>\n",
       "      <th>walkDistance</th>\n",
       "      <td>NaN</td>\n",
       "      <td>NaN</td>\n",
       "      <td>0.0</td>\n",
       "      <td>100.375000</td>\n",
       "      <td>502.750000</td>\n",
       "      <td>1587.000000</td>\n",
       "      <td>25776.0</td>\n",
       "    </tr>\n",
       "    <tr>\n",
       "      <th>weaponsAcquired</th>\n",
       "      <td>3.593992</td>\n",
       "      <td>2.629932</td>\n",
       "      <td>0.0</td>\n",
       "      <td>2.000000</td>\n",
       "      <td>3.000000</td>\n",
       "      <td>5.000000</td>\n",
       "      <td>153.0</td>\n",
       "    </tr>\n",
       "    <tr>\n",
       "      <th>winPoints</th>\n",
       "      <td>557.452163</td>\n",
       "      <td>728.839481</td>\n",
       "      <td>0.0</td>\n",
       "      <td>0.000000</td>\n",
       "      <td>0.000000</td>\n",
       "      <td>1492.000000</td>\n",
       "      <td>1922.0</td>\n",
       "    </tr>\n",
       "    <tr>\n",
       "      <th>winPlacePerc</th>\n",
       "      <td>NaN</td>\n",
       "      <td>0.000000</td>\n",
       "      <td>0.0</td>\n",
       "      <td>0.229248</td>\n",
       "      <td>0.483887</td>\n",
       "      <td>0.747559</td>\n",
       "      <td>1.0</td>\n",
       "    </tr>\n",
       "  </tbody>\n",
       "</table>\n",
       "</div>"
      ],
      "text/plain": [
       "                        mean         std    min          25%          50%  \\\n",
       "assists             0.062236    0.297540    0.0     0.000000     0.000000   \n",
       "boosts              1.059862    1.799456    0.0     0.000000     0.000000   \n",
       "damageDealt              NaN         NaN    0.0     0.000000    74.375000   \n",
       "DBNOs               0.000000    0.000000    0.0     0.000000     0.000000   \n",
       "headshotKills       0.249281    0.660425    0.0     0.000000     0.000000   \n",
       "heals               1.014149    2.406086    0.0     0.000000     0.000000   \n",
       "killPlace          47.457529   27.728956    1.0    23.000000    47.000000   \n",
       "killPoints        447.426431  594.989089    0.0     0.000000     0.000000   \n",
       "kills               0.936860    1.603249    0.0     0.000000     0.000000   \n",
       "killStreaks         0.475054    0.564241    0.0     0.000000     0.000000   \n",
       "longestKill              NaN         NaN    0.0     0.000000     0.000000   \n",
       "matchDuration    1600.651940  257.052724  133.0  1384.000000  1456.000000   \n",
       "maxPlace           93.908900   10.134818    2.0    94.000000    96.000000   \n",
       "numGroups          91.115282   11.436636    1.0    91.000000    93.000000   \n",
       "rankPoints        966.581536  744.319530   -1.0    -1.000000  1496.000000   \n",
       "revives             0.000000    0.000000    0.0     0.000000     0.000000   \n",
       "rideDistance             NaN         NaN    0.0     0.000000     0.000000   \n",
       "roadKills           0.005113    0.087960    0.0     0.000000     0.000000   \n",
       "swimDistance             NaN         NaN    0.0     0.000000     0.000000   \n",
       "teamKills           0.011487    0.106860    0.0     0.000000     0.000000   \n",
       "vehicleDestroys     0.004509    0.069601    0.0     0.000000     0.000000   \n",
       "walkDistance             NaN         NaN    0.0   100.375000   502.750000   \n",
       "weaponsAcquired     3.593992    2.629932    0.0     2.000000     3.000000   \n",
       "winPoints         557.452163  728.839481    0.0     0.000000     0.000000   \n",
       "winPlacePerc             NaN    0.000000    0.0     0.229248     0.483887   \n",
       "\n",
       "                         75%      max  \n",
       "assists             0.000000     22.0  \n",
       "boosts              2.000000     28.0  \n",
       "damageDealt       169.250000   6616.0  \n",
       "DBNOs               0.000000      0.0  \n",
       "headshotKills       0.000000     42.0  \n",
       "heals               1.000000     63.0  \n",
       "killPlace          71.000000    100.0  \n",
       "killPoints       1090.000000   1970.0  \n",
       "kills               1.000000     66.0  \n",
       "killStreaks         1.000000     18.0  \n",
       "longestKill        20.875000   1052.0  \n",
       "matchDuration    1874.000000   2237.0  \n",
       "maxPlace           97.000000    100.0  \n",
       "numGroups          95.000000    100.0  \n",
       "rankPoints       1517.000000   2857.0  \n",
       "revives             0.000000      0.0  \n",
       "rideDistance        0.000000  40704.0  \n",
       "roadKills           0.000000     18.0  \n",
       "swimDistance        0.000000   1974.0  \n",
       "teamKills           0.000000      5.0  \n",
       "vehicleDestroys     0.000000      5.0  \n",
       "walkDistance     1587.000000  25776.0  \n",
       "weaponsAcquired     5.000000    153.0  \n",
       "winPoints        1492.000000   1922.0  \n",
       "winPlacePerc        0.747559      1.0  "
      ]
     },
     "execution_count": 4,
     "metadata": {},
     "output_type": "execute_result"
    }
   ],
   "source": [
    "df_train.describe(include=np.number).drop('count').T"
   ]
  },
  {
   "cell_type": "code",
   "execution_count": null,
   "metadata": {
    "_uuid": "a1a9d5e44694104dde8e86f68fbf63fb36f2d1f7"
   },
   "outputs": [],
   "source": []
  },
  {
   "cell_type": "markdown",
   "metadata": {
    "_uuid": "02f69e978c612811d48c33c993f78a83fd674ce3"
   },
   "source": []
  },
  {
   "cell_type": "code",
   "execution_count": null,
   "metadata": {
    "_uuid": "211bd0d6818d35549ea9cfa1281a0c9685100205"
   },
   "outputs": [],
   "source": []
  },
  {
   "cell_type": "code",
   "execution_count": 5,
   "metadata": {
    "_uuid": "211bd0d6818d35549ea9cfa1281a0c9685100205"
   },
   "outputs": [
    {
     "data": {
      "text/plain": [
       "Series([], dtype: float64)"
      ]
     },
     "execution_count": 5,
     "metadata": {},
     "output_type": "execute_result"
    }
   ],
   "source": [
    "# none of null, inf columns\n",
    "null_columns=df_train.columns[df_train.isin([np.Inf, np.NINF, np.nan]).any()]\n",
    "df_train[null_columns].isnull().sum()"
   ]
  },
  {
   "cell_type": "code",
   "execution_count": 6,
   "metadata": {
    "_uuid": "211bd0d6818d35549ea9cfa1281a0c9685100205"
   },
   "outputs": [],
   "source": [
    "df_train.drop('DBNOs',  axis =1,inplace= True)\n",
    "df_train.drop('revives',  axis =1,inplace= True)"
   ]
  },
  {
   "cell_type": "code",
   "execution_count": null,
   "metadata": {
    "_uuid": "211bd0d6818d35549ea9cfa1281a0c9685100205"
   },
   "outputs": [],
   "source": []
  },
  {
   "cell_type": "code",
   "execution_count": null,
   "metadata": {
    "_uuid": "211bd0d6818d35549ea9cfa1281a0c9685100205"
   },
   "outputs": [],
   "source": []
  },
  {
   "cell_type": "code",
   "execution_count": null,
   "metadata": {
    "_uuid": "211bd0d6818d35549ea9cfa1281a0c9685100205"
   },
   "outputs": [],
   "source": []
  },
  {
   "cell_type": "code",
   "execution_count": null,
   "metadata": {
    "_uuid": "211bd0d6818d35549ea9cfa1281a0c9685100205"
   },
   "outputs": [],
   "source": []
  },
  {
   "cell_type": "code",
   "execution_count": null,
   "metadata": {
    "_uuid": "a2e623cc398629daae7e50177c6ad9af93a78f81"
   },
   "outputs": [],
   "source": []
  },
  {
   "cell_type": "code",
   "execution_count": 46,
   "metadata": {
    "_uuid": "ce3f45773f7d713f6f3cd200cb82bf03c8b29966"
   },
   "outputs": [
    {
     "data": {
      "text/plain": [
       "count    720712.000000\n",
       "mean         93.908900\n",
       "std          10.134818\n",
       "min           2.000000\n",
       "25%          94.000000\n",
       "50%          96.000000\n",
       "75%          97.000000\n",
       "max         100.000000\n",
       "Name: maxPlace, dtype: float64"
      ]
     },
     "execution_count": 46,
     "metadata": {},
     "output_type": "execute_result"
    }
   ],
   "source": [
    "df_train['maxPlace'].describe()"
   ]
  },
  {
   "cell_type": "code",
   "execution_count": 13,
   "metadata": {
    "_kg_hide-input": false,
    "_kg_hide-output": false,
    "_uuid": "63132ae9ef0e3c7835d13b7a913a7905bf3a55cf"
   },
   "outputs": [],
   "source": [
    "# from sklearn.preprocessing import MinMaxScaler\n",
    "\n",
    "def feature_engineering(df, is_train=True):\n",
    "    test_idx = None\n",
    "    if not is_train: \n",
    "        print(\"processing test\")\n",
    "        test_idx = df.Id\n",
    "    else:\n",
    "        print(\"processing train\")\n",
    "    \n",
    "\n",
    "    \n",
    "    print(\"remove some columns\")\n",
    "    target = 'winPlacePerc'\n",
    "    \n",
    "\n",
    "    print(\"Adding Features\")\n",
    "    \n",
    "    df['headshotrate'] = df['kills']/df['headshotKills']\n",
    "    df['killStreakrate'] = df['killStreaks']/df['kills']\n",
    "    df['healthitems'] = df['heals'] + df['boosts']\n",
    "    df['totalDistance'] = df['rideDistance'] + df[\"walkDistance\"] + df[\"swimDistance\"]\n",
    "    df['killPlace_over_maxPlace'] = df['killPlace'] / df['maxPlace']\n",
    "    df['headshotKills_over_kills'] = df['headshotKills'] / df['kills']\n",
    "    df['distance_over_weapons'] = df['totalDistance'] / df['weaponsAcquired']\n",
    "    df['walkDistance_over_heals'] = df['walkDistance'] / df['heals']\n",
    "    df['walkDistance_over_kills'] = df['walkDistance'] / df['kills']\n",
    "    df['killsPerWalkDistance'] = df['kills'] / df['walkDistance']\n",
    "    df['skill'] = df['headshotKills'] + df['roadKills']\n",
    "    \n",
    "    df['totalTimeByDistance'] = df['rideDistance'] / float(5) + df['walkDistance'] + df['swimDistance'] * float(5)\n",
    "    \n",
    "    df['zombi'] = ((df['totalDistance'] == 0) & (df['kills'] == 0)\n",
    "                     & (df['weaponsAcquired'] == 0)).astype(int)\n",
    "    df['cheater'] = ((df['kills'] / df['totalDistance'] >= 1)\n",
    "                       | (df['kills'] > 30) | (df['roadKills'] > 10)).astype(int)\n",
    "\n",
    "    df[df == np.Inf] = np.NaN\n",
    "    df[df == np.NINF] = np.NaN\n",
    "    \n",
    "    print(\"Removing Na's From DF\")\n",
    "    df.fillna(0, inplace=True)\n",
    "\n",
    "    \n",
    "    features = list(df.columns)\n",
    "    features.remove(\"Id\")\n",
    "    features.remove(\"matchId\")\n",
    "    features.remove(\"groupId\")\n",
    "    features.remove(\"matchType\")\n",
    "      \n",
    "    y = None\n",
    "    \n",
    "    \n",
    "    if is_train: \n",
    "        print(\"get target\")\n",
    "        y = np.array(df.groupby(by_team)[target].agg('mean'), dtype=np.float64)\n",
    "    \n",
    "    features.remove(target)\n",
    "\n",
    "    print(\"get group mean feature\")\n",
    "    agg = df.groupby(by_team)[features].agg('mean')\n",
    "    agg_rank = agg.groupby('matchId')[features].rank(pct=True).reset_index()\n",
    "    \n",
    "    if is_train: df_out = agg.reset_index()[by_team]\n",
    "    else: df_out = df[by_team]\n",
    "    \n",
    "    \n",
    "    \n",
    "\n",
    "    df_out = df_out.merge(agg.reset_index(), suffixes=[\"\", \"\"], how='left', on=by_team)\n",
    "    df_out = df_out.merge(agg_rank, suffixes=[\"_mean\", \"_mean_rank\"], how='left', on=by_team)\n",
    "\n",
    "    \n",
    "    \n",
    "    # Важные фичы, поскольку оказывается группа может быть больше 1, хотя соло\n",
    "    \n",
    "#     print(\"get group sum feature\")\n",
    "#     agg = df.groupby(by_team)[features].agg('sum')\n",
    "#     agg_rank = agg.groupby('matchId')[features].rank(pct=True).reset_index()\n",
    "#     df_out = df_out.merge(agg.reset_index(), suffixes=[\"\", \"\"], how='left', on=by_team)\n",
    "#     df_out = df_out.merge(agg_rank, suffixes=[\"_sum\", \"_sum_rank\"], how='left', on=by_team)\n",
    "    \n",
    "    print(\"get group max feature\")\n",
    "    agg = df.groupby(by_team)[features].agg('max')\n",
    "    agg_rank = agg.groupby('matchId')[features].rank(pct=True).reset_index()\n",
    "    df_out = df_out.merge(agg.reset_index(), suffixes=[\"\", \"\"], how='left', on=by_team)\n",
    "    df_out = df_out.merge(agg_rank, suffixes=[\"_max\", \"_max_rank\"], how='left', on=by_team)\n",
    "    \n",
    "    print(\"get group min feature\")\n",
    "    agg = df.groupby(by_team)[features].agg('min')\n",
    "    agg_rank = agg.groupby('matchId')[features].rank(pct=True).reset_index()\n",
    "    df_out = df_out.merge(agg.reset_index(), suffixes=[\"\", \"\"], how='left', on=by_team)\n",
    "    df_out = df_out.merge(agg_rank, suffixes=[\"_min\", \"_min_rank\"], how='left', on=by_team)\n",
    "    \n",
    "    \n",
    "    print(\"get group size feature\")\n",
    "    agg = df.groupby(by_team).size().reset_index(name='group_size')\n",
    "    df_out = df_out.merge(agg, how='left', on=by_team)\n",
    "    \n",
    "    print(\"get match mean feature\")\n",
    "    agg = df.groupby(['matchId'])[features].agg('mean').reset_index()\n",
    "    df_out = df_out.merge(agg, suffixes=[\"\", \"_match_mean\"], how='left', on=['matchId'])\n",
    "    \n",
    "    \n",
    "    print(\"get match size feature\")\n",
    "    agg = df.groupby(['matchId']).size().reset_index(name='match_size')\n",
    "    df_out = df_out.merge(agg, how='left', on=['matchId'])\n",
    "    \n",
    "    df_out.drop(by_team, axis=1, inplace=True)\n",
    "\n",
    "#     scaler = MinMaxScaler()\n",
    "#     scaler.fit(df_out)\n",
    "    X = df_out #scaler.transform(df_out)\n",
    "    \n",
    "    feature_names = list(df_out.columns)\n",
    "\n",
    "    del df, df_out, agg, agg_rank\n",
    "    gc.collect()\n",
    "\n",
    "    return X, y, feature_names, test_idx"
   ]
  },
  {
   "cell_type": "code",
   "execution_count": 14,
   "metadata": {
    "_uuid": "72c26a638c294dc7075eb9e2efd15bf18dae9a97"
   },
   "outputs": [],
   "source": [
    "# X, y, columns, _ = feature_engineering(df_train, True)\n",
    "# X = reduce_mem_usage(X)"
   ]
  },
  {
   "cell_type": "code",
   "execution_count": null,
   "metadata": {
    "_uuid": "13d216b301543836b960c89f030a33512380e5cb"
   },
   "outputs": [],
   "source": []
  },
  {
   "cell_type": "code",
   "execution_count": 15,
   "metadata": {
    "_uuid": "8f1afe29ada6f9f7232c9f4ac690d5577d2ee9de"
   },
   "outputs": [],
   "source": [
    "import random\n",
    "random.seed(random_seed)\n",
    "# ухудшает, потому что этим надо разбивать изначально,а не только обучение\n",
    "\n",
    "def train_test_split_match(df, test_size=0.1):\n",
    "    match_ids = df['matchId'].unique().tolist()\n",
    "    train_size = int(len(match_ids) * (1 - test_size))\n",
    "    train_match_ids = random.sample(match_ids, train_size)\n",
    "\n",
    "    train = df[df['matchId'].isin(train_match_ids)]\n",
    "    test = df[-df['matchId'].isin(train_match_ids)]\n",
    "    \n",
    "    train_y = train['winPlacePerc']\n",
    "    test_y = test['winPlacePerc']\n",
    "    \n",
    "#     train.drop(['matchId','winPlacePerc'] ,  axis =1,inplace= True)\n",
    "#     test.drop(['matchId','winPlacePerc'] ,  axis =1,inplace= True)\n",
    "    \n",
    "    return train, test, train_y, test_y"
   ]
  },
  {
   "cell_type": "code",
   "execution_count": 16,
   "metadata": {
    "_uuid": "0074ed4ba960cde625e75b6549fc8e1e359f8366"
   },
   "outputs": [
    {
     "name": "stdout",
     "output_type": "stream",
     "text": [
      "processing train\n",
      "remove some columns\n",
      "Adding Features\n",
      "Removing Na's From DF\n",
      "get target\n",
      "get group mean feature\n",
      "get group max feature\n",
      "get group min feature\n",
      "get group size feature\n",
      "get match mean feature\n",
      "get match size feature\n",
      "processing test\n",
      "remove some columns\n",
      "Adding Features\n",
      "Removing Na's From DF\n",
      "get group mean feature\n",
      "get group max feature\n",
      "get group min feature\n",
      "get group size feature\n",
      "get match mean feature\n",
      "get match size feature\n",
      "(561836, 254) (62427, 254)\n"
     ]
    }
   ],
   "source": [
    "# X_train, X_holdout, y_train, y_holdout = train_test_split(X, y, test_size=0.1,\n",
    "# random_state=random_seed)\n",
    "\n",
    "import warnings\n",
    "warnings.filterwarnings(\"ignore\")\n",
    "\n",
    "# X_train, X_holdout, y_train, y_holdout = train_test_split(df_train, df_train['winPlacePerc'], test_size=0.1,\n",
    "# random_state=random_seed)\n",
    "\n",
    "X_train, X_holdout, y_train, y_holdout = train_test_split_match(df_train, test_size=0.1)\n",
    "\n",
    "\n",
    "X_train, y_train, columns, _ = feature_engineering(X_train, True)\n",
    "X_train = reduce_mem_usage(X_train)\n",
    "\n",
    "\n",
    "X_holdout, _, _ ,_ = feature_engineering(X_holdout, False)\n",
    "\n",
    "# Да, я тоже тут не прав\n",
    "train_index = round(int(X_train.shape[0]*0.9))\n",
    "dev_X = X_train[:train_index] \n",
    "val_X = X_train[train_index:]\n",
    "dev_y = y_train[:train_index] \n",
    "val_y = y_train[train_index:] \n",
    "gc.collect()\n",
    "\n",
    "gc.collect()\n",
    "print(dev_X.shape, val_X.shape)"
   ]
  },
  {
   "cell_type": "code",
   "execution_count": null,
   "metadata": {
    "_uuid": "0074ed4ba960cde625e75b6549fc8e1e359f8366"
   },
   "outputs": [],
   "source": []
  },
  {
   "cell_type": "code",
   "execution_count": 34,
   "metadata": {
    "_uuid": "f41ab200d51b680f64827113072477ebde71fa5a"
   },
   "outputs": [
    {
     "name": "stdout",
     "output_type": "stream",
     "text": [
      "(624263, 254) (72107, 254)\n"
     ]
    }
   ],
   "source": [
    "print(X_train.shape, X_holdout.shape)"
   ]
  },
  {
   "cell_type": "code",
   "execution_count": 35,
   "metadata": {
    "_uuid": "e8694715025f061b2018348cf5cf20b64b0f78e4"
   },
   "outputs": [
    {
     "name": "stdout",
     "output_type": "stream",
     "text": [
      "lgb_model_long.txt  not found, start train ;-(\n",
      "Training until validation scores don't improve for 500 rounds.\n",
      "[1000]\ttraining's l1: 0.0277705\tvalid_1's l1: 0.0296699\n",
      "[2000]\ttraining's l1: 0.0259441\tvalid_1's l1: 0.0292298\n",
      "[3000]\ttraining's l1: 0.0246271\tvalid_1's l1: 0.0290882\n",
      "[4000]\ttraining's l1: 0.0235468\tvalid_1's l1: 0.029037\n",
      "[5000]\ttraining's l1: 0.0225958\tvalid_1's l1: 0.0290037\n",
      "Early stopping, best iteration is:\n",
      "[5388]\ttraining's l1: 0.0222635\tvalid_1's l1: 0.0289968\n"
     ]
    },
    {
     "data": {
      "text/plain": [
       "226"
      ]
     },
     "execution_count": 35,
     "metadata": {},
     "output_type": "execute_result"
    }
   ],
   "source": [
    "\n",
    "\n",
    "\n",
    "model_name = 'lgb_model_long.txt'\n",
    "\n",
    "def run_lgb(train_X, train_y, val_X, val_y, x_test):\n",
    "    params = {\"objective\" : \"regression\", \"metric\" : \"mae\", 'n_estimators':20000,\n",
    "              'early_stopping_rounds':500,#300\n",
    "              \"num_leaves\" : 31, \"learning_rate\" : 0.05, \"bagging_fraction\" : 0.9,#0.7,\n",
    "               \"bagging_seed\" : 0, \"num_threads\" : 4,\"colsample_bytree\" : 0.9#0.7\n",
    "             }\n",
    "    model = None\n",
    "    \n",
    "    if not os.path.isfile(model_name):\n",
    "        print(model_name, ' not found, start train ;-(')\n",
    "        lgtrain = lgb.Dataset(train_X, label=train_y)\n",
    "        lgval = lgb.Dataset(val_X, label=val_y)\n",
    "        model = lgb.train(params, lgtrain, valid_sets=[lgtrain, lgval], verbose_eval=1000)\n",
    "        model.save_model(model_name)\n",
    "        \n",
    "    else:\n",
    "        print(model_name, ' found, start predict ;-)')\n",
    "        model = lgb.Booster(model_file=model_name)\n",
    "        \n",
    "    \n",
    "    pred_test_y = model.predict(x_test, num_iteration=model.best_iteration)\n",
    "    return pred_test_y, model\n",
    "\n",
    "# Training the model #\n",
    "pred_test, model = run_lgb(dev_X, dev_y, val_X, val_y, X_holdout)\n",
    "gc.collect()"
   ]
  },
  {
   "cell_type": "code",
   "execution_count": 36,
   "metadata": {
    "_uuid": "acb682a17163f709045f79b15f850d847144808a"
   },
   "outputs": [
    {
     "data": {
      "text/html": [
       "<div>\n",
       "<style scoped>\n",
       "    .dataframe tbody tr th:only-of-type {\n",
       "        vertical-align: middle;\n",
       "    }\n",
       "\n",
       "    .dataframe tbody tr th {\n",
       "        vertical-align: top;\n",
       "    }\n",
       "\n",
       "    .dataframe thead th {\n",
       "        text-align: right;\n",
       "    }\n",
       "</style>\n",
       "<table border=\"1\" class=\"dataframe\">\n",
       "  <thead>\n",
       "    <tr style=\"text-align: right;\">\n",
       "      <th></th>\n",
       "      <th>assists_mean</th>\n",
       "      <th>boosts_mean</th>\n",
       "      <th>damageDealt_mean</th>\n",
       "      <th>headshotKills_mean</th>\n",
       "      <th>heals_mean</th>\n",
       "      <th>killPlace_mean</th>\n",
       "      <th>killPoints_mean</th>\n",
       "      <th>kills_mean</th>\n",
       "      <th>killStreaks_mean</th>\n",
       "      <th>longestKill_mean</th>\n",
       "      <th>...</th>\n",
       "      <th>headshotKills_over_kills</th>\n",
       "      <th>distance_over_weapons</th>\n",
       "      <th>walkDistance_over_heals</th>\n",
       "      <th>walkDistance_over_kills</th>\n",
       "      <th>killsPerWalkDistance</th>\n",
       "      <th>skill</th>\n",
       "      <th>totalTimeByDistance</th>\n",
       "      <th>zombi</th>\n",
       "      <th>cheater</th>\n",
       "      <th>match_size</th>\n",
       "    </tr>\n",
       "  </thead>\n",
       "  <tbody>\n",
       "    <tr>\n",
       "      <th>0</th>\n",
       "      <td>0.0</td>\n",
       "      <td>1.0</td>\n",
       "      <td>324.250000</td>\n",
       "      <td>1.0</td>\n",
       "      <td>5.0</td>\n",
       "      <td>5.0</td>\n",
       "      <td>986.0</td>\n",
       "      <td>4.0</td>\n",
       "      <td>1.0</td>\n",
       "      <td>49.84375</td>\n",
       "      <td>...</td>\n",
       "      <td>0.097652</td>\n",
       "      <td>429.908020</td>\n",
       "      <td>247.75</td>\n",
       "      <td>395.00</td>\n",
       "      <td>0.001689</td>\n",
       "      <td>0.237113</td>\n",
       "      <td>1389.0</td>\n",
       "      <td>0.030928</td>\n",
       "      <td>0.0</td>\n",
       "      <td>97</td>\n",
       "    </tr>\n",
       "    <tr>\n",
       "      <th>1</th>\n",
       "      <td>0.0</td>\n",
       "      <td>3.0</td>\n",
       "      <td>254.250000</td>\n",
       "      <td>0.0</td>\n",
       "      <td>12.0</td>\n",
       "      <td>13.0</td>\n",
       "      <td>0.0</td>\n",
       "      <td>2.0</td>\n",
       "      <td>1.0</td>\n",
       "      <td>36.00000</td>\n",
       "      <td>...</td>\n",
       "      <td>0.045015</td>\n",
       "      <td>255.876892</td>\n",
       "      <td>273.75</td>\n",
       "      <td>300.50</td>\n",
       "      <td>0.003794</td>\n",
       "      <td>0.177083</td>\n",
       "      <td>919.0</td>\n",
       "      <td>0.020833</td>\n",
       "      <td>0.0</td>\n",
       "      <td>96</td>\n",
       "    </tr>\n",
       "    <tr>\n",
       "      <th>2</th>\n",
       "      <td>0.0</td>\n",
       "      <td>0.0</td>\n",
       "      <td>17.812500</td>\n",
       "      <td>0.0</td>\n",
       "      <td>0.0</td>\n",
       "      <td>79.0</td>\n",
       "      <td>1274.0</td>\n",
       "      <td>0.0</td>\n",
       "      <td>0.0</td>\n",
       "      <td>0.00000</td>\n",
       "      <td>...</td>\n",
       "      <td>0.104545</td>\n",
       "      <td>672.716797</td>\n",
       "      <td>370.00</td>\n",
       "      <td>442.25</td>\n",
       "      <td>0.000844</td>\n",
       "      <td>0.272727</td>\n",
       "      <td>1705.0</td>\n",
       "      <td>0.040404</td>\n",
       "      <td>0.0</td>\n",
       "      <td>99</td>\n",
       "    </tr>\n",
       "    <tr>\n",
       "      <th>3</th>\n",
       "      <td>0.0</td>\n",
       "      <td>0.0</td>\n",
       "      <td>25.921875</td>\n",
       "      <td>0.0</td>\n",
       "      <td>0.0</td>\n",
       "      <td>86.0</td>\n",
       "      <td>0.0</td>\n",
       "      <td>0.0</td>\n",
       "      <td>0.0</td>\n",
       "      <td>0.00000</td>\n",
       "      <td>...</td>\n",
       "      <td>0.135690</td>\n",
       "      <td>254.033783</td>\n",
       "      <td>264.75</td>\n",
       "      <td>323.75</td>\n",
       "      <td>0.003582</td>\n",
       "      <td>0.268041</td>\n",
       "      <td>852.5</td>\n",
       "      <td>0.041237</td>\n",
       "      <td>0.0</td>\n",
       "      <td>97</td>\n",
       "    </tr>\n",
       "    <tr>\n",
       "      <th>4</th>\n",
       "      <td>0.0</td>\n",
       "      <td>1.0</td>\n",
       "      <td>200.000000</td>\n",
       "      <td>1.0</td>\n",
       "      <td>2.0</td>\n",
       "      <td>22.0</td>\n",
       "      <td>0.0</td>\n",
       "      <td>2.0</td>\n",
       "      <td>1.0</td>\n",
       "      <td>15.84375</td>\n",
       "      <td>...</td>\n",
       "      <td>0.104340</td>\n",
       "      <td>227.767334</td>\n",
       "      <td>269.75</td>\n",
       "      <td>276.25</td>\n",
       "      <td>0.002224</td>\n",
       "      <td>0.239583</td>\n",
       "      <td>764.0</td>\n",
       "      <td>0.031250</td>\n",
       "      <td>0.0</td>\n",
       "      <td>96</td>\n",
       "    </tr>\n",
       "  </tbody>\n",
       "</table>\n",
       "<p>5 rows × 254 columns</p>\n",
       "</div>"
      ],
      "text/plain": [
       "   assists_mean  boosts_mean  damageDealt_mean  headshotKills_mean  \\\n",
       "0           0.0          1.0        324.250000                 1.0   \n",
       "1           0.0          3.0        254.250000                 0.0   \n",
       "2           0.0          0.0         17.812500                 0.0   \n",
       "3           0.0          0.0         25.921875                 0.0   \n",
       "4           0.0          1.0        200.000000                 1.0   \n",
       "\n",
       "   heals_mean  killPlace_mean  killPoints_mean  kills_mean  killStreaks_mean  \\\n",
       "0         5.0             5.0            986.0         4.0               1.0   \n",
       "1        12.0            13.0              0.0         2.0               1.0   \n",
       "2         0.0            79.0           1274.0         0.0               0.0   \n",
       "3         0.0            86.0              0.0         0.0               0.0   \n",
       "4         2.0            22.0              0.0         2.0               1.0   \n",
       "\n",
       "   longestKill_mean     ...      headshotKills_over_kills  \\\n",
       "0          49.84375     ...                      0.097652   \n",
       "1          36.00000     ...                      0.045015   \n",
       "2           0.00000     ...                      0.104545   \n",
       "3           0.00000     ...                      0.135690   \n",
       "4          15.84375     ...                      0.104340   \n",
       "\n",
       "   distance_over_weapons  walkDistance_over_heals  walkDistance_over_kills  \\\n",
       "0             429.908020                   247.75                   395.00   \n",
       "1             255.876892                   273.75                   300.50   \n",
       "2             672.716797                   370.00                   442.25   \n",
       "3             254.033783                   264.75                   323.75   \n",
       "4             227.767334                   269.75                   276.25   \n",
       "\n",
       "   killsPerWalkDistance     skill  totalTimeByDistance     zombi  cheater  \\\n",
       "0              0.001689  0.237113               1389.0  0.030928      0.0   \n",
       "1              0.003794  0.177083                919.0  0.020833      0.0   \n",
       "2              0.000844  0.272727               1705.0  0.040404      0.0   \n",
       "3              0.003582  0.268041                852.5  0.041237      0.0   \n",
       "4              0.002224  0.239583                764.0  0.031250      0.0   \n",
       "\n",
       "   match_size  \n",
       "0          97  \n",
       "1          96  \n",
       "2          99  \n",
       "3          97  \n",
       "4          96  \n",
       "\n",
       "[5 rows x 254 columns]"
      ]
     },
     "execution_count": 36,
     "metadata": {},
     "output_type": "execute_result"
    }
   ],
   "source": [
    "pred_y = pred_test.copy()\n",
    "df_sub = X_holdout.copy()\n",
    "gc.collect()\n",
    "df_sub.head()"
   ]
  },
  {
   "cell_type": "code",
   "execution_count": 38,
   "metadata": {
    "_uuid": "64a0a4288d0f91ba6f71adac289810794fff5e11"
   },
   "outputs": [
    {
     "name": "stdout",
     "output_type": "stream",
     "text": [
      "MAE:  0.02856782848780568\n",
      "MSE:  0.0017420440541760455\n"
     ]
    }
   ],
   "source": [
    "print(\"MAE: \",\n",
    "mean_absolute_error(y_holdout, pred_y) )\n",
    "\n",
    "print(\"MSE: \",\n",
    "mean_squared_error(y_holdout, pred_y))"
   ]
  },
  {
   "cell_type": "markdown",
   "metadata": {
    "_uuid": "64a0a4288d0f91ba6f71adac289810794fff5e11"
   },
   "source": [
    "MAE:  0.02856782848780568\n",
    "MSE:  0.0017420440541760455\n",
    "\n",
    "MAE:  0.04148302305808674\n",
    "MSE:  0.003809335695206919"
   ]
  },
  {
   "cell_type": "code",
   "execution_count": 39,
   "metadata": {
    "_uuid": "64a0a4288d0f91ba6f71adac289810794fff5e11"
   },
   "outputs": [
    {
     "name": "stdout",
     "output_type": "stream",
     "text": [
      "MAE:  0.028296510609863976\n",
      "MSE:  0.0017524940919096165\n"
     ]
    }
   ],
   "source": [
    "def fix_pred(X, pred):\n",
    "    df_sub = X.copy()\n",
    "    df_sub['winPlacePerc'] = pred\n",
    "    df_sub.loc[df_sub.maxPlace == 0, \"winPlacePerc\"] = 0\n",
    "    df_sub.loc[df_sub.maxPlace == 1, \"winPlacePerc\"] = 1\n",
    "    df_sub.loc[(df_sub['maxPlace'] > 1) & (df_sub['numGroups'] == 1), 'winPlacePerc'] = 0\n",
    "    subset = df_sub.loc[df_sub.maxPlace > 1]\n",
    "    gap = 1.0 / (subset.maxPlace.values - 1)\n",
    "    new_perc = np.around(subset.winPlacePerc.values / gap) * gap\n",
    "    df_sub.loc[df_sub.maxPlace > 1, \"winPlacePerc\"] = new_perc\n",
    "    return df_sub[\"winPlacePerc\"]\n",
    "\n",
    "light_fix_pred = fix_pred(df_sub, pred_test)\n",
    "\n",
    "print(\"MAE: \",\n",
    "mean_absolute_error(y_holdout, light_fix_pred) )\n",
    "\n",
    "print(\"MSE: \",\n",
    "mean_squared_error(y_holdout, light_fix_pred))"
   ]
  },
  {
   "cell_type": "markdown",
   "metadata": {
    "_uuid": "64a0a4288d0f91ba6f71adac289810794fff5e11"
   },
   "source": [
    "MAE:  0.04126190270820107\n",
    "MSE:  0.00381583213713465"
   ]
  },
  {
   "cell_type": "markdown",
   "metadata": {
    "_uuid": "64a0a4288d0f91ba6f71adac289810794fff5e11"
   },
   "source": []
  },
  {
   "cell_type": "code",
   "execution_count": null,
   "metadata": {
    "_uuid": "64a0a4288d0f91ba6f71adac289810794fff5e11"
   },
   "outputs": [],
   "source": []
  },
  {
   "cell_type": "markdown",
   "metadata": {
    "_uuid": "64a0a4288d0f91ba6f71adac289810794fff5e11"
   },
   "source": []
  },
  {
   "cell_type": "code",
   "execution_count": 57,
   "metadata": {
    "_uuid": "64a0a4288d0f91ba6f71adac289810794fff5e11"
   },
   "outputs": [],
   "source": [
    "fi = model.feature_importance(importance_type='gain')\n",
    "fn = model.feature_name()\n",
    "fi = fi / fi.max() * 100"
   ]
  },
  {
   "cell_type": "code",
   "execution_count": 58,
   "metadata": {
    "_uuid": "64a0a4288d0f91ba6f71adac289810794fff5e11"
   },
   "outputs": [
    {
     "data": {
      "text/plain": [
       "<matplotlib.axes._subplots.AxesSubplot at 0x11b7f36a0>"
      ]
     },
     "execution_count": 58,
     "metadata": {},
     "output_type": "execute_result"
    },
    {
     "data": {
      "image/png": "[encoded data removed]",
      "text/plain": [
       "<Figure size 864x864 with 1 Axes>"
      ]
     },
     "metadata": {
      "needs_background": "light"
     },
     "output_type": "display_data"
    }
   ],
   "source": [
    "feat_importances = pd.Series(fi, index=fn)\n",
    "feat_importances.nlargest(30).plot(kind='barh', figsize=(12,12))"
   ]
  },
  {
   "cell_type": "code",
   "execution_count": 59,
   "metadata": {
    "_uuid": "7925d2035b218620d1fdcbaf6eeb8be996bf1256"
   },
   "outputs": [
    {
     "data": {
      "text/plain": [
       "<matplotlib.axes._subplots.AxesSubplot at 0x118f276a0>"
      ]
     },
     "execution_count": 59,
     "metadata": {},
     "output_type": "execute_result"
    },
    {
     "data": {
      "image/png": "[encoded data removed]",
      "text/plain": [
       "<Figure size 864x864 with 1 Axes>"
      ]
     },
     "metadata": {
      "needs_background": "light"
     },
     "output_type": "display_data"
    }
   ],
   "source": [
    "feat_importances.nsmallest(30).plot(kind='barh', figsize=(12,12))"
   ]
  },
  {
   "cell_type": "markdown",
   "metadata": {
    "_uuid": "b15b5f89db07f2fafcff01a94789954e82463671"
   },
   "source": []
  },
  {
   "cell_type": "markdown",
   "metadata": {
    "_uuid": "a09e20008867f5c906e39f6e7f4bd1717a37fd2f"
   },
   "source": [
    "# Test CatBoost"
   ]
  },
  {
   "cell_type": "code",
   "execution_count": 35,
   "metadata": {
    "_uuid": "13a636268caf6b116d1d4198fc278b1be59bffa8"
   },
   "outputs": [],
   "source": [
    "import catboost\n",
    "from catboost import CatBoostRegressor\n",
    "\n",
    "cat_model_name = 'new_cat_model.txt'\n",
    "def run_catboost(X_train, y_train, X_val, y_val, X_test):\n",
    "    model = None\n",
    "    \n",
    "    \n",
    "    \n",
    "    if not os.path.isfile(cat_model_name):\n",
    "        print(cat_model_name, ' not found, start train ;-(')\n",
    "        model = CatBoostRegressor(iterations=1500,\n",
    "                             learning_rate=0.05,\n",
    "                             depth=13,\n",
    "                             eval_metric='MAE',\n",
    "                              \n",
    "                             bootstrap_type='Bayesian',\n",
    "                             bagging_temperature = 0.4,\n",
    "                             colsample_bylevel=0.9,\n",
    "\n",
    "                             od_type='Iter',\n",
    "\n",
    "                             od_wait=20)\n",
    "        model.fit(X_train, y_train,\n",
    "              eval_set=(X_val, y_val),\n",
    "              use_best_model=True,\n",
    "              verbose=False)\n",
    "        model.save_model(cat_model_name)\n",
    "        \n",
    "    else:\n",
    "        print(cat_model_name, ' found, start predict ;-)')\n",
    "        model = CatBoostRegressor()\n",
    "        model.load_model(cat_model_name)\n",
    "    \n",
    "    \n",
    "    \n",
    "    \n",
    "    y_pred_submit = model.predict(X_test)\n",
    "\n",
    "    return y_pred_submit, model"
   ]
  },
  {
   "cell_type": "code",
   "execution_count": 36,
   "metadata": {
    "_uuid": "0acffc6accbe7cd10bfa197582a86cd5afde0480"
   },
   "outputs": [
    {
     "name": "stdout",
     "output_type": "stream",
     "text": [
      "new_cat_model.txt  found, start predict ;-)\n"
     ]
    },
    {
     "data": {
      "text/plain": [
       "0"
      ]
     },
     "execution_count": 36,
     "metadata": {},
     "output_type": "execute_result"
    }
   ],
   "source": [
    "cat_preds, cat_model = run_catboost(dev_X, dev_y, val_X, val_y, X_holdout)\n",
    "gc.collect()\n"
   ]
  },
  {
   "cell_type": "code",
   "execution_count": 37,
   "metadata": {
    "_uuid": "f89460f457a4f8876b868dfb50756d3fa2b740c6"
   },
   "outputs": [
    {
     "name": "stdout",
     "output_type": "stream",
     "text": [
      "MAE:  0.03930947714587424\n",
      "MSE:  0.003449869912570009\n"
     ]
    }
   ],
   "source": [
    "print(\"MAE: \",\n",
    "mean_absolute_error(y_holdout, cat_preds) )\n",
    "\n",
    "print(\"MSE: \",\n",
    "mean_squared_error(y_holdout, cat_preds))"
   ]
  },
  {
   "cell_type": "code",
   "execution_count": null,
   "metadata": {
    "_uuid": "8672bb977d34c4e3ca8b68da621c34d13e144c17"
   },
   "outputs": [],
   "source": [
    "MAE:  0.03930947714587424\n",
    "MSE:  0.003449869912570009\n",
    "    \n",
    "MAE:  0.03935530079373704\n",
    "MSE:  0.003452247054532898\n",
    "    \n",
    "MAE:  0.03937937994147074\n",
    "MSE:  0.003442165049903201\n",
    "    \n",
    "MAE:  0.03985730187929903\n",
    "MSE:  0.0035289553600514898\n",
    "    \n",
    "MAE:  0.039967249401811435\n",
    "MSE:  0.0035292414797628764\n",
    "    \n",
    "MAE:  0.040002110668519705\n",
    "MSE:  0.0035109118428077045\n",
    "    \n",
    "MAE:  0.04018625081067348\n",
    "MSE:  0.0035448821657998275"
   ]
  },
  {
   "cell_type": "code",
   "execution_count": 64,
   "metadata": {},
   "outputs": [],
   "source": [
    "cat_fi = cat_model.get_feature_importance(fstr_type='FeatureImportance')\n",
    "cat_fn = cat_model.feature_names_\n",
    "cat_fi = cat_fi\n"
   ]
  },
  {
   "cell_type": "code",
   "execution_count": 65,
   "metadata": {},
   "outputs": [
    {
     "data": {
      "text/plain": [
       "<matplotlib.axes._subplots.AxesSubplot at 0x11b5f7d68>"
      ]
     },
     "execution_count": 65,
     "metadata": {},
     "output_type": "execute_result"
    },
    {
     "data": {
      "image/png": "[encoded data removed]",
      "text/plain": [
       "<Figure size 864x864 with 1 Axes>"
      ]
     },
     "metadata": {
      "needs_background": "light"
     },
     "output_type": "display_data"
    }
   ],
   "source": [
    "cat_feat_importances = pd.Series(cat_fi, index=cat_fn)\n",
    "cat_feat_importances.nlargest(50).plot(kind='barh', figsize=(12,12))"
   ]
  },
  {
   "cell_type": "markdown",
   "metadata": {},
   "source": [
    "# Random forest\n",
    "<!--https://www.kaggle.com/pavelvpster/pubg-random-forest-baseline !-->"
   ]
  },
  {
   "cell_type": "code",
   "execution_count": 14,
   "metadata": {},
   "outputs": [],
   "source": [
    "from sklearn.ensemble import RandomForestRegressor\n",
    "# X_train, X_holdout, y_train, y_holdout \n",
    "rf = RandomForestRegressor(n_estimators=3000, criterion='mse',max_depth=6,\n",
    "                           min_samples_leaf=3, max_features='sqrt',\n",
    "                           n_jobs=-1, verbose=True)\n",
    "rf.fit(X_train, y_train)"
   ]
  },
  {
   "cell_type": "code",
   "execution_count": 14,
   "metadata": {},
   "outputs": [
    {
     "name": "stderr",
     "output_type": "stream",
     "text": [
      "[Parallel(n_jobs=-1)]: Done  42 tasks      | elapsed:   15.3s\n",
      "[Parallel(n_jobs=-1)]: Done 192 tasks      | elapsed:  1.0min\n",
      "[Parallel(n_jobs=-1)]: Done 442 tasks      | elapsed:  2.0min\n",
      "[Parallel(n_jobs=-1)]: Done 792 tasks      | elapsed:  3.3min\n",
      "[Parallel(n_jobs=-1)]: Done 1242 tasks      | elapsed:  4.9min\n",
      "[Parallel(n_jobs=-1)]: Done 1792 tasks      | elapsed:  7.1min\n",
      "[Parallel(n_jobs=-1)]: Done 2442 tasks      | elapsed:  9.7min\n",
      "[Parallel(n_jobs=-1)]: Done 3000 out of 3000 | elapsed: 11.8min finished\n",
      "[Parallel(n_jobs=4)]: Done  42 tasks      | elapsed:    0.1s\n",
      "[Parallel(n_jobs=4)]: Done 192 tasks      | elapsed:    0.2s\n",
      "[Parallel(n_jobs=4)]: Done 442 tasks      | elapsed:    0.5s\n",
      "[Parallel(n_jobs=4)]: Done 792 tasks      | elapsed:    0.9s\n",
      "[Parallel(n_jobs=4)]: Done 1242 tasks      | elapsed:    1.5s\n",
      "[Parallel(n_jobs=4)]: Done 1792 tasks      | elapsed:    2.1s\n",
      "[Parallel(n_jobs=4)]: Done 2442 tasks      | elapsed:    2.9s\n",
      "[Parallel(n_jobs=4)]: Done 3000 out of 3000 | elapsed:    3.6s finished\n"
     ]
    }
   ],
   "source": [
    "rf_y_pred = rf.predict(X_holdout)"
   ]
  },
  {
   "cell_type": "code",
   "execution_count": 28,
   "metadata": {},
   "outputs": [
    {
     "name": "stdout",
     "output_type": "stream",
     "text": [
      "MAE:  0.06138763809018693\n",
      "MSE:  0.007488019050449579\n"
     ]
    }
   ],
   "source": [
    "print(\"MAE: \",\n",
    "mean_absolute_error(y_holdout, rf_y_pred) )\n",
    "\n",
    "print(\"MSE: \",\n",
    "mean_squared_error(y_holdout, rf_y_pred))"
   ]
  },
  {
   "cell_type": "markdown",
   "metadata": {},
   "source": [
    "MAE:  0.06138763809018693 <br>\n",
    "MSE:  0.007488019050449579 <br>\n",
    "неплохо, но lightgbm лучше"
   ]
  },
  {
   "cell_type": "code",
   "execution_count": 66,
   "metadata": {},
   "outputs": [],
   "source": [
    "rf_fi = rf.feature_importances_\n",
    "rf_fn = X_train.columns"
   ]
  },
  {
   "cell_type": "code",
   "execution_count": 67,
   "metadata": {},
   "outputs": [
    {
     "data": {
      "text/plain": [
       "<matplotlib.axes._subplots.AxesSubplot at 0x118170eb8>"
      ]
     },
     "execution_count": 67,
     "metadata": {},
     "output_type": "execute_result"
    },
    {
     "data": {
      "image/png": "[encoded data removed]",
      "text/plain": [
       "<Figure size 864x864 with 1 Axes>"
      ]
     },
     "metadata": {
      "needs_background": "light"
     },
     "output_type": "display_data"
    }
   ],
   "source": [
    "rf_feat_importances = pd.Series(rf_fi, index=rf_fn)\n",
    "rf_feat_importances.nlargest(50).plot(kind='barh', figsize=(12,12))"
   ]
  },
  {
   "cell_type": "markdown",
   "metadata": {},
   "source": [
    "# xgboost"
   ]
  },
  {
   "cell_type": "code",
   "execution_count": 22,
   "metadata": {},
   "outputs": [],
   "source": [
    "import xgboost"
   ]
  },
  {
   "cell_type": "code",
   "execution_count": 40,
   "metadata": {},
   "outputs": [
    {
     "name": "stdout",
     "output_type": "stream",
     "text": [
      "[790]\tvalidation_0-mae:0.029152\n",
      "[791]\tvalidation_0-mae:0.029151\n",
      "[792]\tvalidation_0-mae:0.029151\n",
      "[793]\tvalidation_0-mae:0.029151\n",
      "[794]\tvalidation_0-mae:0.029152\n",
      "[795]\tvalidation_0-mae:0.029152\n",
      "[796]\tvalidation_0-mae:0.029151\n",
      "[797]\tvalidation_0-mae:0.029151\n",
      "[798]\tvalidation_0-mae:0.029151\n",
      "[799]\tvalidation_0-mae:0.029151\n",
      "[800]\tvalidation_0-mae:0.02915\n",
      "[801]\tvalidation_0-mae:0.02915\n",
      "[802]\tvalidation_0-mae:0.02915\n",
      "[803]\tvalidation_0-mae:0.02915\n",
      "[804]\tvalidation_0-mae:0.02915\n",
      "[805]\tvalidation_0-mae:0.029149\n",
      "[806]\tvalidation_0-mae:0.029149\n",
      "[807]\tvalidation_0-mae:0.02915\n",
      "[808]\tvalidation_0-mae:0.029149\n",
      "[809]\tvalidation_0-mae:0.029149\n",
      "[810]\tvalidation_0-mae:0.029148\n",
      "[811]\tvalidation_0-mae:0.029148\n",
      "[812]\tvalidation_0-mae:0.029148\n",
      "[813]\tvalidation_0-mae:0.029149\n",
      "[814]\tvalidation_0-mae:0.029149\n",
      "[815]\tvalidation_0-mae:0.029149\n",
      "[816]\tvalidation_0-mae:0.029148\n",
      "[817]\tvalidation_0-mae:0.029148\n",
      "[818]\tvalidation_0-mae:0.029148\n",
      "[819]\tvalidation_0-mae:0.029148\n",
      "[820]\tvalidation_0-mae:0.029148\n",
      "[821]\tvalidation_0-mae:0.029148\n",
      "[822]\tvalidation_0-mae:0.029149\n",
      "[823]\tvalidation_0-mae:0.029149\n",
      "[824]\tvalidation_0-mae:0.029148\n",
      "[825]\tvalidation_0-mae:0.029148\n",
      "[826]\tvalidation_0-mae:0.029149\n",
      "[827]\tvalidation_0-mae:0.029149\n",
      "[828]\tvalidation_0-mae:0.02915\n",
      "[829]\tvalidation_0-mae:0.02915\n",
      "[830]\tvalidation_0-mae:0.029149\n",
      "[831]\tvalidation_0-mae:0.029149\n",
      "[832]\tvalidation_0-mae:0.029149\n",
      "[833]\tvalidation_0-mae:0.02915\n",
      "[834]\tvalidation_0-mae:0.029148\n",
      "[835]\tvalidation_0-mae:0.029149\n",
      "[836]\tvalidation_0-mae:0.02915\n",
      "[837]\tvalidation_0-mae:0.029149\n",
      "[838]\tvalidation_0-mae:0.029149\n",
      "[839]\tvalidation_0-mae:0.029149\n",
      "[840]\tvalidation_0-mae:0.029149\n",
      "[841]\tvalidation_0-mae:0.02915\n",
      "[842]\tvalidation_0-mae:0.02915\n",
      "[843]\tvalidation_0-mae:0.02915\n",
      "[844]\tvalidation_0-mae:0.02915\n",
      "[845]\tvalidation_0-mae:0.02915\n",
      "[846]\tvalidation_0-mae:0.029149\n",
      "[847]\tvalidation_0-mae:0.02915\n",
      "[848]\tvalidation_0-mae:0.02915\n",
      "[849]\tvalidation_0-mae:0.029148\n",
      "[850]\tvalidation_0-mae:0.029149\n",
      "[851]\tvalidation_0-mae:0.029148\n",
      "[852]\tvalidation_0-mae:0.029147\n",
      "[853]\tvalidation_0-mae:0.029147\n",
      "[854]\tvalidation_0-mae:0.029147\n",
      "[855]\tvalidation_0-mae:0.029147\n",
      "[856]\tvalidation_0-mae:0.029147\n",
      "[857]\tvalidation_0-mae:0.029148\n",
      "[858]\tvalidation_0-mae:0.029148\n",
      "[859]\tvalidation_0-mae:0.029148\n",
      "[860]\tvalidation_0-mae:0.029148\n",
      "[861]\tvalidation_0-mae:0.029149\n",
      "[862]\tvalidation_0-mae:0.029149\n",
      "[863]\tvalidation_0-mae:0.029148\n",
      "[864]\tvalidation_0-mae:0.029148\n",
      "[865]\tvalidation_0-mae:0.029148\n",
      "[866]\tvalidation_0-mae:0.029148\n",
      "[867]\tvalidation_0-mae:0.029148\n",
      "[868]\tvalidation_0-mae:0.029148\n",
      "[869]\tvalidation_0-mae:0.029148\n",
      "[870]\tvalidation_0-mae:0.029148\n",
      "[871]\tvalidation_0-mae:0.029149\n",
      "[872]\tvalidation_0-mae:0.029148\n",
      "[873]\tvalidation_0-mae:0.029148\n",
      "[874]\tvalidation_0-mae:0.029147\n",
      "Stopping. Best iteration:\n",
      "[674]\tvalidation_0-mae:0.029146\n",
      "\n"
     ]
    }
   ],
   "source": [
    "xgb_model_name = 'xgb_long'\n",
    "xgb = xgboost.XGBRegressor(\n",
    "    n_estimators=3000,#1650,\n",
    "    max_depth=11,\n",
    "    disable_default_eval_metric=1,\n",
    "    \n",
    "    subsample=0.9,\n",
    "    colsample_bytree=0.9,\n",
    "    learning_rate=0.05,\n",
    "    n_jobs=4)\n",
    "if not os.path.isfile(xgb_model_name):\n",
    "    xgb.fit(dev_X, dev_y,\n",
    "            eval_set=[(val_X, val_y)], eval_metric='mae',\n",
    "            early_stopping_rounds=200)#100)\n",
    "    xgb.save_model(xgb_model_name)\n",
    "else:\n",
    "    xgb.load_model(xgb_model_name)"
   ]
  },
  {
   "cell_type": "code",
   "execution_count": 41,
   "metadata": {},
   "outputs": [],
   "source": [
    "xgb_y_pred = xgb.predict(X_holdout)"
   ]
  },
  {
   "cell_type": "code",
   "execution_count": 42,
   "metadata": {},
   "outputs": [
    {
     "name": "stdout",
     "output_type": "stream",
     "text": [
      "MAE:  0.028687226\n",
      "MSE:  0.0017929296\n",
      "MAE:  0.02846120512749597\n"
     ]
    }
   ],
   "source": [
    "print(\"MAE: \",\n",
    "mean_absolute_error(y_holdout, xgb_y_pred) )\n",
    "\n",
    "print(\"MSE: \",\n",
    "mean_squared_error(y_holdout, xgb_y_pred))\n",
    "\n",
    "print(\"MAE: \",\n",
    "mean_absolute_error(y_holdout, fix_pred(df_sub,xgb_y_pred)) )\n"
   ]
  },
  {
   "cell_type": "markdown",
   "metadata": {},
   "source": [
    "MAE:  0.028687226\n",
    "MSE:  0.0017929296\n",
    "MAE:  0.02846120512749597\n",
    "\n",
    "\n",
    "MAE:  0.041357085\n",
    "MSE:  0.0038705154"
   ]
  },
  {
   "cell_type": "code",
   "execution_count": 30,
   "metadata": {},
   "outputs": [
    {
     "name": "stdout",
     "output_type": "stream",
     "text": [
      "MAE:  0.028092680252812082\n",
      "MSE:  0.0017405353407301152\n"
     ]
    }
   ],
   "source": [
    "xgb_cat_light_rf = (0.55*fix_pred(df_sub,xgb_y_pred) +  0.45*fix_pred(df_sub,pred_y)) \n",
    "xgb_cat_light_rf = fix_pred(df_sub, xgb_cat_light_rf)\n",
    "\n",
    "xgb_cat_light_rf[xgb_cat_light_rf > 1] = 1.0\n",
    "xgb_cat_light_rf[xgb_cat_light_rf < 0] = 0.0\n",
    "\n",
    "print(\"MAE: \",\n",
    "mean_absolute_error(y_holdout, xgb_cat_light_rf) )\n",
    "\n",
    "print(\"MSE: \",\n",
    "mean_squared_error(y_holdout, xgb_cat_light_rf))"
   ]
  },
  {
   "cell_type": "markdown",
   "metadata": {},
   "source": [
    "MAE:  0.04086364367494448\n",
    "MSE:  0.0037856299086122176"
   ]
  },
  {
   "cell_type": "markdown",
   "metadata": {},
   "source": []
  },
  {
   "cell_type": "code",
   "execution_count": 69,
   "metadata": {},
   "outputs": [],
   "source": [
    "xgb_fi = xgb.feature_importances_\n",
    "xgb_fn = X_train.columns"
   ]
  },
  {
   "cell_type": "code",
   "execution_count": 70,
   "metadata": {},
   "outputs": [
    {
     "data": {
      "text/plain": [
       "<matplotlib.axes._subplots.AxesSubplot at 0x11b661a58>"
      ]
     },
     "execution_count": 70,
     "metadata": {},
     "output_type": "execute_result"
    },
    {
     "data": {
      "image/png": "[encoded data removed]",
      "text/plain": [
       "<Figure size 864x864 with 1 Axes>"
      ]
     },
     "metadata": {
      "needs_background": "light"
     },
     "output_type": "display_data"
    }
   ],
   "source": [
    "xgb_feat_importances = pd.Series(xgb_fi, index=xgb_fn)\n",
    "xgb_feat_importances.nlargest(50).plot(kind='barh', figsize=(12,12))"
   ]
  },
  {
   "cell_type": "code",
   "execution_count": null,
   "metadata": {},
   "outputs": [],
   "source": []
  },
  {
   "cell_type": "code",
   "execution_count": 39,
   "metadata": {},
   "outputs": [
    {
     "name": "stdout",
     "output_type": "stream",
     "text": [
      "MAE:  0.039335084236231665\n",
      "MSE:  0.0034336351784353255\n"
     ]
    }
   ],
   "source": [
    "xgb_cat_light = (xgb_y_pred + cat_preds + pred_y) / float(3)\n",
    "print(\"MAE: \",\n",
    "mean_absolute_error(y_holdout, xgb_cat_light) )\n",
    "\n",
    "print(\"MSE: \",\n",
    "mean_squared_error(y_holdout, xgb_cat_light))"
   ]
  },
  {
   "cell_type": "code",
   "execution_count": 56,
   "metadata": {},
   "outputs": [
    {
     "name": "stdout",
     "output_type": "stream",
     "text": [
      "MAE:  0.03832647266547806\n",
      "MSE:  0.003340634585247405\n"
     ]
    }
   ],
   "source": [
    "xgb_cat_light_rf = (0.1*xgb_y_pred + 0.05*cat_preds + 0.8*pred_y + 0.05*rf_y_pred) \n",
    "xgb_cat_light_rf = fix_pred(df_sub, xgb_cat_light_rf)\n",
    "print(\"MAE: \",\n",
    "mean_absolute_error(y_holdout, xgb_cat_light_rf) )\n",
    "\n",
    "print(\"MSE: \",\n",
    "mean_squared_error(y_holdout, xgb_cat_light_rf))"
   ]
  },
  {
   "cell_type": "code",
   "execution_count": 51,
   "metadata": {},
   "outputs": [
    {
     "name": "stdout",
     "output_type": "stream",
     "text": [
      "MAE:  0.039638326495077626\n",
      "MSE:  0.003517461499637793\n",
      "next\n",
      "MAE:  0.039098391076763314\n",
      "MSE:  0.0034593380562781928\n",
      "next\n",
      "MAE:  0.03808892469893492\n",
      "MSE:  0.003330110665318027\n",
      "next\n",
      "MAE:  0.06105763426800979\n",
      "MSE:  0.00744968323596438\n",
      "next\n",
      "MAE:  0.03919013169283027\n",
      "MSE:  0.003452454794245993\n",
      "next\n",
      "MAE:  0.038550136624131495\n",
      "MSE:  0.003361142035981372\n",
      "next\n",
      "MAE:  0.047136721207305755\n",
      "MSE:  0.004572913990309611\n",
      "next\n",
      "MAE:  0.0383415197429545\n",
      "MSE:  0.0033509825183464224\n",
      "next\n",
      "MAE:  0.046614265109462566\n",
      "MSE:  0.004482858995409761\n",
      "next\n",
      "MAE:  0.04595947049671547\n",
      "MSE:  0.0043680269111420165\n",
      "next\n",
      "MAE:  0.03856098344320775\n",
      "MSE:  0.0033657636772207703\n",
      "next\n",
      "MAE:  0.04329008508751715\n",
      "MSE:  0.003955940407203503\n",
      "next\n",
      "MAE:  0.04281248898249299\n",
      "MSE:  0.0038718685824693138\n",
      "next\n",
      "MAE:  0.042541527755996435\n",
      "MSE:  0.0038360855412869575\n",
      "next\n",
      "Best MAE:  0.03808892469893492\n"
     ]
    }
   ],
   "source": [
    "import itertools\n",
    "all_pred = [fix_pred(df_sub, xgb_y_pred) , fix_pred(df_sub, cat_preds) ,\n",
    "            fix_pred(df_sub,pred_y), fix_pred(df_sub,rf_y_pred)]\n",
    "\n",
    "perms = [x for l in range(1, len(all_pred)) for x in itertools.combinations(all_pred, l)]\n",
    "\n",
    "best_mae = 99\n",
    "for p in perms:\n",
    "    pred = sum(p) / len(p)\n",
    "    \n",
    "    pred = fix_pred(df_sub,pred)\n",
    "    mae = mean_absolute_error(y_holdout, pred)\n",
    "    print(\"MAE: \",\n",
    "     mae)\n",
    "    if mae < best_mae:\n",
    "        best_mae = mae\n",
    "\n",
    "    print(\"MSE: \",\n",
    "    mean_squared_error(y_holdout, pred))\n",
    "    print('next')\n",
    "    \n",
    "print(\"Best MAE: \",\n",
    "     best_mae)"
   ]
  },
  {
   "cell_type": "code",
   "execution_count": 43,
   "metadata": {},
   "outputs": [
    {
     "name": "stdout",
     "output_type": "stream",
     "text": [
      "MAE:  0.028092680252812082\n",
      "MSE:  0.0017405353407301152\n"
     ]
    }
   ],
   "source": [
    "xgb_cat_light_rf = (0.55*fix_pred(df_sub,xgb_y_pred) +  0.45*fix_pred(df_sub,pred_y)) \n",
    "xgb_cat_light_rf = fix_pred(df_sub, xgb_cat_light_rf)\n",
    "\n",
    "xgb_cat_light_rf[xgb_cat_light_rf > 1] = 1.0\n",
    "xgb_cat_light_rf[xgb_cat_light_rf < 0] = 0.0\n",
    "\n",
    "print(\"MAE: \",\n",
    "mean_absolute_error(y_holdout, xgb_cat_light_rf) )\n",
    "\n",
    "print(\"MSE: \",\n",
    "mean_squared_error(y_holdout, xgb_cat_light_rf))"
   ]
  },
  {
   "cell_type": "code",
   "execution_count": null,
   "metadata": {},
   "outputs": [],
   "source": []
  }
 ],
 "metadata": {
  "kernelspec": {
   "display_name": "Python 3",
   "language": "python",
   "name": "python3"
  },
  "language_info": {
   "codemirror_mode": {
    "name": "ipython",
    "version": 3
   },
   "file_extension": ".py",
   "mimetype": "text/x-python",
   "name": "python",
   "nbconvert_exporter": "python",
   "pygments_lexer": "ipython3",
   "version": "3.7.0"
  }
 },
 "nbformat": 4,
 "nbformat_minor": 2
}
