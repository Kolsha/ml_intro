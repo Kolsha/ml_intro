{
 "cells": [
  {
   "cell_type": "code",
   "execution_count": 1,
   "metadata": {
    "_cell_guid": "b1076dfc-b9ad-4769-8c92-a6c4dae69d19",
    "_uuid": "8f2839f25d086af736a60e9eeb907d3b93b6e0e5"
   },
   "outputs": [
    {
     "name": "stderr",
     "output_type": "stream",
     "text": [
      "/usr/local/lib/python3.7/site-packages/lightgbm/__init__.py:46: UserWarning: Starting from version 2.2.1, the library file in distribution wheels for macOS is built by the Apple Clang (Xcode_8.3.1) compiler.\n",
      "This means that in case of installing LightGBM from PyPI via the ``pip install lightgbm`` command, you don't need to install the gcc compiler anymore.\n",
      "Instead of that, you need to install the OpenMP library, which is required for running LightGBM on the system with the Apple Clang compiler.\n",
      "You can install the OpenMP library by the following command: ``brew install libomp``.\n",
      "  \"You can install the OpenMP library by the following command: ``brew install libomp``.\", UserWarning)\n"
     ]
    }
   ],
   "source": [
    "# + проверить выкидывание групп\n",
    "# + сначала разбить, потом обработать\n",
    "# + catboost\n",
    "\n",
    "# neuron\n",
    "\n",
    "# reg 2 classification\n",
    "\n",
    "\n",
    "import gc\n",
    "\n",
    "gc.enable()\n",
    "\n",
    "import pandas as pd\n",
    "import numpy as np\n",
    "import seaborn as sns\n",
    "import matplotlib.pyplot as plt  \n",
    "\n",
    "from sklearn import preprocessing\n",
    "from sklearn.model_selection import train_test_split\n",
    "\n",
    "\n",
    "from sklearn.preprocessing import LabelEncoder\n",
    "from sklearn.model_selection import KFold\n",
    "from sklearn.metrics import mean_squared_error\n",
    "from sklearn.metrics import mean_absolute_error\n",
    "from sklearn.metrics import explained_variance_score\n",
    "\n",
    "import lightgbm as lgb\n",
    "\n",
    "import os\n",
    "import os.path\n",
    "# print(os.listdir(\"../input\"))\n",
    "\n",
    "# credit to https://www.kaggle.com/gemartin/load-data-reduce-memory-usage\n",
    "def reduce_mem_usage(df):\n",
    "    \"\"\" iterate through all the columns of a dataframe and modify the data type\n",
    "        to reduce memory usage.        \n",
    "    \"\"\"\n",
    "    for col in df.columns:\n",
    "        col_type = df[col].dtype\n",
    "\n",
    "        if col_type != object:\n",
    "            c_min = df[col].min()\n",
    "            c_max = df[col].max()\n",
    "            if str(col_type)[:3] == 'int':\n",
    "                if c_min > np.iinfo(np.int8).min and c_max < np.iinfo(np.int8).max:\n",
    "                    df[col] = df[col].astype(np.int8)\n",
    "                elif c_min > np.iinfo(np.int16).min and c_max < np.iinfo(np.int16).max:\n",
    "                    df[col] = df[col].astype(np.int16)\n",
    "                elif c_min > np.iinfo(np.int32).min and c_max < np.iinfo(np.int32).max:\n",
    "                    df[col] = df[col].astype(np.int32)\n",
    "                elif c_min > np.iinfo(np.int64).min and c_max < np.iinfo(np.int64).max:\n",
    "                    df[col] = df[col].astype(np.int64)  \n",
    "            else:\n",
    "                if c_min > np.finfo(np.float16).min and c_max < np.finfo(np.float16).max:\n",
    "                    df[col] = df[col].astype(np.float16)\n",
    "                elif c_min > np.finfo(np.float32).min and c_max < np.finfo(np.float32).max:\n",
    "                    df[col] = df[col].astype(np.float32)\n",
    "                else:\n",
    "                    df[col] = df[col].astype(np.float64)\n",
    "\n",
    "    return df"
   ]
  },
  {
   "cell_type": "code",
   "execution_count": 2,
   "metadata": {
    "_cell_guid": "79c7e3d0-c299-4dcb-8224-4455121ee9b0",
    "_uuid": "d629ff2d2480ee46fbb7e2d37f6b5fab8052498a"
   },
   "outputs": [],
   "source": [
    "by_team = ['matchId','groupId']"
   ]
  },
  {
   "cell_type": "code",
   "execution_count": 3,
   "metadata": {
    "_uuid": "a0d56df2e2687faee55284223bd15d52c255a6a6"
   },
   "outputs": [
    {
     "name": "stdout",
     "output_type": "stream",
     "text": [
      "Solo file exists, loaded, size:  720712\n"
     ]
    },
    {
     "data": {
      "text/plain": [
       "7"
      ]
     },
     "execution_count": 3,
     "metadata": {},
     "output_type": "execute_result"
    }
   ],
   "source": [
    "random_seed = 15305\n",
    "df_train = None\n",
    "\n",
    "if not os.path.isfile('train_V2_solo.csv'):\n",
    "    print('Solo file not exists, load all')\n",
    "    df_train = pd.read_csv('train_V2.csv')\n",
    "    df_train = reduce_mem_usage(df_train)\n",
    "    df_train = df_train[df_train['winPlacePerc'].isna() != True]\n",
    "    mapper = lambda x: 'solo' if ('solo' in x) else 'duo' if ('duo' in x) or ('crash' in x) else 'squad'\n",
    "    \n",
    "#     df_train['matchType'].value_counts().plot.bar()\n",
    "    \n",
    "    df_train['matchType'] = df_train['matchType'].apply(mapper)\n",
    "    \n",
    "    old_size = df_train.shape[0]\n",
    "    \n",
    "    df_train = df_train[df_train['matchType'] == 'solo']\n",
    "    \n",
    "    print('Reduced size from ', old_size, ' to ', df_train.shape[0])\n",
    "    \n",
    "    df_train.to_csv('train_V2_solo.csv', index=False)\n",
    "    \n",
    "else:\n",
    "    df_train = pd.read_csv('train_V2_solo.csv')\n",
    "    df_train = reduce_mem_usage(df_train)\n",
    "    print('Solo file exists, loaded, size: ', df_train.shape[0])\n",
    "        \n",
    "\n",
    "gc.collect()"
   ]
  },
  {
   "cell_type": "code",
   "execution_count": 4,
   "metadata": {
    "_uuid": "e9234ec8f0414f82dcffce1c96460a71bf7e0d4f"
   },
   "outputs": [
    {
     "data": {
      "text/html": [
       "<div>\n",
       "<style scoped>\n",
       "    .dataframe tbody tr th:only-of-type {\n",
       "        vertical-align: middle;\n",
       "    }\n",
       "\n",
       "    .dataframe tbody tr th {\n",
       "        vertical-align: top;\n",
       "    }\n",
       "\n",
       "    .dataframe thead th {\n",
       "        text-align: right;\n",
       "    }\n",
       "</style>\n",
       "<table border=\"1\" class=\"dataframe\">\n",
       "  <thead>\n",
       "    <tr style=\"text-align: right;\">\n",
       "      <th></th>\n",
       "      <th>mean</th>\n",
       "      <th>std</th>\n",
       "      <th>min</th>\n",
       "      <th>25%</th>\n",
       "      <th>50%</th>\n",
       "      <th>75%</th>\n",
       "      <th>max</th>\n",
       "    </tr>\n",
       "  </thead>\n",
       "  <tbody>\n",
       "    <tr>\n",
       "      <th>assists</th>\n",
       "      <td>0.062236</td>\n",
       "      <td>0.297540</td>\n",
       "      <td>0.0</td>\n",
       "      <td>0.000000</td>\n",
       "      <td>0.000000</td>\n",
       "      <td>0.000000</td>\n",
       "      <td>22.0</td>\n",
       "    </tr>\n",
       "    <tr>\n",
       "      <th>boosts</th>\n",
       "      <td>1.059862</td>\n",
       "      <td>1.799456</td>\n",
       "      <td>0.0</td>\n",
       "      <td>0.000000</td>\n",
       "      <td>0.000000</td>\n",
       "      <td>2.000000</td>\n",
       "      <td>28.0</td>\n",
       "    </tr>\n",
       "    <tr>\n",
       "      <th>damageDealt</th>\n",
       "      <td>NaN</td>\n",
       "      <td>NaN</td>\n",
       "      <td>0.0</td>\n",
       "      <td>0.000000</td>\n",
       "      <td>74.375000</td>\n",
       "      <td>169.250000</td>\n",
       "      <td>6616.0</td>\n",
       "    </tr>\n",
       "    <tr>\n",
       "      <th>DBNOs</th>\n",
       "      <td>0.000000</td>\n",
       "      <td>0.000000</td>\n",
       "      <td>0.0</td>\n",
       "      <td>0.000000</td>\n",
       "      <td>0.000000</td>\n",
       "      <td>0.000000</td>\n",
       "      <td>0.0</td>\n",
       "    </tr>\n",
       "    <tr>\n",
       "      <th>headshotKills</th>\n",
       "      <td>0.249281</td>\n",
       "      <td>0.660425</td>\n",
       "      <td>0.0</td>\n",
       "      <td>0.000000</td>\n",
       "      <td>0.000000</td>\n",
       "      <td>0.000000</td>\n",
       "      <td>42.0</td>\n",
       "    </tr>\n",
       "    <tr>\n",
       "      <th>heals</th>\n",
       "      <td>1.014149</td>\n",
       "      <td>2.406086</td>\n",
       "      <td>0.0</td>\n",
       "      <td>0.000000</td>\n",
       "      <td>0.000000</td>\n",
       "      <td>1.000000</td>\n",
       "      <td>63.0</td>\n",
       "    </tr>\n",
       "    <tr>\n",
       "      <th>killPlace</th>\n",
       "      <td>47.457529</td>\n",
       "      <td>27.728956</td>\n",
       "      <td>1.0</td>\n",
       "      <td>23.000000</td>\n",
       "      <td>47.000000</td>\n",
       "      <td>71.000000</td>\n",
       "      <td>100.0</td>\n",
       "    </tr>\n",
       "    <tr>\n",
       "      <th>killPoints</th>\n",
       "      <td>447.426431</td>\n",
       "      <td>594.989089</td>\n",
       "      <td>0.0</td>\n",
       "      <td>0.000000</td>\n",
       "      <td>0.000000</td>\n",
       "      <td>1090.000000</td>\n",
       "      <td>1970.0</td>\n",
       "    </tr>\n",
       "    <tr>\n",
       "      <th>kills</th>\n",
       "      <td>0.936860</td>\n",
       "      <td>1.603249</td>\n",
       "      <td>0.0</td>\n",
       "      <td>0.000000</td>\n",
       "      <td>0.000000</td>\n",
       "      <td>1.000000</td>\n",
       "      <td>66.0</td>\n",
       "    </tr>\n",
       "    <tr>\n",
       "      <th>killStreaks</th>\n",
       "      <td>0.475054</td>\n",
       "      <td>0.564241</td>\n",
       "      <td>0.0</td>\n",
       "      <td>0.000000</td>\n",
       "      <td>0.000000</td>\n",
       "      <td>1.000000</td>\n",
       "      <td>18.0</td>\n",
       "    </tr>\n",
       "    <tr>\n",
       "      <th>longestKill</th>\n",
       "      <td>NaN</td>\n",
       "      <td>NaN</td>\n",
       "      <td>0.0</td>\n",
       "      <td>0.000000</td>\n",
       "      <td>0.000000</td>\n",
       "      <td>20.875000</td>\n",
       "      <td>1052.0</td>\n",
       "    </tr>\n",
       "    <tr>\n",
       "      <th>matchDuration</th>\n",
       "      <td>1600.651940</td>\n",
       "      <td>257.052724</td>\n",
       "      <td>133.0</td>\n",
       "      <td>1384.000000</td>\n",
       "      <td>1456.000000</td>\n",
       "      <td>1874.000000</td>\n",
       "      <td>2237.0</td>\n",
       "    </tr>\n",
       "    <tr>\n",
       "      <th>maxPlace</th>\n",
       "      <td>93.908900</td>\n",
       "      <td>10.134818</td>\n",
       "      <td>2.0</td>\n",
       "      <td>94.000000</td>\n",
       "      <td>96.000000</td>\n",
       "      <td>97.000000</td>\n",
       "      <td>100.0</td>\n",
       "    </tr>\n",
       "    <tr>\n",
       "      <th>numGroups</th>\n",
       "      <td>91.115282</td>\n",
       "      <td>11.436636</td>\n",
       "      <td>1.0</td>\n",
       "      <td>91.000000</td>\n",
       "      <td>93.000000</td>\n",
       "      <td>95.000000</td>\n",
       "      <td>100.0</td>\n",
       "    </tr>\n",
       "    <tr>\n",
       "      <th>rankPoints</th>\n",
       "      <td>966.581536</td>\n",
       "      <td>744.319530</td>\n",
       "      <td>-1.0</td>\n",
       "      <td>-1.000000</td>\n",
       "      <td>1496.000000</td>\n",
       "      <td>1517.000000</td>\n",
       "      <td>2857.0</td>\n",
       "    </tr>\n",
       "    <tr>\n",
       "      <th>revives</th>\n",
       "      <td>0.000000</td>\n",
       "      <td>0.000000</td>\n",
       "      <td>0.0</td>\n",
       "      <td>0.000000</td>\n",
       "      <td>0.000000</td>\n",
       "      <td>0.000000</td>\n",
       "      <td>0.0</td>\n",
       "    </tr>\n",
       "    <tr>\n",
       "      <th>rideDistance</th>\n",
       "      <td>NaN</td>\n",
       "      <td>NaN</td>\n",
       "      <td>0.0</td>\n",
       "      <td>0.000000</td>\n",
       "      <td>0.000000</td>\n",
       "      <td>0.000000</td>\n",
       "      <td>40704.0</td>\n",
       "    </tr>\n",
       "    <tr>\n",
       "      <th>roadKills</th>\n",
       "      <td>0.005113</td>\n",
       "      <td>0.087960</td>\n",
       "      <td>0.0</td>\n",
       "      <td>0.000000</td>\n",
       "      <td>0.000000</td>\n",
       "      <td>0.000000</td>\n",
       "      <td>18.0</td>\n",
       "    </tr>\n",
       "    <tr>\n",
       "      <th>swimDistance</th>\n",
       "      <td>NaN</td>\n",
       "      <td>NaN</td>\n",
       "      <td>0.0</td>\n",
       "      <td>0.000000</td>\n",
       "      <td>0.000000</td>\n",
       "      <td>0.000000</td>\n",
       "      <td>1974.0</td>\n",
       "    </tr>\n",
       "    <tr>\n",
       "      <th>teamKills</th>\n",
       "      <td>0.011487</td>\n",
       "      <td>0.106860</td>\n",
       "      <td>0.0</td>\n",
       "      <td>0.000000</td>\n",
       "      <td>0.000000</td>\n",
       "      <td>0.000000</td>\n",
       "      <td>5.0</td>\n",
       "    </tr>\n",
       "    <tr>\n",
       "      <th>vehicleDestroys</th>\n",
       "      <td>0.004509</td>\n",
       "      <td>0.069601</td>\n",
       "      <td>0.0</td>\n",
       "      <td>0.000000</td>\n",
       "      <td>0.000000</td>\n",
       "      <td>0.000000</td>\n",
       "      <td>5.0</td>\n",
       "    </tr>\n",
       "    <tr>\n",
       "      <th>walkDistance</th>\n",
       "      <td>NaN</td>\n",
       "      <td>NaN</td>\n",
       "      <td>0.0</td>\n",
       "      <td>100.375000</td>\n",
       "      <td>502.750000</td>\n",
       "      <td>1587.000000</td>\n",
       "      <td>25776.0</td>\n",
       "    </tr>\n",
       "    <tr>\n",
       "      <th>weaponsAcquired</th>\n",
       "      <td>3.593992</td>\n",
       "      <td>2.629932</td>\n",
       "      <td>0.0</td>\n",
       "      <td>2.000000</td>\n",
       "      <td>3.000000</td>\n",
       "      <td>5.000000</td>\n",
       "      <td>153.0</td>\n",
       "    </tr>\n",
       "    <tr>\n",
       "      <th>winPoints</th>\n",
       "      <td>557.452163</td>\n",
       "      <td>728.839481</td>\n",
       "      <td>0.0</td>\n",
       "      <td>0.000000</td>\n",
       "      <td>0.000000</td>\n",
       "      <td>1492.000000</td>\n",
       "      <td>1922.0</td>\n",
       "    </tr>\n",
       "    <tr>\n",
       "      <th>winPlacePerc</th>\n",
       "      <td>NaN</td>\n",
       "      <td>0.000000</td>\n",
       "      <td>0.0</td>\n",
       "      <td>0.229248</td>\n",
       "      <td>0.483887</td>\n",
       "      <td>0.747559</td>\n",
       "      <td>1.0</td>\n",
       "    </tr>\n",
       "  </tbody>\n",
       "</table>\n",
       "</div>"
      ],
      "text/plain": [
       "                        mean         std    min          25%          50%  \\\n",
       "assists             0.062236    0.297540    0.0     0.000000     0.000000   \n",
       "boosts              1.059862    1.799456    0.0     0.000000     0.000000   \n",
       "damageDealt              NaN         NaN    0.0     0.000000    74.375000   \n",
       "DBNOs               0.000000    0.000000    0.0     0.000000     0.000000   \n",
       "headshotKills       0.249281    0.660425    0.0     0.000000     0.000000   \n",
       "heals               1.014149    2.406086    0.0     0.000000     0.000000   \n",
       "killPlace          47.457529   27.728956    1.0    23.000000    47.000000   \n",
       "killPoints        447.426431  594.989089    0.0     0.000000     0.000000   \n",
       "kills               0.936860    1.603249    0.0     0.000000     0.000000   \n",
       "killStreaks         0.475054    0.564241    0.0     0.000000     0.000000   \n",
       "longestKill              NaN         NaN    0.0     0.000000     0.000000   \n",
       "matchDuration    1600.651940  257.052724  133.0  1384.000000  1456.000000   \n",
       "maxPlace           93.908900   10.134818    2.0    94.000000    96.000000   \n",
       "numGroups          91.115282   11.436636    1.0    91.000000    93.000000   \n",
       "rankPoints        966.581536  744.319530   -1.0    -1.000000  1496.000000   \n",
       "revives             0.000000    0.000000    0.0     0.000000     0.000000   \n",
       "rideDistance             NaN         NaN    0.0     0.000000     0.000000   \n",
       "roadKills           0.005113    0.087960    0.0     0.000000     0.000000   \n",
       "swimDistance             NaN         NaN    0.0     0.000000     0.000000   \n",
       "teamKills           0.011487    0.106860    0.0     0.000000     0.000000   \n",
       "vehicleDestroys     0.004509    0.069601    0.0     0.000000     0.000000   \n",
       "walkDistance             NaN         NaN    0.0   100.375000   502.750000   \n",
       "weaponsAcquired     3.593992    2.629932    0.0     2.000000     3.000000   \n",
       "winPoints         557.452163  728.839481    0.0     0.000000     0.000000   \n",
       "winPlacePerc             NaN    0.000000    0.0     0.229248     0.483887   \n",
       "\n",
       "                         75%      max  \n",
       "assists             0.000000     22.0  \n",
       "boosts              2.000000     28.0  \n",
       "damageDealt       169.250000   6616.0  \n",
       "DBNOs               0.000000      0.0  \n",
       "headshotKills       0.000000     42.0  \n",
       "heals               1.000000     63.0  \n",
       "killPlace          71.000000    100.0  \n",
       "killPoints       1090.000000   1970.0  \n",
       "kills               1.000000     66.0  \n",
       "killStreaks         1.000000     18.0  \n",
       "longestKill        20.875000   1052.0  \n",
       "matchDuration    1874.000000   2237.0  \n",
       "maxPlace           97.000000    100.0  \n",
       "numGroups          95.000000    100.0  \n",
       "rankPoints       1517.000000   2857.0  \n",
       "revives             0.000000      0.0  \n",
       "rideDistance        0.000000  40704.0  \n",
       "roadKills           0.000000     18.0  \n",
       "swimDistance        0.000000   1974.0  \n",
       "teamKills           0.000000      5.0  \n",
       "vehicleDestroys     0.000000      5.0  \n",
       "walkDistance     1587.000000  25776.0  \n",
       "weaponsAcquired     5.000000    153.0  \n",
       "winPoints        1492.000000   1922.0  \n",
       "winPlacePerc        0.747559      1.0  "
      ]
     },
     "execution_count": 4,
     "metadata": {},
     "output_type": "execute_result"
    }
   ],
   "source": [
    "df_train.describe(include=np.number).drop('count').T"
   ]
  },
  {
   "cell_type": "code",
   "execution_count": null,
   "metadata": {
    "_uuid": "a1a9d5e44694104dde8e86f68fbf63fb36f2d1f7"
   },
   "outputs": [],
   "source": []
  },
  {
   "cell_type": "markdown",
   "metadata": {
    "_uuid": "02f69e978c612811d48c33c993f78a83fd674ce3"
   },
   "source": []
  },
  {
   "cell_type": "code",
   "execution_count": null,
   "metadata": {
    "_uuid": "211bd0d6818d35549ea9cfa1281a0c9685100205"
   },
   "outputs": [],
   "source": []
  },
  {
   "cell_type": "code",
   "execution_count": 5,
   "metadata": {
    "_uuid": "211bd0d6818d35549ea9cfa1281a0c9685100205"
   },
   "outputs": [
    {
     "data": {
      "text/plain": [
       "Series([], dtype: float64)"
      ]
     },
     "execution_count": 5,
     "metadata": {},
     "output_type": "execute_result"
    }
   ],
   "source": [
    "# none of null, inf columns\n",
    "null_columns=df_train.columns[df_train.isin([np.Inf, np.NINF, np.nan]).any()]\n",
    "df_train[null_columns].isnull().sum()"
   ]
  },
  {
   "cell_type": "code",
   "execution_count": 6,
   "metadata": {
    "_uuid": "211bd0d6818d35549ea9cfa1281a0c9685100205"
   },
   "outputs": [],
   "source": [
    "df_train.drop('DBNOs',  axis =1,inplace= True)\n",
    "df_train.drop('revives',  axis =1,inplace= True)"
   ]
  },
  {
   "cell_type": "code",
   "execution_count": null,
   "metadata": {
    "_uuid": "211bd0d6818d35549ea9cfa1281a0c9685100205"
   },
   "outputs": [],
   "source": []
  },
  {
   "cell_type": "code",
   "execution_count": null,
   "metadata": {
    "_uuid": "211bd0d6818d35549ea9cfa1281a0c9685100205"
   },
   "outputs": [],
   "source": []
  },
  {
   "cell_type": "code",
   "execution_count": null,
   "metadata": {
    "_uuid": "211bd0d6818d35549ea9cfa1281a0c9685100205"
   },
   "outputs": [],
   "source": []
  },
  {
   "cell_type": "code",
   "execution_count": null,
   "metadata": {
    "_uuid": "211bd0d6818d35549ea9cfa1281a0c9685100205"
   },
   "outputs": [],
   "source": []
  },
  {
   "cell_type": "code",
   "execution_count": null,
   "metadata": {
    "_uuid": "a2e623cc398629daae7e50177c6ad9af93a78f81"
   },
   "outputs": [],
   "source": []
  },
  {
   "cell_type": "code",
   "execution_count": 7,
   "metadata": {
    "_uuid": "ce3f45773f7d713f6f3cd200cb82bf03c8b29966"
   },
   "outputs": [
    {
     "data": {
      "text/plain": [
       "count    720712.000000\n",
       "mean         93.908900\n",
       "std          10.134818\n",
       "min           2.000000\n",
       "25%          94.000000\n",
       "50%          96.000000\n",
       "75%          97.000000\n",
       "max         100.000000\n",
       "Name: maxPlace, dtype: float64"
      ]
     },
     "execution_count": 7,
     "metadata": {},
     "output_type": "execute_result"
    }
   ],
   "source": [
    "df_train['maxPlace'].describe()"
   ]
  },
  {
   "cell_type": "code",
   "execution_count": 8,
   "metadata": {
    "_kg_hide-input": false,
    "_kg_hide-output": false,
    "_uuid": "63132ae9ef0e3c7835d13b7a913a7905bf3a55cf"
   },
   "outputs": [],
   "source": [
    "\n",
    "def feature_engineering(df, is_train=True):\n",
    "    test_idx = None\n",
    "    if not is_train: \n",
    "        print(\"processing test\")\n",
    "        test_idx = df.Id\n",
    "    else:\n",
    "        print(\"processing train\")\n",
    "#         Попробовал, точность упала, не нравится // model_train_out_group_size.txt\n",
    "#         отвергнуто \n",
    "# \n",
    "#         print('Len before deleting ', df.shape[0])\n",
    "#         agg = df.groupby(by_team).size().reset_index(name='group_size')\n",
    "#         print('Group size > 1:', agg[agg['group_size'] > 1].shape[0])\n",
    "#         df = df.merge(agg, how='left', on=by_team)\n",
    "#         df = df[df['group_size'] <= 1]\n",
    "    \n",
    "#         df.drop('group_size',  axis =1,inplace= True)\n",
    "        \n",
    "#         print('Len after deleting ', df.shape[0])\n",
    "    \n",
    "\n",
    "    \n",
    "    print(\"remove some columns\")\n",
    "    target = 'winPlacePerc'\n",
    "\n",
    "    print(\"Adding Features\")\n",
    "    \n",
    "#     Гиптеза о +1 при делении ухудшила результат lightgbm, у catboost незначительное улучшение\n",
    "#    отвергнуто\n",
    "# \n",
    "    \n",
    "    df['headshotrate'] = df['kills']/ (df['headshotKills'] )\n",
    "    df['killStreakrate'] = df['killStreaks']/ (df['kills'] )\n",
    "    df['healthitems'] = df['heals'] + df['boosts']\n",
    "    df['totalDistance'] = df['rideDistance'] + df[\"walkDistance\"] + df[\"swimDistance\"]\n",
    "    df['killPlace_over_maxPlace'] = df['killPlace'] / (df['maxPlace'] )\n",
    "    df['headshotKills_over_kills'] = df['headshotKills'] / (df['kills'] )\n",
    "    df['distance_over_weapons'] = df['totalDistance'] / (df['weaponsAcquired'] )\n",
    "    df['walkDistance_over_heals'] = df['walkDistance'] / (df['heals'] )\n",
    "    df['walkDistance_over_kills'] = df['walkDistance'] / (df['kills'] )\n",
    "    df['killsPerWalkDistance'] = df['kills'] / (df['walkDistance'] )\n",
    "    df['skill'] = df['headshotKills'] + df['roadKills']\n",
    "    \n",
    "    df['totalTimeByDistance'] = df['rideDistance'] / float(5) + df['walkDistance'] + df['swimDistance'] * float(5)\n",
    "    \n",
    "    df['zombi'] = ((df['totalDistance'] == 0) & (df['kills'] == 0)\n",
    "                     & (df['weaponsAcquired'] == 0)).astype(int)\n",
    "    df['cheater'] = ((df['kills'] / df['totalDistance'] >= 1)\n",
    "                       | (df['kills'] > 30) | (df['roadKills'] > 10)).astype(int)\n",
    "\n",
    "    df[df == np.Inf] = np.NaN\n",
    "    df[df == np.NINF] = np.NaN\n",
    "    \n",
    "    print(\"Removing Na's From DF\")\n",
    "    df.fillna(0, inplace=True)\n",
    "\n",
    "    \n",
    "    features = list(df.columns)\n",
    "    features.remove(\"Id\")\n",
    "\n",
    "    features.remove(target)\n",
    "    features.remove(\"matchId\")\n",
    "    \n",
    "    features.remove(\"groupId\")\n",
    "    features.remove(\"matchType\")\n",
    "    \n",
    "    \n",
    "    \n",
    "    return df[features], df[target], features, test_idx\n",
    "    "
   ]
  },
  {
   "cell_type": "code",
   "execution_count": 9,
   "metadata": {
    "_uuid": "72c26a638c294dc7075eb9e2efd15bf18dae9a97"
   },
   "outputs": [],
   "source": [
    "# X, y, columns, _ = feature_engineering(df_train, True)\n",
    "# X = reduce_mem_usage(X)"
   ]
  },
  {
   "cell_type": "code",
   "execution_count": null,
   "metadata": {
    "_uuid": "13d216b301543836b960c89f030a33512380e5cb"
   },
   "outputs": [],
   "source": []
  },
  {
   "cell_type": "code",
   "execution_count": 10,
   "metadata": {
    "_uuid": "8f1afe29ada6f9f7232c9f4ac690d5577d2ee9de"
   },
   "outputs": [],
   "source": [
    "import random\n",
    "\n",
    "# ухудшает, потому что этим надо разбивать изначально,а не только обучение\n",
    "\n",
    "def train_test_split_match(df, test_size=0.1):\n",
    "    match_ids = df['matchId'].unique().tolist()\n",
    "    train_size = int(len(match_ids) * (1 - test_size))\n",
    "    train_match_ids = random.sample(match_ids, train_size)\n",
    "\n",
    "    train = df[df['matchId'].isin(train_match_ids)]\n",
    "    test = df[-df['matchId'].isin(train_match_ids)]\n",
    "    \n",
    "    train_y = train['winPlacePerc']\n",
    "    test_y = test['winPlacePerc']\n",
    "    \n",
    "    train.drop(['matchId','winPlacePerc'] ,  axis =1,inplace= True)\n",
    "    test.drop(['matchId','winPlacePerc'] ,  axis =1,inplace= True)\n",
    "    \n",
    "    return train, test, train_y, test_y"
   ]
  },
  {
   "cell_type": "code",
   "execution_count": 11,
   "metadata": {
    "_uuid": "0074ed4ba960cde625e75b6549fc8e1e359f8366"
   },
   "outputs": [
    {
     "name": "stdout",
     "output_type": "stream",
     "text": [
      "processing train\n",
      "remove some columns\n",
      "Adding Features\n",
      "Removing Na's From DF\n",
      "processing test\n",
      "remove some columns\n",
      "Adding Features\n",
      "Removing Na's From DF\n",
      "(583776, 36) (64864, 36)\n"
     ]
    }
   ],
   "source": [
    "# X_train, X_holdout, y_train, y_holdout = train_test_split(X, y, test_size=0.1,\n",
    "# random_state=random_seed)\n",
    "\n",
    "import warnings\n",
    "warnings.filterwarnings(\"ignore\")\n",
    "\n",
    "X_train, X_holdout, y_train, y_holdout = train_test_split(df_train, df_train['winPlacePerc'], test_size=0.1,\n",
    "random_state=random_seed)\n",
    "\n",
    "\n",
    "X_train, y_train, columns, _ = feature_engineering(X_train, True)\n",
    "X_train = reduce_mem_usage(X_train)\n",
    "\n",
    "\n",
    "X_holdout, _, _ ,_ = feature_engineering(X_holdout, False)\n",
    "\n",
    "train_index = round(int(X_train.shape[0]*0.9))\n",
    "dev_X = X_train[:train_index] \n",
    "val_X = X_train[train_index:]\n",
    "dev_y = y_train[:train_index] \n",
    "val_y = y_train[train_index:] \n",
    "gc.collect()\n",
    "\n",
    "gc.collect()\n",
    "print(dev_X.shape, val_X.shape)"
   ]
  },
  {
   "cell_type": "code",
   "execution_count": null,
   "metadata": {
    "_uuid": "0074ed4ba960cde625e75b6549fc8e1e359f8366"
   },
   "outputs": [],
   "source": []
  },
  {
   "cell_type": "code",
   "execution_count": 12,
   "metadata": {
    "_uuid": "f41ab200d51b680f64827113072477ebde71fa5a"
   },
   "outputs": [
    {
     "name": "stdout",
     "output_type": "stream",
     "text": [
      "(648640, 36) (72072, 36)\n"
     ]
    }
   ],
   "source": [
    "print(X_train.shape, X_holdout.shape)"
   ]
  },
  {
   "cell_type": "code",
   "execution_count": 14,
   "metadata": {
    "_uuid": "e8694715025f061b2018348cf5cf20b64b0f78e4"
   },
   "outputs": [
    {
     "name": "stdout",
     "output_type": "stream",
     "text": [
      "0.9_50000_model_best.txt  not found, start train ;-(\n",
      "Training until validation scores don't improve for 700 rounds.\n",
      "[1000]\ttraining's l1: 0.0392495\tvalid_1's l1: 0.0400309\n",
      "[2000]\ttraining's l1: 0.0379732\tvalid_1's l1: 0.0395566\n",
      "[3000]\ttraining's l1: 0.0370108\tvalid_1's l1: 0.0393062\n",
      "[4000]\ttraining's l1: 0.0361541\tvalid_1's l1: 0.0390877\n",
      "[5000]\ttraining's l1: 0.0353952\tvalid_1's l1: 0.0389398\n",
      "[6000]\ttraining's l1: 0.0346687\tvalid_1's l1: 0.0387954\n",
      "[7000]\ttraining's l1: 0.0340049\tvalid_1's l1: 0.0386875\n",
      "[8000]\ttraining's l1: 0.0333475\tvalid_1's l1: 0.0385775\n",
      "[9000]\ttraining's l1: 0.0327632\tvalid_1's l1: 0.0385085\n",
      "[10000]\ttraining's l1: 0.0321685\tvalid_1's l1: 0.0384066\n",
      "[11000]\ttraining's l1: 0.0315975\tvalid_1's l1: 0.0383315\n",
      "[12000]\ttraining's l1: 0.0310792\tvalid_1's l1: 0.0382797\n",
      "[13000]\ttraining's l1: 0.030581\tvalid_1's l1: 0.0382428\n",
      "[14000]\ttraining's l1: 0.0301125\tvalid_1's l1: 0.0382096\n",
      "[15000]\ttraining's l1: 0.0296214\tvalid_1's l1: 0.0381403\n",
      "[16000]\ttraining's l1: 0.0291558\tvalid_1's l1: 0.038105\n",
      "[17000]\ttraining's l1: 0.0287056\tvalid_1's l1: 0.0380721\n",
      "[18000]\ttraining's l1: 0.028279\tvalid_1's l1: 0.0380515\n",
      "[19000]\ttraining's l1: 0.0278653\tvalid_1's l1: 0.038037\n",
      "[20000]\ttraining's l1: 0.0274576\tvalid_1's l1: 0.0380035\n",
      "[21000]\ttraining's l1: 0.0270633\tvalid_1's l1: 0.0379866\n",
      "[22000]\ttraining's l1: 0.0266949\tvalid_1's l1: 0.0379879\n",
      "Early stopping, best iteration is:\n",
      "[21314]\ttraining's l1: 0.0269446\tvalid_1's l1: 0.0379841\n"
     ]
    },
    {
     "data": {
      "text/plain": [
       "54"
      ]
     },
     "execution_count": 14,
     "metadata": {},
     "output_type": "execute_result"
    }
   ],
   "source": [
    "\n",
    "\n",
    "\n",
    "model_name = '0.9_50000_model_best.txt'\n",
    "\n",
    "def run_lgb(train_X, train_y, val_X, val_y, x_test):\n",
    "    params = {\"objective\" : \"regression\", \"metric\" : \"mae\", 'n_estimators':50000,#30000,\n",
    "              'early_stopping_rounds':700,#300,\n",
    "              \"num_leaves\" : 31, \"learning_rate\" : 0.05, \n",
    "              \"bagging_fraction\" : 0.9,#0.7,\n",
    "               \"bagging_seed\" : 0, \"num_threads\" : 4,\"colsample_bytree\" : 0.9#0.7\n",
    "             }\n",
    "    model = None\n",
    "    \n",
    "    if not os.path.isfile(model_name):\n",
    "        print(model_name, ' not found, start train ;-(')\n",
    "        lgtrain = lgb.Dataset(train_X, label=train_y)\n",
    "        lgval = lgb.Dataset(val_X, label=val_y)\n",
    "        model = lgb.train(params, lgtrain, valid_sets=[lgtrain, lgval], verbose_eval=1000)\n",
    "        model.save_model(model_name)\n",
    "        \n",
    "    else:\n",
    "        print(model_name, ' found, start predict ;-)')\n",
    "        model = lgb.Booster(model_file=model_name)\n",
    "        \n",
    "    \n",
    "    pred_test_y = model.predict(x_test, num_iteration=model.best_iteration)\n",
    "    return pred_test_y, model\n",
    "\n",
    "# Training the model #\n",
    "pred_test, model = run_lgb(dev_X, dev_y, val_X, val_y, X_holdout)\n",
    "gc.collect()"
   ]
  },
  {
   "cell_type": "code",
   "execution_count": 15,
   "metadata": {
    "_uuid": "acb682a17163f709045f79b15f850d847144808a"
   },
   "outputs": [
    {
     "data": {
      "text/html": [
       "<div>\n",
       "<style scoped>\n",
       "    .dataframe tbody tr th:only-of-type {\n",
       "        vertical-align: middle;\n",
       "    }\n",
       "\n",
       "    .dataframe tbody tr th {\n",
       "        vertical-align: top;\n",
       "    }\n",
       "\n",
       "    .dataframe thead th {\n",
       "        text-align: right;\n",
       "    }\n",
       "</style>\n",
       "<table border=\"1\" class=\"dataframe\">\n",
       "  <thead>\n",
       "    <tr style=\"text-align: right;\">\n",
       "      <th></th>\n",
       "      <th>assists</th>\n",
       "      <th>boosts</th>\n",
       "      <th>damageDealt</th>\n",
       "      <th>headshotKills</th>\n",
       "      <th>heals</th>\n",
       "      <th>killPlace</th>\n",
       "      <th>killPoints</th>\n",
       "      <th>kills</th>\n",
       "      <th>killStreaks</th>\n",
       "      <th>longestKill</th>\n",
       "      <th>...</th>\n",
       "      <th>killPlace_over_maxPlace</th>\n",
       "      <th>headshotKills_over_kills</th>\n",
       "      <th>distance_over_weapons</th>\n",
       "      <th>walkDistance_over_heals</th>\n",
       "      <th>walkDistance_over_kills</th>\n",
       "      <th>killsPerWalkDistance</th>\n",
       "      <th>skill</th>\n",
       "      <th>totalTimeByDistance</th>\n",
       "      <th>zombi</th>\n",
       "      <th>cheater</th>\n",
       "    </tr>\n",
       "  </thead>\n",
       "  <tbody>\n",
       "    <tr>\n",
       "      <th>252538</th>\n",
       "      <td>0</td>\n",
       "      <td>0</td>\n",
       "      <td>0.00</td>\n",
       "      <td>0</td>\n",
       "      <td>0</td>\n",
       "      <td>96</td>\n",
       "      <td>1670</td>\n",
       "      <td>0</td>\n",
       "      <td>0</td>\n",
       "      <td>0.00000</td>\n",
       "      <td>...</td>\n",
       "      <td>1.000000</td>\n",
       "      <td>0.0</td>\n",
       "      <td>0.000</td>\n",
       "      <td>0.0</td>\n",
       "      <td>0.0</td>\n",
       "      <td>0.000000</td>\n",
       "      <td>0</td>\n",
       "      <td>0.0</td>\n",
       "      <td>1</td>\n",
       "      <td>0</td>\n",
       "    </tr>\n",
       "    <tr>\n",
       "      <th>443955</th>\n",
       "      <td>0</td>\n",
       "      <td>0</td>\n",
       "      <td>0.00</td>\n",
       "      <td>0</td>\n",
       "      <td>4</td>\n",
       "      <td>57</td>\n",
       "      <td>0</td>\n",
       "      <td>0</td>\n",
       "      <td>0</td>\n",
       "      <td>0.00000</td>\n",
       "      <td>...</td>\n",
       "      <td>1.055556</td>\n",
       "      <td>0.0</td>\n",
       "      <td>0.000</td>\n",
       "      <td>0.0</td>\n",
       "      <td>0.0</td>\n",
       "      <td>0.000000</td>\n",
       "      <td>0</td>\n",
       "      <td>0.0</td>\n",
       "      <td>0</td>\n",
       "      <td>0</td>\n",
       "    </tr>\n",
       "    <tr>\n",
       "      <th>134536</th>\n",
       "      <td>0</td>\n",
       "      <td>1</td>\n",
       "      <td>0.00</td>\n",
       "      <td>0</td>\n",
       "      <td>0</td>\n",
       "      <td>58</td>\n",
       "      <td>0</td>\n",
       "      <td>0</td>\n",
       "      <td>0</td>\n",
       "      <td>0.00000</td>\n",
       "      <td>...</td>\n",
       "      <td>0.604167</td>\n",
       "      <td>0.0</td>\n",
       "      <td>308.000</td>\n",
       "      <td>0.0</td>\n",
       "      <td>0.0</td>\n",
       "      <td>0.000000</td>\n",
       "      <td>0</td>\n",
       "      <td>1088.0</td>\n",
       "      <td>0</td>\n",
       "      <td>0</td>\n",
       "    </tr>\n",
       "    <tr>\n",
       "      <th>663320</th>\n",
       "      <td>0</td>\n",
       "      <td>5</td>\n",
       "      <td>205.75</td>\n",
       "      <td>0</td>\n",
       "      <td>3</td>\n",
       "      <td>13</td>\n",
       "      <td>0</td>\n",
       "      <td>2</td>\n",
       "      <td>1</td>\n",
       "      <td>304.25000</td>\n",
       "      <td>...</td>\n",
       "      <td>0.134021</td>\n",
       "      <td>0.0</td>\n",
       "      <td>888.000</td>\n",
       "      <td>1480.0</td>\n",
       "      <td>2220.0</td>\n",
       "      <td>0.000450</td>\n",
       "      <td>0</td>\n",
       "      <td>4440.0</td>\n",
       "      <td>0</td>\n",
       "      <td>0</td>\n",
       "    </tr>\n",
       "    <tr>\n",
       "      <th>56745</th>\n",
       "      <td>0</td>\n",
       "      <td>0</td>\n",
       "      <td>100.00</td>\n",
       "      <td>0</td>\n",
       "      <td>0</td>\n",
       "      <td>33</td>\n",
       "      <td>0</td>\n",
       "      <td>1</td>\n",
       "      <td>1</td>\n",
       "      <td>5.84375</td>\n",
       "      <td>...</td>\n",
       "      <td>0.354839</td>\n",
       "      <td>0.0</td>\n",
       "      <td>82.375</td>\n",
       "      <td>0.0</td>\n",
       "      <td>329.5</td>\n",
       "      <td>0.003035</td>\n",
       "      <td>0</td>\n",
       "      <td>329.5</td>\n",
       "      <td>0</td>\n",
       "      <td>0</td>\n",
       "    </tr>\n",
       "  </tbody>\n",
       "</table>\n",
       "<p>5 rows × 36 columns</p>\n",
       "</div>"
      ],
      "text/plain": [
       "        assists  boosts  damageDealt  headshotKills  heals  killPlace  \\\n",
       "252538        0       0         0.00              0      0         96   \n",
       "443955        0       0         0.00              0      4         57   \n",
       "134536        0       1         0.00              0      0         58   \n",
       "663320        0       5       205.75              0      3         13   \n",
       "56745         0       0       100.00              0      0         33   \n",
       "\n",
       "        killPoints  kills  killStreaks  longestKill   ...     \\\n",
       "252538        1670      0            0      0.00000   ...      \n",
       "443955           0      0            0      0.00000   ...      \n",
       "134536           0      0            0      0.00000   ...      \n",
       "663320           0      2            1    304.25000   ...      \n",
       "56745            0      1            1      5.84375   ...      \n",
       "\n",
       "        killPlace_over_maxPlace  headshotKills_over_kills  \\\n",
       "252538                 1.000000                       0.0   \n",
       "443955                 1.055556                       0.0   \n",
       "134536                 0.604167                       0.0   \n",
       "663320                 0.134021                       0.0   \n",
       "56745                  0.354839                       0.0   \n",
       "\n",
       "        distance_over_weapons  walkDistance_over_heals  \\\n",
       "252538                  0.000                      0.0   \n",
       "443955                  0.000                      0.0   \n",
       "134536                308.000                      0.0   \n",
       "663320                888.000                   1480.0   \n",
       "56745                  82.375                      0.0   \n",
       "\n",
       "        walkDistance_over_kills  killsPerWalkDistance  skill  \\\n",
       "252538                      0.0              0.000000      0   \n",
       "443955                      0.0              0.000000      0   \n",
       "134536                      0.0              0.000000      0   \n",
       "663320                   2220.0              0.000450      0   \n",
       "56745                     329.5              0.003035      0   \n",
       "\n",
       "        totalTimeByDistance  zombi  cheater  \n",
       "252538                  0.0      1        0  \n",
       "443955                  0.0      0        0  \n",
       "134536               1088.0      0        0  \n",
       "663320               4440.0      0        0  \n",
       "56745                 329.5      0        0  \n",
       "\n",
       "[5 rows x 36 columns]"
      ]
     },
     "execution_count": 15,
     "metadata": {},
     "output_type": "execute_result"
    }
   ],
   "source": [
    "pred_y = pred_test.copy()\n",
    "df_sub = X_holdout.copy()\n",
    "gc.collect()\n",
    "df_sub.head()"
   ]
  },
  {
   "cell_type": "code",
   "execution_count": 17,
   "metadata": {
    "_uuid": "64a0a4288d0f91ba6f71adac289810794fff5e11"
   },
   "outputs": [
    {
     "name": "stdout",
     "output_type": "stream",
     "text": [
      "MAE:  0.03814164151233869\n",
      "MSE:  0.0033396772743556112\n"
     ]
    }
   ],
   "source": [
    "print(\"MAE: \",\n",
    "mean_absolute_error(y_holdout, pred_y) )\n",
    "\n",
    "print(\"MSE: \",\n",
    "mean_squared_error(y_holdout, pred_y))"
   ]
  },
  {
   "cell_type": "markdown",
   "metadata": {
    "_uuid": "64a0a4288d0f91ba6f71adac289810794fff5e11"
   },
   "source": [
    "MAE:  0.038204562611468304\n",
    "MSE:  0.0033404532355836075\n",
    "\n",
    "MAE:  0.03835205551321234\n",
    "MSE:  0.0033308355521584616\n",
    "\n",
    "MAE:  0.039442003815586504<br>\n",
    "MSE:  0.0034430096325873847<br>\n",
    "<br>\n",
    "\n",
    "MAE:  0.04354560510495446<br>\n",
    "MSE:  0.00416523884441271<br>\n",
    "<br>\n",
    "MAE:  0.3085248959709384 <br>\n",
    "MSE:  0.1272983096471534"
   ]
  },
  {
   "cell_type": "code",
   "execution_count": 23,
   "metadata": {
    "_uuid": "64a0a4288d0f91ba6f71adac289810794fff5e11"
   },
   "outputs": [
    {
     "name": "stdout",
     "output_type": "stream",
     "text": [
      "MAE:  0.037886358137369375\n",
      "MSE:  0.0033424738998788215\n"
     ]
    }
   ],
   "source": [
    "def fix_pred(X, pred):\n",
    "    df_sub = X.copy()\n",
    "    df_sub['winPlacePerc'] = pred\n",
    "    df_sub.loc[df_sub.maxPlace == 0, \"winPlacePerc\"] = 0\n",
    "    df_sub.loc[df_sub.maxPlace == 1, \"winPlacePerc\"] = 1.0\n",
    "    df_sub.loc[(df_sub['maxPlace'] > 1) & (df_sub['numGroups'] == 1), 'winPlacePerc'] = 0\n",
    "    subset = df_sub.loc[df_sub.maxPlace > 1]\n",
    "    gap = 1.0 / (subset.maxPlace.values - 1)\n",
    "    new_perc = np.around(subset.winPlacePerc.values / gap) * gap\n",
    "    df_sub.loc[df_sub.maxPlace > 1, \"winPlacePerc\"] = new_perc\n",
    "    \n",
    "#     df_sub.loc[df_sub[\"winPlacePerc\"] < 0, \"winPlacePerc\"] = 0\n",
    "#     df_sub.loc[df_sub[\"winPlacePerc\"] > 1, \"winPlacePerc\"] = 1.0\n",
    "    \n",
    "    \n",
    "    return df_sub[\"winPlacePerc\"]\n",
    "\n",
    "light_fix_pred = fix_pred(df_sub, pred_test)\n",
    "\n",
    "print(\"MAE: \",\n",
    "mean_absolute_error(y_holdout, light_fix_pred) )\n",
    "\n",
    "print(\"MSE: \",\n",
    "mean_squared_error(y_holdout, light_fix_pred))"
   ]
  },
  {
   "cell_type": "markdown",
   "metadata": {
    "_uuid": "64a0a4288d0f91ba6f71adac289810794fff5e11"
   },
   "source": []
  },
  {
   "cell_type": "markdown",
   "metadata": {
    "_uuid": "64a0a4288d0f91ba6f71adac289810794fff5e11"
   },
   "source": []
  },
  {
   "cell_type": "code",
   "execution_count": null,
   "metadata": {
    "_uuid": "64a0a4288d0f91ba6f71adac289810794fff5e11"
   },
   "outputs": [],
   "source": []
  },
  {
   "cell_type": "markdown",
   "metadata": {
    "_uuid": "64a0a4288d0f91ba6f71adac289810794fff5e11"
   },
   "source": []
  },
  {
   "cell_type": "code",
   "execution_count": 152,
   "metadata": {
    "_uuid": "64a0a4288d0f91ba6f71adac289810794fff5e11"
   },
   "outputs": [],
   "source": [
    "fi = model.feature_importance(importance_type='gain')\n",
    "fn = model.feature_name()\n",
    "fi = fi / fi.max() * 100"
   ]
  },
  {
   "cell_type": "code",
   "execution_count": 153,
   "metadata": {
    "_uuid": "64a0a4288d0f91ba6f71adac289810794fff5e11"
   },
   "outputs": [
    {
     "data": {
      "text/plain": [
       "<matplotlib.axes._subplots.AxesSubplot at 0x11bfe72e8>"
      ]
     },
     "execution_count": 153,
     "metadata": {},
     "output_type": "execute_result"
    },
    {
     "data": {
      "image/png": "[encoded data removed]",
      "text/plain": [
       "<Figure size 864x864 with 1 Axes>"
      ]
     },
     "metadata": {
      "needs_background": "light"
     },
     "output_type": "display_data"
    }
   ],
   "source": [
    "feat_importances = pd.Series(fi, index=fn)\n",
    "feat_importances.nlargest(30).plot(kind='barh', figsize=(12,12))"
   ]
  },
  {
   "cell_type": "code",
   "execution_count": 59,
   "metadata": {
    "_uuid": "7925d2035b218620d1fdcbaf6eeb8be996bf1256"
   },
   "outputs": [
    {
     "data": {
      "text/plain": [
       "<matplotlib.axes._subplots.AxesSubplot at 0x118f276a0>"
      ]
     },
     "execution_count": 59,
     "metadata": {},
     "output_type": "execute_result"
    },
    {
     "data": {
      "image/png": "[encoded data removed]",
      "text/plain": [
       "<Figure size 864x864 with 1 Axes>"
      ]
     },
     "metadata": {
      "needs_background": "light"
     },
     "output_type": "display_data"
    }
   ],
   "source": [
    "feat_importances.nsmallest(30).plot(kind='barh', figsize=(12,12))"
   ]
  },
  {
   "cell_type": "markdown",
   "metadata": {
    "_uuid": "b15b5f89db07f2fafcff01a94789954e82463671"
   },
   "source": []
  },
  {
   "cell_type": "markdown",
   "metadata": {
    "_uuid": "a09e20008867f5c906e39f6e7f4bd1717a37fd2f"
   },
   "source": [
    "# Test CatBoost"
   ]
  },
  {
   "cell_type": "code",
   "execution_count": 95,
   "metadata": {
    "_uuid": "13a636268caf6b116d1d4198fc278b1be59bffa8"
   },
   "outputs": [],
   "source": [
    "import catboost\n",
    "from catboost import CatBoostRegressor\n",
    "\n",
    "cat_model_name = 'new_cat_model.txt'\n",
    "def run_catboost(X_train, y_train, X_val, y_val, X_test):\n",
    "    model = None\n",
    "    \n",
    "    \n",
    "    \n",
    "    if not os.path.isfile(cat_model_name):\n",
    "        print(cat_model_name, ' not found, start train ;-(')\n",
    "        model = CatBoostRegressor(iterations=2500,#1500,\n",
    "                             learning_rate=0.05,\n",
    "                             depth=13,\n",
    "                             eval_metric='MAE',\n",
    "                              \n",
    "                             bootstrap_type='Bayesian',\n",
    "                             bagging_temperature = 0.4,\n",
    "                             colsample_bylevel=0.9,\n",
    "\n",
    "                             od_type='Iter',\n",
    "\n",
    "                             od_wait=20)\n",
    "        model.fit(X_train, y_train,\n",
    "              eval_set=(X_val, y_val),\n",
    "              use_best_model=True,\n",
    "              verbose=False)\n",
    "        model.save_model(cat_model_name)\n",
    "        \n",
    "    else:\n",
    "        print(cat_model_name, ' found, start predict ;-)')\n",
    "        model = CatBoostRegressor()\n",
    "        model.load_model(cat_model_name)\n",
    "    \n",
    "    \n",
    "    \n",
    "    \n",
    "    y_pred_submit = model.predict(X_test)\n",
    "\n",
    "    return y_pred_submit, model"
   ]
  },
  {
   "cell_type": "code",
   "execution_count": 96,
   "metadata": {
    "_uuid": "0acffc6accbe7cd10bfa197582a86cd5afde0480"
   },
   "outputs": [
    {
     "name": "stdout",
     "output_type": "stream",
     "text": [
      "cat_iters_2500  not found, start train ;-(\n"
     ]
    },
    {
     "data": {
      "text/plain": [
       "21"
      ]
     },
     "execution_count": 96,
     "metadata": {},
     "output_type": "execute_result"
    }
   ],
   "source": [
    "cat_preds, cat_model = run_catboost(dev_X, dev_y, val_X, val_y, X_holdout)\n",
    "gc.collect()\n"
   ]
  },
  {
   "cell_type": "code",
   "execution_count": 98,
   "metadata": {
    "_uuid": "f89460f457a4f8876b868dfb50756d3fa2b740c6"
   },
   "outputs": [
    {
     "name": "stdout",
     "output_type": "stream",
     "text": [
      "MAE:  0.03930947714587424\n",
      "MSE:  0.003449869912570009\n",
      "MAE:  0.039098391076763314\n"
     ]
    }
   ],
   "source": [
    "print(\"MAE: \",\n",
    "mean_absolute_error(y_holdout, cat_preds) )\n",
    "\n",
    "print(\"MSE: \",\n",
    "mean_squared_error(y_holdout, cat_preds))\n",
    "\n",
    "print(\"MAE: \",\n",
    "mean_absolute_error(y_holdout, fix_pred(df_sub,cat_preds)) )"
   ]
  },
  {
   "cell_type": "code",
   "execution_count": null,
   "metadata": {
    "_uuid": "8672bb977d34c4e3ca8b68da621c34d13e144c17"
   },
   "outputs": [],
   "source": [
    "MAE:  0.03930947714587424\n",
    "MSE:  0.003449869912570009\n",
    "    \n",
    "MAE:  0.03935530079373704\n",
    "MSE:  0.003452247054532898\n",
    "    \n",
    "MAE:  0.03937937994147074\n",
    "MSE:  0.003442165049903201\n",
    "    \n",
    "MAE:  0.03985730187929903\n",
    "MSE:  0.0035289553600514898\n",
    "    \n",
    "MAE:  0.039967249401811435\n",
    "MSE:  0.0035292414797628764\n",
    "    \n",
    "MAE:  0.040002110668519705\n",
    "MSE:  0.0035109118428077045\n",
    "    \n",
    "MAE:  0.04018625081067348\n",
    "MSE:  0.0035448821657998275"
   ]
  },
  {
   "cell_type": "code",
   "execution_count": 64,
   "metadata": {},
   "outputs": [],
   "source": [
    "cat_fi = cat_model.get_feature_importance(fstr_type='FeatureImportance')\n",
    "cat_fn = cat_model.feature_names_\n",
    "cat_fi = cat_fi\n"
   ]
  },
  {
   "cell_type": "code",
   "execution_count": 65,
   "metadata": {},
   "outputs": [
    {
     "data": {
      "text/plain": [
       "<matplotlib.axes._subplots.AxesSubplot at 0x11b5f7d68>"
      ]
     },
     "execution_count": 65,
     "metadata": {},
     "output_type": "execute_result"
    },
    {
     "data": {
      "image/png": "[encoded data removed]",
      "text/plain": [
       "<Figure size 864x864 with 1 Axes>"
      ]
     },
     "metadata": {
      "needs_background": "light"
     },
     "output_type": "display_data"
    }
   ],
   "source": [
    "cat_feat_importances = pd.Series(cat_fi, index=cat_fn)\n",
    "cat_feat_importances.nlargest(50).plot(kind='barh', figsize=(12,12))"
   ]
  },
  {
   "cell_type": "markdown",
   "metadata": {},
   "source": [
    "# Random forest\n",
    "<!--https://www.kaggle.com/pavelvpster/pubg-random-forest-baseline !-->"
   ]
  },
  {
   "cell_type": "code",
   "execution_count": 14,
   "metadata": {},
   "outputs": [],
   "source": [
    "from sklearn.ensemble import RandomForestRegressor\n",
    "# X_train, X_holdout, y_train, y_holdout \n",
    "rf = RandomForestRegressor(n_estimators=3000, criterion='mse',max_depth=6,\n",
    "                           min_samples_leaf=3, max_features='sqrt',\n",
    "                           n_jobs=-1, verbose=True)\n",
    "rf.fit(X_train, y_train)"
   ]
  },
  {
   "cell_type": "code",
   "execution_count": 14,
   "metadata": {},
   "outputs": [
    {
     "name": "stderr",
     "output_type": "stream",
     "text": [
      "[Parallel(n_jobs=-1)]: Done  42 tasks      | elapsed:   15.3s\n",
      "[Parallel(n_jobs=-1)]: Done 192 tasks      | elapsed:  1.0min\n",
      "[Parallel(n_jobs=-1)]: Done 442 tasks      | elapsed:  2.0min\n",
      "[Parallel(n_jobs=-1)]: Done 792 tasks      | elapsed:  3.3min\n",
      "[Parallel(n_jobs=-1)]: Done 1242 tasks      | elapsed:  4.9min\n",
      "[Parallel(n_jobs=-1)]: Done 1792 tasks      | elapsed:  7.1min\n",
      "[Parallel(n_jobs=-1)]: Done 2442 tasks      | elapsed:  9.7min\n",
      "[Parallel(n_jobs=-1)]: Done 3000 out of 3000 | elapsed: 11.8min finished\n",
      "[Parallel(n_jobs=4)]: Done  42 tasks      | elapsed:    0.1s\n",
      "[Parallel(n_jobs=4)]: Done 192 tasks      | elapsed:    0.2s\n",
      "[Parallel(n_jobs=4)]: Done 442 tasks      | elapsed:    0.5s\n",
      "[Parallel(n_jobs=4)]: Done 792 tasks      | elapsed:    0.9s\n",
      "[Parallel(n_jobs=4)]: Done 1242 tasks      | elapsed:    1.5s\n",
      "[Parallel(n_jobs=4)]: Done 1792 tasks      | elapsed:    2.1s\n",
      "[Parallel(n_jobs=4)]: Done 2442 tasks      | elapsed:    2.9s\n",
      "[Parallel(n_jobs=4)]: Done 3000 out of 3000 | elapsed:    3.6s finished\n"
     ]
    }
   ],
   "source": [
    "rf_y_pred = rf.predict(X_holdout)"
   ]
  },
  {
   "cell_type": "code",
   "execution_count": 28,
   "metadata": {},
   "outputs": [
    {
     "name": "stdout",
     "output_type": "stream",
     "text": [
      "MAE:  0.06138763809018693\n",
      "MSE:  0.007488019050449579\n"
     ]
    }
   ],
   "source": [
    "print(\"MAE: \",\n",
    "mean_absolute_error(y_holdout, rf_y_pred) )\n",
    "\n",
    "print(\"MSE: \",\n",
    "mean_squared_error(y_holdout, rf_y_pred))"
   ]
  },
  {
   "cell_type": "markdown",
   "metadata": {},
   "source": [
    "MAE:  0.06138763809018693 <br>\n",
    "MSE:  0.007488019050449579 <br>\n",
    "неплохо, но lightgbm лучше"
   ]
  },
  {
   "cell_type": "code",
   "execution_count": 66,
   "metadata": {},
   "outputs": [],
   "source": [
    "rf_fi = rf.feature_importances_\n",
    "rf_fn = X_train.columns"
   ]
  },
  {
   "cell_type": "code",
   "execution_count": 154,
   "metadata": {},
   "outputs": [
    {
     "data": {
      "text/plain": [
       "<matplotlib.axes._subplots.AxesSubplot at 0x12bb51320>"
      ]
     },
     "execution_count": 154,
     "metadata": {},
     "output_type": "execute_result"
    },
    {
     "data": {
      "image/png": "[encoded data removed]",
      "text/plain": [
       "<Figure size 864x864 with 1 Axes>"
      ]
     },
     "metadata": {
      "needs_background": "light"
     },
     "output_type": "display_data"
    }
   ],
   "source": [
    "rf_feat_importances = pd.Series(rf_fi, index=rf_fn)\n",
    "rf_feat_importances.nlargest(50).plot(kind='barh', figsize=(12,12))"
   ]
  },
  {
   "cell_type": "markdown",
   "metadata": {},
   "source": [
    "# xgboost"
   ]
  },
  {
   "cell_type": "code",
   "execution_count": 18,
   "metadata": {},
   "outputs": [],
   "source": [
    "import xgboost"
   ]
  },
  {
   "cell_type": "code",
   "execution_count": 20,
   "metadata": {},
   "outputs": [
    {
     "name": "stdout",
     "output_type": "stream",
     "text": [
      "[5151]\tvalidation_0-mae:0.036763\n",
      "[5152]\tvalidation_0-mae:0.036764\n",
      "[5153]\tvalidation_0-mae:0.036764\n",
      "[5154]\tvalidation_0-mae:0.036762\n",
      "[5155]\tvalidation_0-mae:0.036762\n",
      "[5156]\tvalidation_0-mae:0.036762\n",
      "[5157]\tvalidation_0-mae:0.036762\n",
      "[5158]\tvalidation_0-mae:0.036762\n",
      "[5159]\tvalidation_0-mae:0.036762\n",
      "[5160]\tvalidation_0-mae:0.036762\n",
      "[5161]\tvalidation_0-mae:0.036762\n",
      "[5162]\tvalidation_0-mae:0.036762\n",
      "[5163]\tvalidation_0-mae:0.036762\n",
      "[5164]\tvalidation_0-mae:0.036762\n",
      "[5165]\tvalidation_0-mae:0.036762\n",
      "[5166]\tvalidation_0-mae:0.036762\n",
      "[5167]\tvalidation_0-mae:0.036762\n",
      "[5168]\tvalidation_0-mae:0.036762\n",
      "[5169]\tvalidation_0-mae:0.036758\n",
      "[5170]\tvalidation_0-mae:0.036758\n",
      "[5171]\tvalidation_0-mae:0.036758\n",
      "[5172]\tvalidation_0-mae:0.036759\n",
      "[5173]\tvalidation_0-mae:0.036759\n",
      "[5174]\tvalidation_0-mae:0.036758\n",
      "[5175]\tvalidation_0-mae:0.036758\n",
      "[5176]\tvalidation_0-mae:0.036758\n",
      "[5177]\tvalidation_0-mae:0.036757\n",
      "[5178]\tvalidation_0-mae:0.036756\n",
      "[5179]\tvalidation_0-mae:0.036756\n",
      "[5180]\tvalidation_0-mae:0.036756\n",
      "[5181]\tvalidation_0-mae:0.036756\n",
      "[5182]\tvalidation_0-mae:0.036756\n",
      "[5183]\tvalidation_0-mae:0.036756\n",
      "[5184]\tvalidation_0-mae:0.036756\n",
      "[5185]\tvalidation_0-mae:0.036755\n",
      "[5186]\tvalidation_0-mae:0.036755\n",
      "[5187]\tvalidation_0-mae:0.036756\n",
      "[5188]\tvalidation_0-mae:0.036755\n",
      "[5189]\tvalidation_0-mae:0.036756\n",
      "[5190]\tvalidation_0-mae:0.036755\n",
      "[5191]\tvalidation_0-mae:0.036755\n",
      "[5192]\tvalidation_0-mae:0.036755\n",
      "[5193]\tvalidation_0-mae:0.036755\n",
      "[5194]\tvalidation_0-mae:0.036755\n",
      "[5195]\tvalidation_0-mae:0.036755\n",
      "[5196]\tvalidation_0-mae:0.036755\n",
      "[5197]\tvalidation_0-mae:0.036755\n",
      "[5198]\tvalidation_0-mae:0.036755\n",
      "[5199]\tvalidation_0-mae:0.036755\n",
      "[5200]\tvalidation_0-mae:0.036755\n",
      "[5201]\tvalidation_0-mae:0.036755\n",
      "[5202]\tvalidation_0-mae:0.036755\n",
      "[5203]\tvalidation_0-mae:0.036755\n",
      "[5204]\tvalidation_0-mae:0.036755\n",
      "[5205]\tvalidation_0-mae:0.036755\n",
      "[5206]\tvalidation_0-mae:0.036755\n",
      "[5207]\tvalidation_0-mae:0.036755\n",
      "[5208]\tvalidation_0-mae:0.036755\n",
      "[5209]\tvalidation_0-mae:0.036754\n",
      "[5210]\tvalidation_0-mae:0.036755\n",
      "[5211]\tvalidation_0-mae:0.036755\n",
      "[5212]\tvalidation_0-mae:0.036754\n",
      "[5213]\tvalidation_0-mae:0.036754\n",
      "[5214]\tvalidation_0-mae:0.036754\n",
      "[5215]\tvalidation_0-mae:0.036754\n",
      "[5216]\tvalidation_0-mae:0.036754\n",
      "[5217]\tvalidation_0-mae:0.036753\n",
      "[5218]\tvalidation_0-mae:0.036753\n",
      "[5219]\tvalidation_0-mae:0.036754\n",
      "[5220]\tvalidation_0-mae:0.036754\n",
      "[5221]\tvalidation_0-mae:0.036754\n",
      "[5222]\tvalidation_0-mae:0.036754\n",
      "[5223]\tvalidation_0-mae:0.036754\n",
      "[5224]\tvalidation_0-mae:0.036754\n",
      "[5225]\tvalidation_0-mae:0.036754\n",
      "[5226]\tvalidation_0-mae:0.036754\n",
      "[5227]\tvalidation_0-mae:0.036753\n",
      "[5228]\tvalidation_0-mae:0.036753\n",
      "[5229]\tvalidation_0-mae:0.036753\n",
      "[5230]\tvalidation_0-mae:0.036753\n",
      "[5231]\tvalidation_0-mae:0.036753\n",
      "[5232]\tvalidation_0-mae:0.036753\n",
      "[5233]\tvalidation_0-mae:0.036753\n",
      "[5234]\tvalidation_0-mae:0.036753\n",
      "[5235]\tvalidation_0-mae:0.036753\n",
      "[5236]\tvalidation_0-mae:0.036753\n",
      "[5237]\tvalidation_0-mae:0.036753\n",
      "[5238]\tvalidation_0-mae:0.036753\n",
      "[5239]\tvalidation_0-mae:0.036753\n",
      "[5240]\tvalidation_0-mae:0.036753\n",
      "[5241]\tvalidation_0-mae:0.036753\n",
      "[5242]\tvalidation_0-mae:0.036752\n",
      "[5243]\tvalidation_0-mae:0.036753\n",
      "[5244]\tvalidation_0-mae:0.036753\n",
      "[5245]\tvalidation_0-mae:0.036753\n",
      "[5246]\tvalidation_0-mae:0.036753\n",
      "[5247]\tvalidation_0-mae:0.036753\n",
      "[5248]\tvalidation_0-mae:0.036753\n",
      "[5249]\tvalidation_0-mae:0.036753\n",
      "[5250]\tvalidation_0-mae:0.036753\n",
      "[5251]\tvalidation_0-mae:0.036753\n",
      "[5252]\tvalidation_0-mae:0.036754\n",
      "[5253]\tvalidation_0-mae:0.036753\n",
      "[5254]\tvalidation_0-mae:0.036753\n",
      "[5255]\tvalidation_0-mae:0.036753\n",
      "[5256]\tvalidation_0-mae:0.036753\n",
      "[5257]\tvalidation_0-mae:0.036753\n",
      "[5258]\tvalidation_0-mae:0.036753\n",
      "[5259]\tvalidation_0-mae:0.036753\n",
      "[5260]\tvalidation_0-mae:0.036753\n",
      "[5261]\tvalidation_0-mae:0.036753\n",
      "[5262]\tvalidation_0-mae:0.036753\n",
      "[5263]\tvalidation_0-mae:0.036753\n",
      "[5264]\tvalidation_0-mae:0.036753\n",
      "[5265]\tvalidation_0-mae:0.036753\n",
      "[5266]\tvalidation_0-mae:0.036753\n",
      "[5267]\tvalidation_0-mae:0.036752\n",
      "[5268]\tvalidation_0-mae:0.036752\n",
      "[5269]\tvalidation_0-mae:0.036752\n",
      "[5270]\tvalidation_0-mae:0.036753\n",
      "[5271]\tvalidation_0-mae:0.036752\n",
      "[5272]\tvalidation_0-mae:0.036753\n",
      "[5273]\tvalidation_0-mae:0.036752\n",
      "[5274]\tvalidation_0-mae:0.036753\n",
      "[5275]\tvalidation_0-mae:0.036752\n",
      "[5276]\tvalidation_0-mae:0.036752\n",
      "[5277]\tvalidation_0-mae:0.036752\n",
      "[5278]\tvalidation_0-mae:0.036752\n",
      "[5279]\tvalidation_0-mae:0.036752\n",
      "[5280]\tvalidation_0-mae:0.036752\n",
      "[5281]\tvalidation_0-mae:0.036751\n",
      "[5282]\tvalidation_0-mae:0.036751\n",
      "[5283]\tvalidation_0-mae:0.036751\n",
      "[5284]\tvalidation_0-mae:0.036751\n",
      "[5285]\tvalidation_0-mae:0.036751\n",
      "[5286]\tvalidation_0-mae:0.036751\n",
      "[5287]\tvalidation_0-mae:0.036751\n",
      "[5288]\tvalidation_0-mae:0.036751\n",
      "[5289]\tvalidation_0-mae:0.036751\n",
      "[5290]\tvalidation_0-mae:0.036751\n",
      "[5291]\tvalidation_0-mae:0.036752\n",
      "[5292]\tvalidation_0-mae:0.036752\n",
      "[5293]\tvalidation_0-mae:0.036752\n",
      "[5294]\tvalidation_0-mae:0.036752\n",
      "[5295]\tvalidation_0-mae:0.036752\n",
      "[5296]\tvalidation_0-mae:0.036752\n",
      "[5297]\tvalidation_0-mae:0.036752\n",
      "[5298]\tvalidation_0-mae:0.036752\n",
      "[5299]\tvalidation_0-mae:0.036752\n",
      "[5300]\tvalidation_0-mae:0.036752\n",
      "[5301]\tvalidation_0-mae:0.036752\n",
      "[5302]\tvalidation_0-mae:0.036752\n",
      "[5303]\tvalidation_0-mae:0.036751\n",
      "[5304]\tvalidation_0-mae:0.036751\n",
      "[5305]\tvalidation_0-mae:0.036752\n",
      "[5306]\tvalidation_0-mae:0.036752\n",
      "[5307]\tvalidation_0-mae:0.036752\n",
      "[5308]\tvalidation_0-mae:0.036752\n",
      "[5309]\tvalidation_0-mae:0.03675\n",
      "[5310]\tvalidation_0-mae:0.03675\n",
      "[5311]\tvalidation_0-mae:0.03675\n",
      "[5312]\tvalidation_0-mae:0.03675\n",
      "[5313]\tvalidation_0-mae:0.03675\n",
      "[5314]\tvalidation_0-mae:0.03675\n",
      "[5315]\tvalidation_0-mae:0.03675\n",
      "[5316]\tvalidation_0-mae:0.03675\n",
      "[5317]\tvalidation_0-mae:0.036751\n",
      "[5318]\tvalidation_0-mae:0.03675\n",
      "[5319]\tvalidation_0-mae:0.03675\n",
      "[5320]\tvalidation_0-mae:0.03675\n",
      "[5321]\tvalidation_0-mae:0.03675\n",
      "[5322]\tvalidation_0-mae:0.03675\n",
      "[5323]\tvalidation_0-mae:0.03675\n",
      "[5324]\tvalidation_0-mae:0.03675\n",
      "[5325]\tvalidation_0-mae:0.03675\n",
      "[5326]\tvalidation_0-mae:0.036748\n",
      "[5327]\tvalidation_0-mae:0.036749\n",
      "[5328]\tvalidation_0-mae:0.036749\n",
      "[5329]\tvalidation_0-mae:0.036748\n",
      "[5330]\tvalidation_0-mae:0.036746\n",
      "[5331]\tvalidation_0-mae:0.036746\n",
      "[5332]\tvalidation_0-mae:0.036746\n",
      "[5333]\tvalidation_0-mae:0.036746\n",
      "[5334]\tvalidation_0-mae:0.036746\n",
      "[5335]\tvalidation_0-mae:0.036746\n",
      "[5336]\tvalidation_0-mae:0.036746\n",
      "[5337]\tvalidation_0-mae:0.036746\n",
      "[5338]\tvalidation_0-mae:0.036746\n",
      "[5339]\tvalidation_0-mae:0.036746\n",
      "[5340]\tvalidation_0-mae:0.036746\n",
      "[5341]\tvalidation_0-mae:0.036746\n",
      "[5342]\tvalidation_0-mae:0.036746\n",
      "[5343]\tvalidation_0-mae:0.036746\n",
      "[5344]\tvalidation_0-mae:0.036747\n",
      "[5345]\tvalidation_0-mae:0.036747\n",
      "[5346]\tvalidation_0-mae:0.036747\n",
      "[5347]\tvalidation_0-mae:0.036747\n",
      "[5348]\tvalidation_0-mae:0.036747\n",
      "[5349]\tvalidation_0-mae:0.036747\n",
      "[5350]\tvalidation_0-mae:0.036747\n",
      "[5351]\tvalidation_0-mae:0.036745\n",
      "[5352]\tvalidation_0-mae:0.036745\n",
      "[5353]\tvalidation_0-mae:0.036745\n",
      "[5354]\tvalidation_0-mae:0.036745\n",
      "[5355]\tvalidation_0-mae:0.036745\n",
      "[5356]\tvalidation_0-mae:0.036745\n",
      "[5357]\tvalidation_0-mae:0.036745\n",
      "[5358]\tvalidation_0-mae:0.036745\n",
      "[5359]\tvalidation_0-mae:0.036745\n",
      "[5360]\tvalidation_0-mae:0.036745\n",
      "[5361]\tvalidation_0-mae:0.036745\n",
      "[5362]\tvalidation_0-mae:0.036745\n",
      "[5363]\tvalidation_0-mae:0.036745\n",
      "[5364]\tvalidation_0-mae:0.036746\n",
      "[5365]\tvalidation_0-mae:0.036745\n",
      "[5366]\tvalidation_0-mae:0.036744\n",
      "[5367]\tvalidation_0-mae:0.036744\n",
      "[5368]\tvalidation_0-mae:0.036744\n",
      "[5369]\tvalidation_0-mae:0.036744\n",
      "[5370]\tvalidation_0-mae:0.036744\n",
      "[5371]\tvalidation_0-mae:0.036744\n",
      "[5372]\tvalidation_0-mae:0.036745\n",
      "[5373]\tvalidation_0-mae:0.036744\n",
      "[5374]\tvalidation_0-mae:0.036744\n",
      "[5375]\tvalidation_0-mae:0.036744\n",
      "[5376]\tvalidation_0-mae:0.036744\n",
      "[5377]\tvalidation_0-mae:0.036744\n",
      "[5378]\tvalidation_0-mae:0.036744\n",
      "[5379]\tvalidation_0-mae:0.036743\n",
      "[5380]\tvalidation_0-mae:0.036744\n",
      "[5381]\tvalidation_0-mae:0.036743\n",
      "[5382]\tvalidation_0-mae:0.036743\n",
      "[5383]\tvalidation_0-mae:0.036743\n",
      "[5384]\tvalidation_0-mae:0.036743\n",
      "[5385]\tvalidation_0-mae:0.036743\n",
      "[5386]\tvalidation_0-mae:0.036742\n",
      "[5387]\tvalidation_0-mae:0.036742\n",
      "[5388]\tvalidation_0-mae:0.036742\n",
      "[5389]\tvalidation_0-mae:0.036742\n",
      "[5390]\tvalidation_0-mae:0.036742\n",
      "[5391]\tvalidation_0-mae:0.036743\n",
      "[5392]\tvalidation_0-mae:0.036743\n",
      "[5393]\tvalidation_0-mae:0.036742\n",
      "[5394]\tvalidation_0-mae:0.036743\n",
      "[5395]\tvalidation_0-mae:0.036742\n",
      "[5396]\tvalidation_0-mae:0.036743\n",
      "[5397]\tvalidation_0-mae:0.036742\n",
      "[5398]\tvalidation_0-mae:0.036741\n",
      "[5399]\tvalidation_0-mae:0.03674\n",
      "[5400]\tvalidation_0-mae:0.036739\n",
      "[5401]\tvalidation_0-mae:0.036739\n",
      "[5402]\tvalidation_0-mae:0.03674\n",
      "[5403]\tvalidation_0-mae:0.036739\n",
      "[5404]\tvalidation_0-mae:0.036739\n",
      "[5405]\tvalidation_0-mae:0.036739\n",
      "[5406]\tvalidation_0-mae:0.036739\n",
      "[5407]\tvalidation_0-mae:0.036739\n",
      "[5408]\tvalidation_0-mae:0.036739\n",
      "[5409]\tvalidation_0-mae:0.036738\n",
      "[5410]\tvalidation_0-mae:0.036737\n",
      "[5411]\tvalidation_0-mae:0.036737\n",
      "[5412]\tvalidation_0-mae:0.036737\n",
      "[5413]\tvalidation_0-mae:0.036737\n",
      "[5414]\tvalidation_0-mae:0.036737\n",
      "[5415]\tvalidation_0-mae:0.036737\n",
      "[5416]\tvalidation_0-mae:0.036737\n",
      "[5417]\tvalidation_0-mae:0.036737\n",
      "[5418]\tvalidation_0-mae:0.036737\n",
      "[5419]\tvalidation_0-mae:0.036736\n",
      "[5420]\tvalidation_0-mae:0.036736\n",
      "[5421]\tvalidation_0-mae:0.036736\n",
      "[5422]\tvalidation_0-mae:0.036736\n",
      "[5423]\tvalidation_0-mae:0.036736\n",
      "[5424]\tvalidation_0-mae:0.036736\n",
      "[5425]\tvalidation_0-mae:0.036735\n",
      "[5426]\tvalidation_0-mae:0.036736\n",
      "[5427]\tvalidation_0-mae:0.036736\n",
      "[5428]\tvalidation_0-mae:0.036735\n",
      "[5429]\tvalidation_0-mae:0.036735\n",
      "[5430]\tvalidation_0-mae:0.036734\n",
      "[5431]\tvalidation_0-mae:0.036735\n",
      "[5432]\tvalidation_0-mae:0.036735\n",
      "[5433]\tvalidation_0-mae:0.036734\n",
      "[5434]\tvalidation_0-mae:0.036734\n",
      "[5435]\tvalidation_0-mae:0.036734\n",
      "[5436]\tvalidation_0-mae:0.036734\n",
      "[5437]\tvalidation_0-mae:0.036734\n",
      "[5438]\tvalidation_0-mae:0.036734\n",
      "[5439]\tvalidation_0-mae:0.036734\n",
      "[5440]\tvalidation_0-mae:0.036734\n",
      "[5441]\tvalidation_0-mae:0.036734\n",
      "[5442]\tvalidation_0-mae:0.036734\n",
      "[5443]\tvalidation_0-mae:0.036734\n",
      "[5444]\tvalidation_0-mae:0.036734\n",
      "[5445]\tvalidation_0-mae:0.036734\n",
      "[5446]\tvalidation_0-mae:0.036734\n",
      "[5447]\tvalidation_0-mae:0.036734\n",
      "[5448]\tvalidation_0-mae:0.036735\n",
      "[5449]\tvalidation_0-mae:0.036735\n",
      "[5450]\tvalidation_0-mae:0.036735\n",
      "[5451]\tvalidation_0-mae:0.036735\n",
      "[5452]\tvalidation_0-mae:0.036735\n",
      "[5453]\tvalidation_0-mae:0.036735\n",
      "[5454]\tvalidation_0-mae:0.036735\n",
      "[5455]\tvalidation_0-mae:0.036735\n",
      "[5456]\tvalidation_0-mae:0.036734\n",
      "[5457]\tvalidation_0-mae:0.036734\n",
      "[5458]\tvalidation_0-mae:0.036734\n",
      "[5459]\tvalidation_0-mae:0.036734\n",
      "[5460]\tvalidation_0-mae:0.036734\n",
      "[5461]\tvalidation_0-mae:0.036734\n",
      "[5462]\tvalidation_0-mae:0.036735\n",
      "[5463]\tvalidation_0-mae:0.036735\n",
      "[5464]\tvalidation_0-mae:0.036735\n",
      "[5465]\tvalidation_0-mae:0.036735\n",
      "[5466]\tvalidation_0-mae:0.036735\n",
      "[5467]\tvalidation_0-mae:0.036735\n",
      "[5468]\tvalidation_0-mae:0.036734\n",
      "[5469]\tvalidation_0-mae:0.036732\n",
      "[5470]\tvalidation_0-mae:0.036732\n",
      "[5471]\tvalidation_0-mae:0.036731\n",
      "[5472]\tvalidation_0-mae:0.036731\n",
      "[5473]\tvalidation_0-mae:0.03673\n",
      "[5474]\tvalidation_0-mae:0.03673\n",
      "[5475]\tvalidation_0-mae:0.03673\n",
      "[5476]\tvalidation_0-mae:0.03673\n",
      "[5477]\tvalidation_0-mae:0.03673\n",
      "[5478]\tvalidation_0-mae:0.03673\n",
      "[5479]\tvalidation_0-mae:0.03673\n",
      "[5480]\tvalidation_0-mae:0.03673\n",
      "[5481]\tvalidation_0-mae:0.03673\n",
      "[5482]\tvalidation_0-mae:0.03673\n",
      "[5483]\tvalidation_0-mae:0.03673\n",
      "[5484]\tvalidation_0-mae:0.03673\n",
      "[5485]\tvalidation_0-mae:0.036729\n",
      "[5486]\tvalidation_0-mae:0.03673\n",
      "[5487]\tvalidation_0-mae:0.03673\n",
      "[5488]\tvalidation_0-mae:0.03673\n",
      "[5489]\tvalidation_0-mae:0.036729\n",
      "[5490]\tvalidation_0-mae:0.036729\n",
      "[5491]\tvalidation_0-mae:0.036729\n",
      "[5492]\tvalidation_0-mae:0.036729\n",
      "[5493]\tvalidation_0-mae:0.036729\n",
      "[5494]\tvalidation_0-mae:0.036729\n",
      "[5495]\tvalidation_0-mae:0.036729\n",
      "[5496]\tvalidation_0-mae:0.036729\n",
      "[5497]\tvalidation_0-mae:0.036729\n",
      "[5498]\tvalidation_0-mae:0.036729\n",
      "[5499]\tvalidation_0-mae:0.036729\n",
      "[5500]\tvalidation_0-mae:0.036729\n",
      "[5501]\tvalidation_0-mae:0.036729\n",
      "[5502]\tvalidation_0-mae:0.036729\n",
      "[5503]\tvalidation_0-mae:0.036729\n",
      "[5504]\tvalidation_0-mae:0.036729\n",
      "[5505]\tvalidation_0-mae:0.036729\n",
      "[5506]\tvalidation_0-mae:0.036729\n",
      "[5507]\tvalidation_0-mae:0.036728\n",
      "[5508]\tvalidation_0-mae:0.036727\n",
      "[5509]\tvalidation_0-mae:0.036727\n",
      "[5510]\tvalidation_0-mae:0.036728\n",
      "[5511]\tvalidation_0-mae:0.036726\n",
      "[5512]\tvalidation_0-mae:0.036726\n",
      "[5513]\tvalidation_0-mae:0.036726\n",
      "[5514]\tvalidation_0-mae:0.036726\n",
      "[5515]\tvalidation_0-mae:0.036726\n",
      "[5516]\tvalidation_0-mae:0.036725\n",
      "[5517]\tvalidation_0-mae:0.036725\n",
      "[5518]\tvalidation_0-mae:0.036725\n",
      "[5519]\tvalidation_0-mae:0.036724\n",
      "[5520]\tvalidation_0-mae:0.036724\n",
      "[5521]\tvalidation_0-mae:0.036724\n",
      "[5522]\tvalidation_0-mae:0.036724\n",
      "[5523]\tvalidation_0-mae:0.036724\n",
      "[5524]\tvalidation_0-mae:0.036724\n",
      "[5525]\tvalidation_0-mae:0.036724\n",
      "[5526]\tvalidation_0-mae:0.036724\n",
      "[5527]\tvalidation_0-mae:0.036724\n",
      "[5528]\tvalidation_0-mae:0.036724\n",
      "[5529]\tvalidation_0-mae:0.036724\n",
      "[5530]\tvalidation_0-mae:0.036723\n",
      "[5531]\tvalidation_0-mae:0.036723\n",
      "[5532]\tvalidation_0-mae:0.036724\n",
      "[5533]\tvalidation_0-mae:0.036722\n",
      "[5534]\tvalidation_0-mae:0.036723\n",
      "[5535]\tvalidation_0-mae:0.036722\n",
      "[5536]\tvalidation_0-mae:0.036722\n",
      "[5537]\tvalidation_0-mae:0.036722\n",
      "[5538]\tvalidation_0-mae:0.036721\n",
      "[5539]\tvalidation_0-mae:0.036722\n",
      "[5540]\tvalidation_0-mae:0.036721\n",
      "[5541]\tvalidation_0-mae:0.036722\n",
      "[5542]\tvalidation_0-mae:0.036721\n",
      "[5543]\tvalidation_0-mae:0.036721\n",
      "[5544]\tvalidation_0-mae:0.036721\n",
      "[5545]\tvalidation_0-mae:0.036721\n",
      "[5546]\tvalidation_0-mae:0.036722\n",
      "[5547]\tvalidation_0-mae:0.036722\n",
      "[5548]\tvalidation_0-mae:0.036722\n",
      "[5549]\tvalidation_0-mae:0.036722\n",
      "[5550]\tvalidation_0-mae:0.036722\n",
      "[5551]\tvalidation_0-mae:0.036722\n",
      "[5552]\tvalidation_0-mae:0.036722\n",
      "[5553]\tvalidation_0-mae:0.036722\n",
      "[5554]\tvalidation_0-mae:0.036722\n"
     ]
    },
    {
     "data": {
      "text/plain": [
       "XGBRegressor(base_score=0.5, booster='gbtree', colsample_bylevel=1,\n",
       "       colsample_bytree=0.9, disable_default_eval_metric=1, gamma=0,\n",
       "       learning_rate=0.05, max_delta_step=0, max_depth=11,\n",
       "       min_child_weight=1, missing=None, n_estimators=5555, n_jobs=1,\n",
       "       nthread=None, objective='reg:linear', random_state=0, reg_alpha=0,\n",
       "       reg_lambda=1, scale_pos_weight=1, seed=None, silent=True,\n",
       "       subsample=0.9)"
      ]
     },
     "execution_count": 20,
     "metadata": {},
     "output_type": "execute_result"
    }
   ],
   "source": [
    "xgb = xgboost.XGBRegressor(\n",
    "    n_estimators=5555,#1650,\n",
    "    max_depth=11,\n",
    "    disable_default_eval_metric=1,\n",
    "    \n",
    "    subsample=0.9,\n",
    "    colsample_bytree=0.9,\n",
    "    learning_rate=0.05#0.007\n",
    "    )\n",
    "xgb.fit(dev_X, dev_y,\n",
    "        eval_set=[(val_X, val_y)], eval_metric='mae',\n",
    "        early_stopping_rounds=100)"
   ]
  },
  {
   "cell_type": "code",
   "execution_count": 21,
   "metadata": {},
   "outputs": [],
   "source": [
    "xgb_y_pred = xgb.predict(X_holdout)"
   ]
  },
  {
   "cell_type": "code",
   "execution_count": 24,
   "metadata": {},
   "outputs": [
    {
     "name": "stdout",
     "output_type": "stream",
     "text": [
      "MAE:  0.03695111\n",
      "MSE:  0.003327405\n",
      "MAE:  0.036701062357402885\n",
      "MAE:  0.03665005489085967\n"
     ]
    }
   ],
   "source": [
    "print(\"MAE: \",\n",
    "mean_absolute_error(y_holdout, xgb_y_pred) )\n",
    "\n",
    "print(\"MSE: \",\n",
    "mean_squared_error(y_holdout, xgb_y_pred))\n",
    "\n",
    "\n",
    "print(\"MAE: \",\n",
    "mean_absolute_error(y_holdout, fix_pred(df_sub, xgb_y_pred)) )\n",
    "\n",
    "xgb_y_pred_fixed = xgb_y_pred.copy()\n",
    "\n",
    "xgb_y_pred_fixed[xgb_y_pred_fixed > 1] = 1\n",
    "\n",
    "xgb_y_pred_fixed[xgb_y_pred_fixed < 0] = 0\n",
    "\n",
    "\n",
    "print(\"MAE: \",\n",
    "mean_absolute_error(y_holdout, fix_pred(df_sub, xgb_y_pred_fixed)) )\n"
   ]
  },
  {
   "cell_type": "code",
   "execution_count": 99,
   "metadata": {},
   "outputs": [],
   "source": [
    "MAE:  0.03787041\n",
    "MSE:  0.0033754273\n",
    "MAE:  0.037610762662964786\n",
    "    \n",
    "MAE:  0.03984858\n",
    "MSE:  0.0035125967\n",
    "MAE:  0.03963832653640412"
   ]
  },
  {
   "cell_type": "code",
   "execution_count": 99,
   "metadata": {},
   "outputs": [],
   "source": [
    "# from sklearn.model_selection import GridSearchCV"
   ]
  },
  {
   "cell_type": "code",
   "execution_count": 102,
   "metadata": {},
   "outputs": [
    {
     "name": "stdout",
     "output_type": "stream",
     "text": [
      "{'reg_alpha': [0, 0.5], 'reg_lambda': [0, 0.5], 'gamma': [0, 0.5], 'subsample': [0.7, 1], 'colsample_bytree': [0.7, 1], 'max_depth': [1, 7, 9, 11], 'learning_rate': [0.05], 'n_estimators': [1500, 2000]}\n"
     ]
    }
   ],
   "source": [
    "# params_grid_xgb = {\n",
    "#           'reg_alpha': [0, 0.5],\n",
    "#           'reg_lambda': [0, 0.5],\n",
    "#           'gamma': [0, 0.5],\n",
    "#           'subsample': [0.7, 1],\n",
    "#           'colsample_bytree':[0.7, 1],\n",
    "#           'max_depth': [1] +[1 + i*2 for i in range(3,6)],\n",
    "#           'learning_rate': [0.05],\n",
    "#           'n_estimators': [1000 + 500*i for i in range(1,3)]\n",
    "# }\n",
    "# xgb_grid = GridSearchCV(xgb, param_grid=params_grid_xgb, cv=5, n_jobs=-1,\n",
    "# verbose=True)\n",
    "# print(params_grid_xgb)"
   ]
  },
  {
   "cell_type": "code",
   "execution_count": null,
   "metadata": {},
   "outputs": [],
   "source": [
    "# xgb_grid.fit(X_train, y_train)\n",
    "# print(\"Fit end\")\n",
    "# print(xgb_grid.best_params_, xgb_grid.best_score_)"
   ]
  },
  {
   "cell_type": "code",
   "execution_count": 30,
   "metadata": {},
   "outputs": [],
   "source": []
  },
  {
   "cell_type": "code",
   "execution_count": 25,
   "metadata": {},
   "outputs": [],
   "source": [
    "xgb.save_model('xgb_037')"
   ]
  },
  {
   "cell_type": "markdown",
   "metadata": {},
   "source": [
    "MAE:  0.03984858 <br>\n",
    "MSE:  0.0035125967 <br>\n",
    "на уровне с lightgbm"
   ]
  },
  {
   "cell_type": "code",
   "execution_count": 155,
   "metadata": {},
   "outputs": [],
   "source": [
    "xgb_fi = xgb.feature_importances_\n",
    "xgb_fn = X_train.columns"
   ]
  },
  {
   "cell_type": "code",
   "execution_count": 156,
   "metadata": {},
   "outputs": [
    {
     "data": {
      "text/plain": [
       "<matplotlib.axes._subplots.AxesSubplot at 0x12e758fd0>"
      ]
     },
     "execution_count": 156,
     "metadata": {},
     "output_type": "execute_result"
    },
    {
     "data": {
      "image/png": "[encoded data removed]",
      "text/plain": [
       "<Figure size 864x864 with 1 Axes>"
      ]
     },
     "metadata": {
      "needs_background": "light"
     },
     "output_type": "display_data"
    }
   ],
   "source": [
    "xgb_feat_importances = pd.Series(xgb_fi, index=xgb_fn)\n",
    "xgb_feat_importances.nlargest(50).plot(kind='barh', figsize=(12,12))"
   ]
  },
  {
   "cell_type": "code",
   "execution_count": null,
   "metadata": {},
   "outputs": [],
   "source": []
  },
  {
   "cell_type": "code",
   "execution_count": 157,
   "metadata": {},
   "outputs": [
    {
     "name": "stdout",
     "output_type": "stream",
     "text": [
      "MAE:  0.03797528697856334\n",
      "MSE:  0.0032927908276403914\n"
     ]
    }
   ],
   "source": [
    "xgb_cat_light = (xgb_y_pred + cat_preds + pred_y) / float(3)\n",
    "print(\"MAE: \",\n",
    "mean_absolute_error(y_holdout, xgb_cat_light) )\n",
    "\n",
    "print(\"MSE: \",\n",
    "mean_squared_error(y_holdout, xgb_cat_light))"
   ]
  },
  {
   "cell_type": "code",
   "execution_count": 158,
   "metadata": {},
   "outputs": [
    {
     "name": "stdout",
     "output_type": "stream",
     "text": [
      "MAE:  0.03797135476325532\n",
      "MSE:  0.0033159750784003505\n"
     ]
    }
   ],
   "source": [
    "xgb_cat_light_rf = (0.1*xgb_y_pred + 0.05*cat_preds + 0.8*pred_y + 0.05*rf_y_pred) \n",
    "xgb_cat_light_rf = fix_pred(df_sub, xgb_cat_light_rf)\n",
    "print(\"MAE: \",\n",
    "mean_absolute_error(y_holdout, xgb_cat_light_rf) )\n",
    "\n",
    "print(\"MSE: \",\n",
    "mean_squared_error(y_holdout, xgb_cat_light_rf))\n",
    "\n"
   ]
  },
  {
   "cell_type": "code",
   "execution_count": 160,
   "metadata": {},
   "outputs": [
    {
     "name": "stdout",
     "output_type": "stream",
     "text": [
      "MAE:  0.03761076264123822\n",
      "MSE:  0.003363435679381474\n",
      "next\n",
      "MAE:  0.03904907316679887\n",
      "MSE:  0.0034574501924131977\n",
      "next\n",
      "MAE:  0.037849318934970407\n",
      "MSE:  0.00333096965477936\n",
      "next\n",
      "MAE:  0.06105763426800979\n",
      "MSE:  0.00744968323596438\n",
      "next\n",
      "MAE:  0.03805896841703159\n",
      "MSE:  0.003346524399073411\n",
      "next\n",
      "MAE:  0.037479118888566344\n",
      "MSE:  0.0032973446144523764\n",
      "next\n",
      "MAE:  0.04582930048114942\n",
      "MSE:  0.0043768412715880275\n",
      "next\n",
      "MAE:  0.038177995113180326\n",
      "MSE:  0.00334360935553123\n",
      "next\n",
      "MAE:  0.046614265109462566\n",
      "MSE:  0.004482858995409761\n",
      "next\n",
      "MAE:  0.04580486843010441\n",
      "MSE:  0.004355349179902291\n",
      "next\n",
      "MAE:  0.03772598449933292\n",
      "MSE:  0.003297650707003935\n",
      "next\n",
      "MAE:  0.04242450448247116\n",
      "MSE:  0.003836323016419464\n",
      "next\n",
      "MAE:  0.041913057069501464\n",
      "MSE:  0.0037711279205819986\n",
      "next\n",
      "MAE:  0.04244958436666296\n",
      "MSE:  0.003827683012778285\n",
      "next\n",
      "Best MAE:  0.037479118888566344\n",
      "('xgb', 'light')\n"
     ]
    }
   ],
   "source": [
    "import itertools\n",
    "all_pred = [fix_pred(df_sub, xgb_y_pred) , fix_pred(df_sub, cat_preds) ,\n",
    "            fix_pred(df_sub,pred_y), fix_pred(df_sub,rf_y_pred)]\n",
    "\n",
    "all_names = ['xgb', 'cat', 'light', 'rf']\n",
    "\n",
    "perms = [x for l in range(1, len(all_pred)) for x in itertools.combinations(all_pred, l)]\n",
    "\n",
    "perms_names = [x for l in range(1, len(all_names)) for x in itertools.combinations(all_names, l)]\n",
    "\n",
    "best_mae = 99\n",
    "best_comb = ''\n",
    "for p, p_name in zip(perms, perms_names):\n",
    "    pred = sum(p) / len(p)\n",
    "    \n",
    "    pred = fix_pred(df_sub,pred)\n",
    "    \n",
    "    pred[pred > 1] = 1.0\n",
    "    pred[pred < 0] = 0.0\n",
    "    \n",
    "    mae = mean_absolute_error(y_holdout, pred)\n",
    "    print(\"MAE: \",\n",
    "     mae)\n",
    "    if mae < best_mae:\n",
    "        best_mae = mae\n",
    "        best_comb = p_name\n",
    "        \n",
    "\n",
    "    print(\"MSE: \",\n",
    "    mean_squared_error(y_holdout, pred))\n",
    "    print('next')\n",
    "    \n",
    "print(\"Best MAE: \",\n",
    "     best_mae)\n",
    "print(best_comb)"
   ]
  },
  {
   "cell_type": "code",
   "execution_count": 134,
   "metadata": {},
   "outputs": [
    {
     "data": {
      "text/plain": [
       "0.03757936481538985"
      ]
     },
     "execution_count": 134,
     "metadata": {},
     "output_type": "execute_result"
    }
   ],
   "source": [
    "0.03757936481538985"
   ]
  },
  {
   "cell_type": "markdown",
   "metadata": {},
   "source": [
    "# Best here"
   ]
  },
  {
   "cell_type": "code",
   "execution_count": 26,
   "metadata": {},
   "outputs": [
    {
     "name": "stdout",
     "output_type": "stream",
     "text": [
      "MAE:  0.03657368072685952\n",
      "MSE:  0.0032308924751346248\n"
     ]
    }
   ],
   "source": [
    "xgb_cat_light_rf = (0.55*fix_pred(df_sub,xgb_y_pred) +  0.45*fix_pred(df_sub,pred_y)) \n",
    "xgb_cat_light_rf = fix_pred(df_sub, xgb_cat_light_rf)\n",
    "\n",
    "xgb_cat_light_rf[xgb_cat_light_rf > 1] = 1.0\n",
    "xgb_cat_light_rf[xgb_cat_light_rf < 0] = 0.0\n",
    "\n",
    "print(\"MAE: \",\n",
    "mean_absolute_error(y_holdout, xgb_cat_light_rf) )\n",
    "\n",
    "print(\"MSE: \",\n",
    "mean_squared_error(y_holdout, xgb_cat_light_rf))"
   ]
  },
  {
   "cell_type": "code",
   "execution_count": null,
   "metadata": {},
   "outputs": [],
   "source": [
    "MAE:  0.03736932502041915\n",
    "MSE:  0.0032889180378494966\n",
    "    "
   ]
  },
  {
   "cell_type": "code",
   "execution_count": 27,
   "metadata": {},
   "outputs": [
    {
     "name": "stdout",
     "output_type": "stream",
     "text": [
      "0.03657368072685952 0.55\n"
     ]
    }
   ],
   "source": [
    "best = 1.0\n",
    "best_mae = 11\n",
    "for i in range(5400, 5600):\n",
    "    part = 0.0001 * i\n",
    "    pred = (part*fix_pred(df_sub,xgb_y_pred) +  (1 - part)*fix_pred(df_sub,pred_y)) \n",
    "    \n",
    "    pred = fix_pred(df_sub,pred)\n",
    "    \n",
    "    pred[pred > 1] = 1.0\n",
    "    pred[pred < 0] = 0.0\n",
    "#     print(part)\n",
    "    \n",
    "    mae = mean_absolute_error(y_holdout, pred)\n",
    "    if mae < best_mae:\n",
    "        best_mae = mae\n",
    "        best = part\n",
    "print(best_mae, best)"
   ]
  },
  {
   "cell_type": "code",
   "execution_count": null,
   "metadata": {},
   "outputs": [],
   "source": []
  }
 ],
 "metadata": {
  "kernelspec": {
   "display_name": "Python 3",
   "language": "python",
   "name": "python3"
  },
  "language_info": {
   "codemirror_mode": {
    "name": "ipython",
    "version": 3
   },
   "file_extension": ".py",
   "mimetype": "text/x-python",
   "name": "python",
   "nbconvert_exporter": "python",
   "pygments_lexer": "ipython3",
   "version": "3.7.0"
  }
 },
 "nbformat": 4,
 "nbformat_minor": 2
}
