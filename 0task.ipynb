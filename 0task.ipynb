{
 "cells": [
  {
   "cell_type": "markdown",
   "metadata": {},
   "source": [
    "<h1> ROC Curve</h1>"
   ]
  },
  {
   "cell_type": "code",
   "execution_count": 5,
   "metadata": {},
   "outputs": [
    {
     "data": {
      "image/png": "[encoded data removed]",
      "text/plain": [
       "<Figure size 432x288 with 2 Axes>"
      ]
     },
     "metadata": {
      "needs_background": "light"
     },
     "output_type": "display_data"
    },
    {
     "data": {
      "image/png": "[encoded data removed]",
      "text/plain": [
       "<Figure size 432x288 with 2 Axes>"
      ]
     },
     "metadata": {
      "needs_background": "light"
     },
     "output_type": "display_data"
    }
   ],
   "source": [
    "import matplotlib.pyplot as plt\n",
    "import numpy as np\n",
    "from sklearn import metrics\n",
    "\n",
    "\n",
    "score = np.array([0.1, 0.4, 0.35, 0.8])\n",
    "y = np.array([0, 0, 1, 1])\n",
    "\n",
    "fpr, tpr, thresholds = metrics.roc_curve(y, score, pos_label=1)\n",
    "roc_auc = metrics.auc(fpr, tpr)\n",
    "\n",
    "precision, recall, _ = metrics.precision_recall_curve(y, score)\n",
    "\n",
    "pr_auc = metrics.auc(recall, precision)\n",
    "\n",
    "roc_x = []\n",
    "roc_y = []\n",
    "\n",
    "pr_x = [0.0]\n",
    "pr_y = [1.0]\n",
    "\n",
    "min_score = min(score)\n",
    "max_score = max(score)\n",
    "thr = np.linspace(min_score, max_score, 30)\n",
    "thr = np.flip(thr)\n",
    "#print(thresholds, thr)\n",
    "\n",
    "P = sum(y)\n",
    "N = len(y) - P\n",
    "AUC = 0.0\n",
    "\n",
    "for (_, T) in enumerate(thr):\n",
    "    FP=0\n",
    "    TP=0\n",
    "    FN = 0\n",
    "    TN = 0\n",
    "    for i in range(0, len(score)):\n",
    "        #print(score[i])\n",
    "        if (score[i] > T):\n",
    "            if (y[i]==1):\n",
    "                TP = TP + 1\n",
    "            else:\n",
    "                FP = FP + 1\n",
    "        else:\n",
    "            if (y[i]==1):\n",
    "                FN = FN + 1\n",
    "            else:\n",
    "                TN = TN + 1\n",
    "                \n",
    "    FPR = FP/float(N)\n",
    "    TPR = TP/float(P)\n",
    "    if ((TP + FP) > 0.0):\n",
    "        pr = TP / float(TP + FP)\n",
    "        re = TP / float(TP + FN) #TPR\n",
    "        pr_x.append(re)\n",
    "        pr_y.append(pr)\n",
    "    if(FPR == 0.0 and TPR == 0.0):\n",
    "        continue\n",
    "    roc_x.append(FPR)\n",
    "    roc_y.append(TPR)\n",
    "\n",
    "roc_x.append(1.0)\n",
    "roc_y.append(1.0)\n",
    "AUC = np.trapz(roc_y, roc_x)\n",
    "PR = np.trapz(pr_y, pr_x)\n",
    "#print(AUC)\n",
    "\n",
    "#ROC\n",
    "f, axarr = plt.subplots(2, sharex=True)\n",
    "axarr[0].plot(fpr, tpr, color='darkorange', label='ROC curve (area = %0.2f)' % roc_auc)\n",
    "axarr[1].plot(roc_x, roc_y, color='blue', label='ROC curve (area = %0.2f)' % AUC)\n",
    "\n",
    "axarr[0].legend(loc=\"lower right\")\n",
    "axarr[1].legend(loc=\"lower right\")\n",
    "\n",
    "#PR\n",
    "f, axarr = plt.subplots(2, sharex=True)\n",
    "axarr[0].plot(precision, recall, color='darkorange', label='PR curve (area = %0.2f)' % pr_auc)\n",
    "\n",
    "\n",
    "axarr[1].plot(pr_y, pr_x, color='blue', label='PR curve (area = %0.2f)' % PR)\n",
    "\n",
    "axarr[0].legend(loc=\"lower left\")\n",
    "axarr[1].legend(loc=\"lower left\")\n",
    "\n",
    "plt.show()"
   ]
  },
  {
   "cell_type": "code",
   "execution_count": null,
   "metadata": {},
   "outputs": [],
   "source": []
  }
 ],
 "metadata": {
  "kernelspec": {
   "display_name": "Python 3",
   "language": "python",
   "name": "python3"
  },
  "language_info": {
   "codemirror_mode": {
    "name": "ipython",
    "version": 3
   },
   "file_extension": ".py",
   "mimetype": "text/x-python",
   "name": "python",
   "nbconvert_exporter": "python",
   "pygments_lexer": "ipython3",
   "version": "3.7.0"
  }
 },
 "nbformat": 4,
 "nbformat_minor": 2
}
