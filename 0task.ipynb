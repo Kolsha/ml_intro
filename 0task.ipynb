{
 "cells": [
  {
   "cell_type": "code",
   "execution_count": 10,
   "metadata": {},
   "outputs": [],
   "source": [
    "import matplotlib.pyplot as plt\n",
    "import numpy as np\n",
    "from sklearn import metrics\n",
    "    "
   ]
  },
  {
   "cell_type": "markdown",
   "metadata": {},
   "source": [
    "<h1> ROC Curve</h1>"
   ]
  },
  {
   "cell_type": "code",
   "execution_count": 35,
   "metadata": {},
   "outputs": [
    {
     "data": {
      "image/png": "[encoded data removed]",
      "text/plain": [
       "<Figure size 432x288 with 2 Axes>"
      ]
     },
     "metadata": {
      "needs_background": "light"
     },
     "output_type": "display_data"
    }
   ],
   "source": [
    "def roc_curve(y, score, pos_label=1):\n",
    "    fpr, tpr = [], []\n",
    "    min_score = min(score)\n",
    "    max_score = max(score)\n",
    "    thr = np.linspace(min_score, max_score, 30)\n",
    "    thr = np.flip(thr)\n",
    "    P = sum(y)\n",
    "    N = len(y) - P\n",
    "    for (_, T) in enumerate(thr):\n",
    "        FP=0\n",
    "        TP=0\n",
    "        for i in range(0, len(score)):\n",
    "            if (score[i] > T):\n",
    "                if (y[i]==1):\n",
    "                    TP = TP + 1\n",
    "                else:\n",
    "                    FP = FP + 1\n",
    "        FPR = FP/float(N)\n",
    "        TPR = TP/float(P)\n",
    "        if(FPR == 0.0 and TPR == 0.0):\n",
    "            continue\n",
    "        fpr.append(FPR)\n",
    "        tpr.append(TPR)\n",
    "\n",
    "    fpr.append(1.0)\n",
    "    tpr.append(1.0)\n",
    "    \n",
    "    return fpr, tpr, thr\n",
    "\n",
    "\n",
    "\n",
    "score = np.array([0.1, 0.4, 0.35, 0.8])\n",
    "y = np.array([0, 0, 1, 1])\n",
    "\n",
    "\n",
    "fpr, tpr, thresholds = metrics.roc_curve(y, score, pos_label=1)\n",
    "roc_auc = metrics.auc(fpr, tpr)\n",
    "\n",
    "\n",
    "my_fpr, my_tpr, _ = roc_curve(y, score, )\n",
    "my_roc_auc = np.trapz(my_tpr,my_fpr)\n",
    "\n",
    "\n",
    "f, axarr = plt.subplots(2, sharex=True)\n",
    "axarr[0].plot(fpr, tpr, color='darkorange', label='ROC curve (area = %0.2f)' % roc_auc)\n",
    "axarr[1].plot(my_fpr, my_tpr, color='blue', label='My ROC curve (area = %0.2f)' % my_roc_auc)\n",
    "\n",
    "axarr[0].legend(loc=\"lower right\")\n",
    "axarr[1].legend(loc=\"lower right\")\n",
    "\n",
    "plt.show()"
   ]
  },
  {
   "cell_type": "markdown",
   "metadata": {},
   "source": [
    "<h1> PR Curve</h1>"
   ]
  },
  {
   "cell_type": "code",
   "execution_count": 34,
   "metadata": {},
   "outputs": [
    {
     "data": {
      "image/png": "[encoded data removed]",
      "text/plain": [
       "<Figure size 432x288 with 2 Axes>"
      ]
     },
     "metadata": {
      "needs_background": "light"
     },
     "output_type": "display_data"
    }
   ],
   "source": [
    "def pr_curve(y, score, pos_label=1):\n",
    "    pr, re = [1.0], [0.0]\n",
    "    min_score = min(score)\n",
    "    max_score = max(score)\n",
    "    thr = np.linspace(min_score, max_score, 30)\n",
    "    thr = np.flip(thr)\n",
    "    P = sum(y)\n",
    "    N = len(y) - P\n",
    "    for (_, T) in enumerate(thr):\n",
    "        FP=0\n",
    "        TP=0\n",
    "        FN = 0\n",
    "        TN = 0\n",
    "        for i in range(0, len(score)):\n",
    "            if (score[i] > T):\n",
    "                if (y[i]==1):\n",
    "                    TP = TP + 1\n",
    "                else:\n",
    "                    FP = FP + 1\n",
    "            else:\n",
    "                if (y[i]==1):\n",
    "                    FN = FN + 1\n",
    "                else:\n",
    "                    TN = TN + 1\n",
    "                \n",
    "        FPR = FP/float(N)\n",
    "        TPR = TP/float(P)\n",
    "        if ((TP + FP) > 0.0):\n",
    "            p = TP / float(TP + FP)\n",
    "            r = TP / float(TP + FN) #TPR\n",
    "            re.append(r)\n",
    "            pr.append(p)\n",
    "    \n",
    "    return pr, re, thr\n",
    "\n",
    "\n",
    "precision, recall, _ = metrics.precision_recall_curve(y, score)\n",
    "pr_auc = metrics.auc(recall, precision)\n",
    "\n",
    "\n",
    "my_precision, my_recall, _ = pr_curve(y, score)\n",
    "my_pr_auc = np.trapz(my_precision, my_recall)\n",
    "\n",
    "#PR\n",
    "f, axarr = plt.subplots(2, sharex=True)\n",
    "axarr[0].plot(precision, recall, color='darkorange', label='PR curve (area = %0.2f)' % pr_auc)\n",
    "\n",
    "\n",
    "axarr[1].plot(my_precision, my_recall, color='blue', label='My PR curve (area = %0.2f)' % my_pr_auc)\n",
    "\n",
    "axarr[0].legend(loc=\"lower left\")\n",
    "axarr[1].legend(loc=\"lower left\")\n",
    "\n",
    "\n",
    "plt.show()"
   ]
  },
  {
   "cell_type": "code",
   "execution_count": null,
   "metadata": {},
   "outputs": [],
   "source": []
  }
 ],
 "metadata": {
  "kernelspec": {
   "display_name": "Python 3",
   "language": "python",
   "name": "python3"
  },
  "language_info": {
   "codemirror_mode": {
    "name": "ipython",
    "version": 3
   },
   "file_extension": ".py",
   "mimetype": "text/x-python",
   "name": "python",
   "nbconvert_exporter": "python",
   "pygments_lexer": "ipython3",
   "version": "3.7.0"
  }
 },
 "nbformat": 4,
 "nbformat_minor": 2
}
