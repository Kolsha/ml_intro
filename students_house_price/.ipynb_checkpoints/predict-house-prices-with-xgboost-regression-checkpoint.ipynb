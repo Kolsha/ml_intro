{
  "cells": [
    {
      "cell_type": "code",
      "execution_count": null,
      "metadata": {
        "_cell_guid": "ed04a10c-135f-68d2-ed73-17ff26072e13"
      },
      "outputs": [],
      "source": [
        "import numpy as np # linear algebra\n",
        "import pandas as pd # data processing, CSV file I/O (e.g. pd.read_csv)\n",
        "import xgboost\n",
        "import csv as csv\n",
        "from xgboost import plot_importance\n",
        "from matplotlib import pyplot\n",
        "from sklearn.model_selection import cross_val_score,KFold\n",
        "from sklearn.cross_validation import  train_test_split\n",
        "from sklearn.metrics import mean_absolute_error\n",
        "import matplotlib.pyplot as plt\n",
        "from sklearn.grid_search import GridSearchCV   #Perforing grid search\n",
        "from scipy.stats import skew\n",
        "from collections import OrderedDict"
      ]
    },
    {
      "cell_type": "code",
      "execution_count": null,
      "metadata": {
        "_cell_guid": "1a276259-d6e8-4311-45b4-3aeb7998956e"
      },
      "outputs": [],
      "source": [
        "train_dataset=pd.read_csv('../input/train.csv', header=0)\n",
        "test_dataset=pd.read_csv('../input/test.csv', header=0)"
      ]
    },
    {
      "cell_type": "markdown",
      "metadata": {
        "_cell_guid": "b147e46e-11e3-762b-0144-abd3b3ef086f"
      },
      "source": [
        "#Study features"
      ]
    },
    {
      "cell_type": "code",
      "execution_count": null,
      "metadata": {
        "_cell_guid": "7e817800-7dee-87f2-563e-83db705deaac"
      },
      "outputs": [],
      "source": [
        "categorical_features=['MSSubClass','MSZoning','Street','Alley','LotShape','LandContour','Utilities',\n",
        "                      'LotConfig','LandSlope','Neighborhood','Condition1','Condition2','BldgType','HouseStyle',\n",
        "                      'RoofStyle','RoofMatl','Exterior1st','Exterior2nd','MasVnrType','ExterQual','ExterCond',\n",
        "                      'Foundation','BsmtQual','BsmtCond','BsmtExposure','BsmtFinType1','BsmtFinType2','Heating',\n",
        "                      'HeatingQC','CentralAir','Electrical','KitchenQual','Functional','FireplaceQu',\n",
        "                     'GarageType','GarageFinish','GarageQual','GarageCond','PavedDrive','PoolQC','Fence',\n",
        "                     'MiscFeature','SaleType','SaleCondition']\n",
        "every_column_except_y= [col for col in train_dataset.columns if col not in ['SalePrice','Id']]\n",
        "train_dataset.describe()"
      ]
    },
    {
      "cell_type": "markdown",
      "metadata": {
        "_cell_guid": "c0c3e77e-573a-aa60-5160-9e704c87ce71"
      },
      "source": [
        "#Preparing the dataset"
      ]
    },
    {
      "cell_type": "markdown",
      "metadata": {
        "_cell_guid": "5caf8d59-2de6-dac4-7686-c7384bff5c00"
      },
      "source": [
        "## Normalizing"
      ]
    },
    {
      "cell_type": "code",
      "execution_count": null,
      "metadata": {
        "_cell_guid": "71f4f05e-bb72-45b9-2525-07178370f620"
      },
      "outputs": [],
      "source": [
        "#thanks to https://www.kaggle.com/apapiu/house-prices-advanced-regression-techniques/regularized-linear-models\n",
        "\n",
        "every_column_non_categorical= [col for col in train_dataset.columns if col not in categorical_features and col not in ['Id'] ]\n",
        "\n",
        "#log transform skewed numeric features:\n",
        "numeric_feats = train_dataset[every_column_non_categorical].dtypes[train_dataset.dtypes != \"object\"].index\n",
        "\n",
        "#skewed_feats = train_dataset[numeric_feats].apply(lambda x: skew(x.dropna())) #compute skewness\n",
        "#skewed_feats = skewed_feats[skewed_feats > 0.75]\n",
        "#skewed_feats = skewed_feats.index\n",
        "\n",
        "train_dataset[numeric_feats] = np.log1p(train_dataset[numeric_feats])\n",
        "\n",
        "every_column_non_categorical= [col for col in test_dataset.columns if col not in categorical_features and col not in ['Id'] ]\n",
        "numeric_feats = test_dataset[every_column_non_categorical].dtypes[test_dataset.dtypes != \"object\"].index\n",
        "test_dataset[numeric_feats] = np.log1p(test_dataset[numeric_feats])"
      ]
    },
    {
      "cell_type": "markdown",
      "metadata": {
        "_cell_guid": "589bb498-8f1e-7668-fe2a-5c99f6e5084a"
      },
      "source": [
        "## Cleaning"
      ]
    },
    {
      "cell_type": "code",
      "execution_count": null,
      "metadata": {
        "_cell_guid": "0ff9ccdf-e6fe-e4c4-f6e2-945ebab3c846"
      },
      "outputs": [],
      "source": [
        "features_with_nan=['Alley','MasVnrType','BsmtQual','BsmtQual','BsmtCond','BsmtCond','BsmtExposure',\n",
        "                   'BsmtFinType1','BsmtFinType2','FireplaceQu','GarageType','GarageFinish']\n",
        "#function that creates a column for every value it might have\n",
        "def ConverNaNToNAString(data, columnList):\n",
        "    for x in columnList:       \n",
        "        data[x] =str(data[x])              \n",
        "            \n",
        "\n",
        "ConverNaNToNAString(train_dataset, features_with_nan)\n",
        "ConverNaNToNAString(test_dataset, features_with_nan)"
      ]
    },
    {
      "cell_type": "markdown",
      "metadata": {
        "_cell_guid": "eba091ee-f813-284a-feb8-5d6590a6ea78"
      },
      "source": [
        "## Creating columns from each categorical feature value"
      ]
    },
    {
      "cell_type": "code",
      "execution_count": null,
      "metadata": {
        "_cell_guid": "177ccebd-a226-d535-8222-9f68c00c9079"
      },
      "outputs": [],
      "source": [
        "#function that creates a column for every value it might have\n",
        "def CreateColumnPerValue(data, columnList):\n",
        "    for x in columnList:\n",
        "\n",
        "        values=pd.unique(data[x])\n",
        "        \n",
        "        for v in values:\n",
        "            column_name=x+\"_\"+str(v)   \n",
        "            data[column_name]=(data[x]==v).astype(float)\n",
        "    \n",
        "        data.drop(x, axis=1, inplace=True)\n",
        "        "
      ]
    },
    {
      "cell_type": "code",
      "execution_count": null,
      "metadata": {
        "_cell_guid": "2e044841-7ae9-f8ad-9761-306bac76ad4b"
      },
      "outputs": [],
      "source": [
        "#CreateColumnPerValue(train_dataset,categorical_features)\n",
        "#CreateColumnPerValue(test_dataset,categorical_features)\n",
        "\n",
        "train_dataset = pd.get_dummies(train_dataset,columns =categorical_features)\n",
        "test_dataset = pd.get_dummies(test_dataset,columns =categorical_features)\n",
        "\n",
        "#train_dataset = train_dataset.fillna(train_dataset.mean())\n",
        "#test_dataset = test_dataset.fillna(test_dataset.mean())"
      ]
    },
    {
      "cell_type": "markdown",
      "metadata": {
        "_cell_guid": "4cdb5794-a39e-2726-de71-be2537710c83"
      },
      "source": [
        "## Looking for most relevant features"
      ]
    },
    {
      "cell_type": "code",
      "execution_count": null,
      "metadata": {
        "_cell_guid": "99e461b9-9531-b61e-a281-c934a0312ab2"
      },
      "outputs": [],
      "source": [
        "model = xgboost.XGBRegressor(colsample_bytree=0.4,\n",
        "                 gamma=0,                 \n",
        "                 learning_rate=0.07,\n",
        "                 max_depth=3,\n",
        "                 min_child_weight=1.5,\n",
        "                 n_estimators=10000,                                                                    \n",
        "                 reg_alpha=0.75,\n",
        "                 reg_lambda=0.45,\n",
        "                 subsample=0.6,\n",
        "                 seed=42) "
      ]
    },
    {
      "cell_type": "code",
      "execution_count": null,
      "metadata": {
        "_cell_guid": "dbb38ab6-543e-08b6-1d99-a962f4e651ce"
      },
      "outputs": [],
      "source": [
        "every_column_except_y= [col for col in train_dataset.columns if col not in ['SalePrice','Id']]\n",
        "model.fit(train_dataset[every_column_except_y],train_dataset['SalePrice'])\n",
        "\n",
        "OrderedDict(sorted(model.booster().get_fscore().items(), key=lambda t: t[1], reverse=True))"
      ]
    },
    {
      "cell_type": "code",
      "execution_count": null,
      "metadata": {
        "_cell_guid": "39e10754-94d9-70ef-2c5e-04c2a909de42"
      },
      "outputs": [],
      "source": [
        "#Let's remove the less important ones \n",
        "most_relevant_features= list( dict((k, v) for k, v in model.booster().get_fscore().items() if v >= 10).keys())\n",
        "print(most_relevant_features)"
      ]
    },
    {
      "cell_type": "markdown",
      "metadata": {
        "_cell_guid": "aa3676cb-127a-051c-6a25-b87fa3b866e8"
      },
      "source": [
        "##Analyzing most important features"
      ]
    },
    {
      "cell_type": "code",
      "execution_count": null,
      "metadata": {
        "_cell_guid": "d6b0c5ac-ede3-bb32-5458-9120cd6e1d58"
      },
      "outputs": [],
      "source": [
        "plt.scatter(train_dataset.GrLivArea, train_dataset.SalePrice, c = \"blue\", marker = \"s\")\n",
        "plt.title(\"GrLivArea vs SalePrice\")\n",
        "plt.xlabel(\"GrLivArea\")\n",
        "plt.ylabel(\"SalePrice\")\n",
        "plt.show()"
      ]
    },
    {
      "cell_type": "code",
      "execution_count": null,
      "metadata": {
        "_cell_guid": "ecebdfdd-3909-3413-b5a9-d42123ec6e82"
      },
      "outputs": [],
      "source": [
        "plt.scatter(train_dataset.LotArea, train_dataset.SalePrice, c = \"blue\", marker = \"s\")\n",
        "plt.title(\"LotArea vs SalePrice\")\n",
        "plt.xlabel(\"LotArea\")\n",
        "plt.ylabel(\"SalePrice\")\n",
        "plt.show()"
      ]
    },
    {
      "cell_type": "code",
      "execution_count": null,
      "metadata": {
        "_cell_guid": "f8178ad6-8221-1cca-5112-4e013a4e1c06"
      },
      "outputs": [],
      "source": [
        "#removing outliers\n",
        "train_dataset = train_dataset[train_dataset.GrLivArea < 8.25]\n",
        "train_dataset = train_dataset[train_dataset.LotArea < 11.5]\n",
        "train_dataset = train_dataset[train_dataset.SalePrice<13]\n",
        "train_dataset = train_dataset[train_dataset.SalePrice>10.75]\n",
        "train_dataset.drop(\"Id\", axis=1, inplace=True)"
      ]
    },
    {
      "cell_type": "markdown",
      "metadata": {
        "_cell_guid": "f1d357b7-b727-4ad0-1e80-70186d5fe391"
      },
      "source": [
        "#Calculating best metaparameters"
      ]
    },
    {
      "cell_type": "code",
      "execution_count": null,
      "metadata": {
        "_cell_guid": "c0ce324b-d24d-b5cc-a3c5-c23fd44ba714"
      },
      "outputs": [],
      "source": [
        "train_x=train_dataset[most_relevant_features]\n",
        "train_y=train_dataset['SalePrice']\n",
        "\n",
        "#for tuning parameters\n",
        "#parameters_for_testing = {\n",
        "#    'colsample_bytree':[0.4,0.6,0.8],\n",
        "#    'gamma':[0,0.03,0.1,0.3],\n",
        "#    'min_child_weight':[1.5,6,10],\n",
        "#    'learning_rate':[0.1,0.07],\n",
        "#    'max_depth':[3,5],\n",
        "#    'n_estimators':[10000],\n",
        "#    'reg_alpha':[1e-5, 1e-2,  0.75],\n",
        "#    'reg_lambda':[1e-5, 1e-2, 0.45],\n",
        "#    'subsample':[0.6,0.95]  \n",
        "#}\n",
        "\n",
        "                    \n",
        "#xgb_model = xgboost.XGBRegressor(learning_rate =0.1, n_estimators=1000, max_depth=5,\n",
        "#     min_child_weight=1, gamma=0, subsample=0.8, colsample_bytree=0.8, nthread=6, scale_pos_weight=1, seed=27)\n",
        "\n",
        "#gsearch1 = GridSearchCV(estimator = xgb_model, param_grid = parameters_for_testing, n_jobs=6,iid=False, verbose=10,scoring='neg_mean_squared_error')\n",
        "#gsearch1.fit(train_x,train_y)\n",
        "#print (gsearch1.grid_scores_)\n",
        "#print('best params')\n",
        "#print (gsearch1.best_params_)\n",
        "#print('best score')\n",
        "#print (gsearch1.best_score_)\n",
        "\n",
        "best_xgb_model = xgboost.XGBRegressor(colsample_bytree=0.4,\n",
        "                 gamma=0,                 \n",
        "                 learning_rate=0.07,\n",
        "                 max_depth=3,\n",
        "                 min_child_weight=1.5,\n",
        "                 n_estimators=10000,                                                                    \n",
        "                 reg_alpha=0.75,\n",
        "                 reg_lambda=0.45,\n",
        "                 subsample=0.6,\n",
        "                 seed=42)\n",
        "best_xgb_model.fit(train_x,train_y)"
      ]
    },
    {
      "cell_type": "markdown",
      "metadata": {
        "_cell_guid": "07fae06a-c8cb-78b7-7c9b-ab26c9f5821b"
      },
      "source": [
        "#Let's predict for test data and generate submission file"
      ]
    },
    {
      "cell_type": "code",
      "execution_count": null,
      "metadata": {
        "_cell_guid": "d32e9a7d-2ae0-3289-a9ff-59a87a4aac5c"
      },
      "outputs": [],
      "source": [
        "test_dataset['Prediction'] = np.expm1(best_xgb_model.predict(test_dataset[most_relevant_features]))\n",
        "filename = 'submission.csv'\n",
        "pd.DataFrame({'Id': test_dataset.Id, 'SalePrice': test_dataset.Prediction}).to_csv(filename, index=False)"
      ]
    },
    {
      "cell_type": "code",
      "execution_count": null,
      "metadata": {
        "_cell_guid": "438a47a0-e17b-f8cd-4a58-d3b412726751"
      },
      "outputs": [],
      "source": [
        "print(test_dataset['Prediction'].head())\n",
        "print(test_dataset['Prediction'].count())"
      ]
    },
    {
      "cell_type": "code",
      "execution_count": null,
      "metadata": {
        "_cell_guid": "11e99a09-46be-2d62-31f3-522909df46b5"
      },
      "outputs": [],
      "source": ""
    }
  ],
  "metadata": {
    "_change_revision": 0,
    "_is_fork": false,
    "kernelspec": {
      "display_name": "Python 3",
      "language": "python",
      "name": "python3"
    },
    "language_info": {
      "codemirror_mode": {
        "name": "ipython",
        "version": 3
      },
      "file_extension": ".py",
      "mimetype": "text/x-python",
      "name": "python",
      "nbconvert_exporter": "python",
      "pygments_lexer": "ipython3",
      "version": "3.5.2"
    }
  },
  "nbformat": 4,
  "nbformat_minor": 0
}