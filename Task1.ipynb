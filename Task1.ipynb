{
 "cells": [
  {
   "cell_type": "code",
   "execution_count": 6,
   "metadata": {},
   "outputs": [
    {
     "data": {
      "image/png": "[encoded data removed]",
      "text/plain": [
       "<Figure size 432x288 with 1 Axes>"
      ]
     },
     "metadata": {
      "needs_background": "light"
     },
     "output_type": "display_data"
    },
    {
     "name": "stdout",
     "output_type": "stream",
     "text": [
      "start train\n"
     ]
    }
   ],
   "source": [
    "import matplotlib.pyplot as plt\n",
    "import numpy as np\n",
    "import scipy\n",
    "from sklearn import datasets\n",
    "from sklearn.model_selection import train_test_split\n",
    "\n",
    "iris = datasets.load_iris()\n",
    "X = iris.data #objects\n",
    "y = iris.target #which class\n",
    "# 3 types of irises\n",
    "\n",
    "x_train, x_test, y_train, y_test = train_test_split(X, y, test_size=.3, \n",
    "                                                    stratify=y)\n",
    "\n",
    "plt.scatter(x_train[:, 0], x_train[:, 1], color = 'g')\n",
    "plt.scatter(x_test[:, 0], x_test[:, 1], color = 'r')\n",
    "plt.show()\n",
    "\n",
    "def K(r):\n",
    "    return 1/(r+1)\n",
    "\n",
    "def ro(u, x):\n",
    "    return scipy.spatial.distance.euclidean(u, x)\n",
    "\n",
    "#def alpha()\n",
    "def potential_func_algorith(u, gammas, h, train_x, train_y):\n",
    "    catsCount = len(np.unique(train_y))\n",
    "    \n",
    "    lenX = len(train_x)\n",
    "    sizeTest = len(u)\n",
    "    answer = []\n",
    "    for k in range(sizeTest):\n",
    "        a = np.zeros(catsCount)\n",
    "        for i in range(catsCount):\n",
    "            for j in range(lenX):\n",
    "                a[i] += (train_y[j] == i)*gammas[i]*K(ro(u[k], train_x[j])/h)\n",
    "        answer.append(np.argmax(a))\n",
    "    return answer\n",
    "                \n",
    "\n",
    "def get_gammas(x_train, y_train, h):\n",
    "    size = len(y_train)\n",
    "    gammas = [0, 0, 0]\n",
    "    stop = 0\n",
    "    while stop < 2*size:\n",
    "        i = np.random.randint(size)\n",
    "        alpha = potential_func_algorith(x_train, gammas, h, x_train, y_train)\n",
    "        if alpha[i] != y_train[i]:\n",
    "            gammas[y_train[i]] += 1\n",
    "        stop += 1\n",
    "    return gammas  \n",
    "\n",
    "print(\"start train\")        \n",
    "gammas = get_gammas(x_train, y_train, 2)\n",
    "\n",
    "\n",
    "#hi = num of x?"
   ]
  },
  {
   "cell_type": "code",
   "execution_count": 7,
   "metadata": {},
   "outputs": [
    {
     "name": "stdout",
     "output_type": "stream",
     "text": [
      "start predict\n",
      "Right answers:  41\n",
      "False answers:  4\n"
     ]
    }
   ],
   "source": [
    "print(\"start predict\")\n",
    "answer = potential_func_algorith(x_test, gammas, 2, x_train, y_train)\n",
    "true = 0\n",
    "sz = len(answer)\n",
    "for i in range(sz):\n",
    "    if y_test[i] == answer[i]:\n",
    "        true += 1\n",
    "        \n",
    "print('Right answers: ', true)\n",
    "print(\"False answers: \", sz-true)"
   ]
  },
  {
   "cell_type": "code",
   "execution_count": null,
   "metadata": {},
   "outputs": [],
   "source": []
  }
 ],
 "metadata": {
  "kernelspec": {
   "display_name": "Python 3",
   "language": "python",
   "name": "python3"
  },
  "language_info": {
   "codemirror_mode": {
    "name": "ipython",
    "version": 3
   },
   "file_extension": ".py",
   "mimetype": "text/x-python",
   "name": "python",
   "nbconvert_exporter": "python",
   "pygments_lexer": "ipython3",
   "version": "3.7.0"
  }
 },
 "nbformat": 4,
 "nbformat_minor": 2
}
