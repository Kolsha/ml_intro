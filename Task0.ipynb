{
 "cells": [
  {
   "cell_type": "code",
   "execution_count": 10,
   "metadata": {
    "raw_mimetype": "text/x-python"
   },
   "outputs": [],
   "source": [
    "import matplotlib.pyplot as plt\n",
    "import numpy as np\n",
    "from sklearn import metrics\n",
    "import random\n",
    "\n",
    "'''\n",
    "выборка ответов\n",
    "30% - 1\n",
    "--  - 0\n",
    "1/2 prob pr\n",
    "\n",
    "'''    \n",
    "\n",
    "sz = 400\n",
    "\n",
    "y = np.concatenate([np.ones(5 * sz // 10) , np.zeros(5 * sz // 10)])\n",
    "score = np.concatenate([np.ones(sz // 4), np.zeros(sz // 4), np.zeros(sz // 4), np.ones(sz // 4)])\n"
   ]
  },
  {
   "cell_type": "markdown",
   "metadata": {
    "raw_mimetype": "text/x-python"
   },
   "source": [
    "$$TPR = \\frac{TP}{TP+FN}$$\n",
    "\n",
    "\n",
    "$$FPR= \\frac{FP}{FP+TN}$$\n",
    "\n",
    "$$precision = \\frac{TP}{TP+FP}$$\n",
    "\n",
    "\n",
    "$$recall= \\frac{TP}{TP+FN}$$"
   ]
  },
  {
   "cell_type": "code",
   "execution_count": 11,
   "metadata": {
    "raw_mimetype": "text/x-python"
   },
   "outputs": [
    {
     "data": {
      "image/png": "[encoded data removed]",
      "text/plain": [
       "<Figure size 432x288 with 2 Axes>"
      ]
     },
     "metadata": {
      "needs_background": "light"
     },
     "output_type": "display_data"
    }
   ],
   "source": [
    "f = y\n",
    "L = score\n",
    "fpr, tpr, thresholds = metrics.roc_curve(L, f, pos_label=1)\n",
    "roc_auc = metrics.auc(fpr, tpr)\n",
    "\n",
    "precision, recall, _ = metrics.precision_recall_curve(L, f)\n",
    "pr_auc = metrics.auc(recall, precision)\n",
    "    \n",
    "def calc_FP_TP_FN_TN(f, T):\n",
    "    FP, TP, FN, TN = 0, 0, 0, 0\n",
    "    for i in range(0, len(f)):\n",
    "        if (f[i] > T):\n",
    "            if (L[i]==1):\n",
    "                TP += 1\n",
    "            else:\n",
    "                FP += 1\n",
    "        else:\n",
    "            if (L[i]==1):\n",
    "                FN += 1\n",
    "            else:\n",
    "                TN += 1\n",
    "    return FP, TP, FN, TN            \n",
    "\n",
    "def calc_roc(f, thr, P, N):\n",
    "    roc_x, roc_y = [], []\n",
    "    for (_, T) in enumerate(thr):\n",
    "        FP, TP, FN, TN = calc_FP_TP_FN_TN(f,T)        \n",
    "        FPR = FP/float(N)\n",
    "        TPR = TP/float(P)\n",
    "        roc_x.append(FPR)\n",
    "        roc_y.append(TPR)\n",
    "        \n",
    "    return roc_x, roc_y    \n",
    "        \n",
    "def calc_pr(f, thr, P, N):\n",
    "    pr_x, pr_y = [0.0], [0.0]\n",
    "    for (_, T) in enumerate(thr):\n",
    "        FP, TP, FN, TN = calc_FP_TP_FN_TN(f,T) \n",
    "        TPR = TP/float(P)\n",
    "        if ((TP + FP) > 0.0):\n",
    "            pr = TP / float(TP + FP)\n",
    "            re =  TPR # = TP/float(TP+FN) \n",
    "            pr_x.append(pr)\n",
    "            pr_y.append(re)    \n",
    "    return pr_x, pr_y  \n",
    "\n",
    "min_f = min(f)\n",
    "max_f = max(f)\n",
    "thr = np.linspace(min_f, max_f, 50) #thresholds with step (max-min)/50\n",
    "thr = thr[::-1]\n",
    "\n",
    "P = sum(L)\n",
    "N = len(L) - P\n",
    "\n",
    "roc_x, roc_y = calc_roc(f, thr, P, N)\n",
    "roc_x.append(1.0)\n",
    "roc_y.append(1.0)\n",
    "my_roc_auc =  np.trapz(roc_y, roc_x)\n",
    "\n",
    "pr_x, pr_y = calc_pr(f, thr, P, N)\n",
    "my_pr_auc = np.trapz(pr_x, pr_y)\n",
    "\n",
    "\n",
    "#ROC\n",
    "#f, axarr = plt.subplots(1, sharex=True)\n",
    "#axarr.plot(roc_x, roc_y, color='blue', label='ROC curve (area = %0.2f)' % my_roc_auc)\n",
    "#axarr.legend(loc=\"lower right\")\n",
    "\n",
    "#axarr[0].plot(fpr, tpr, color='darkorange', label='Sklearn ROC curve (area = %0.2f)' % roc_auc)\n",
    "#axarr[0].legend(loc=\"lower right\")\n",
    "\n",
    "\n",
    "#PR\n",
    "#f, axarr = plt.subplots(1, sharex=True)\n",
    "recall[-1] = 0\n",
    "precision[-1] = 0\n",
    "#axarr.plot(pr_y, pr_x, color='blue', label='PR curve (area = %0.2f)' % my_pr_auc)\n",
    "#axarr.legend(loc=\"lower right\")\n",
    "#axarr[0].plot(recall, precision, color='darkorange', label='Sklearn PR curve (area = %0.2f)' % pr_auc)\n",
    "#axarr[0].legend(loc=\"lower right\")\n",
    "\n",
    "\n",
    "f, axarr = plt.subplots(2, sharey=True)\n",
    "axarr[0].plot(pr_y, pr_x, color='blue', label='PR curve (area = %0.2f)' % my_pr_auc)\n",
    "axarr[1].plot(roc_x, roc_y, color='blue', label='ROC curve (area = %0.2f)' % my_roc_auc)\n",
    "\n",
    "axarr[0].legend(loc=\"lower right\")\n",
    "axarr[1].legend(loc=\"lower right\")\n",
    "\n",
    "\n",
    "plt.show()"
   ]
  },
  {
   "cell_type": "code",
   "execution_count": null,
   "metadata": {},
   "outputs": [],
   "source": []
  }
 ],
 "metadata": {
  "kernelspec": {
   "display_name": "Python 3",
   "language": "python",
   "name": "python3"
  },
  "language_info": {
   "codemirror_mode": {
    "name": "ipython",
    "version": 3
   },
   "file_extension": ".py",
   "mimetype": "text/x-python",
   "name": "python",
   "nbconvert_exporter": "python",
   "pygments_lexer": "ipython3",
   "version": "3.7.0"
  }
 },
 "nbformat": 4,
 "nbformat_minor": 2
}
