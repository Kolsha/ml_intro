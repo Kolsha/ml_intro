{
 "cells": [
  {
   "cell_type": "code",
   "execution_count": 3,
   "metadata": {},
   "outputs": [],
   "source": [
    "import matplotlib.pyplot as plt\n",
    "import numpy as np\n",
    "from sklearn.datasets import fetch_mldata\n",
    "from sklearn.metrics import roc_curve, auc, accuracy_score\n",
    "from sklearn.model_selection import train_test_split, StratifiedKFold\n",
    "from sklearn.preprocessing import label_binarize, StandardScaler\n",
    "\n",
    "from sklearn.pipeline import Pipeline\n",
    "\n",
    "from sklearn.neighbors import KNeighborsClassifier\n",
    "from sklearn.tree import DecisionTreeClassifier, export_graphviz\n",
    "\n",
    "from sklearn.model_selection import GridSearchCV, cross_val_score\n",
    "\n",
    "from sklearn.ensemble import RandomForestClassifier\n",
    "\n",
    "from sklearn.datasets import load_digits\n",
    "\n",
    "from sklearn.naive_bayes import GaussianNB\n",
    "\n",
    "# https://github.com/mrahtz/machine-learning-classification/blob/master/module6_cross-validation-and-grid-search.py\n",
    "# https://www.codementor.io/mgalarny/making-your-first-machine-learning-classifier-in-scikit-learn-python-db7d7iqdh\n",
    "# http://scikit-learn.org/stable/auto_examples/linear_model/plot_sparse_logistic_regression_mnist.html\n",
    "# http://scikit-learn.org/stable/auto_examples/classification/plot_digits_classification.html"
   ]
  },
  {
   "cell_type": "markdown",
   "metadata": {},
   "source": [
    "## Вопросы:"
   ]
  },
  {
   "cell_type": "markdown",
   "metadata": {},
   "source": [
    "0. + какой алгоритм страдает от избытка инфы    -> проклятие размерности\n",
    "0. + выставить все фичи, и глубину получше, отсортировать признаки по важности \n",
    "0. фичи из дерева в кнн. stacking\n",
    " #сократим выборку -> '''resize images to 28x28 -> tree -> best_features to knn\n",
    " на original mnist \n",
    " фичи из дерева в кнн. stacking\n",
    "\n",
    "0. log-regressiya\n"
   ]
  },
  {
   "cell_type": "markdown",
   "metadata": {},
   "source": [
    "# 3 Task"
   ]
  },
  {
   "cell_type": "code",
   "execution_count": 4,
   "metadata": {},
   "outputs": [
    {
     "name": "stdout",
     "output_type": "stream",
     "text": [
      "(1797, 64) 405\n"
     ]
    }
   ],
   "source": [
    "# mnist = fetch_mldata('MNIST original') #имеют размер 28x28\n",
    "# sz = 28\n",
    "mnist = load_digits()\n",
    "sz = 8\n",
    "\n",
    "\n",
    "\n",
    "X, y = mnist.data, mnist.target\n",
    "rnd_state = np.random.randint(0, X.shape[0])\n",
    "print(X.shape, rnd_state)"
   ]
  },
  {
   "cell_type": "code",
   "execution_count": 5,
   "metadata": {},
   "outputs": [
    {
     "data": {
      "image/png": "[encoded data removed]",
      "text/plain": [
       "<Figure size 432x288 with 8 Axes>"
      ]
     },
     "metadata": {
      "needs_background": "light"
     },
     "output_type": "display_data"
    }
   ],
   "source": [
    "images_and_labels = list(zip(X, y))\n",
    "\n",
    "for index, (image, label) in enumerate(images_and_labels[rnd_state:rnd_state + 8]):\n",
    "    plt.subplot(2, 4, index + 1)\n",
    "    plt.axis('off')\n",
    "    plt.imshow(image.reshape([sz,sz]), cmap=plt.cm.gray_r, interpolation='nearest')\n",
    "    plt.title('Training: %i' % label)"
   ]
  },
  {
   "cell_type": "code",
   "execution_count": 6,
   "metadata": {},
   "outputs": [
    {
     "data": {
      "text/plain": [
       "(540, 64)"
      ]
     },
     "execution_count": 6,
     "metadata": {},
     "output_type": "execute_result"
    }
   ],
   "source": [
    "X_train, X_holdout, y_train, y_holdout = train_test_split(X, y, test_size=0.3,\n",
    "random_state=rnd_state)\n",
    "X_holdout.shape"
   ]
  },
  {
   "cell_type": "code",
   "execution_count": 20,
   "metadata": {},
   "outputs": [
    {
     "name": "stdout",
     "output_type": "stream",
     "text": [
      "0.9625724910039694\n"
     ]
    }
   ],
   "source": [
    "tree = DecisionTreeClassifier(max_depth=5, random_state=rnd_state)\n",
    "knn = KNeighborsClassifier(n_neighbors=10)\n",
    "\n",
    "tree.fit(X_train, y_train)\n",
    "knn.fit(X_train, y_train)\n",
    "\n",
    "forest = RandomForestClassifier(n_estimators=100, n_jobs=-1, random_state=rnd_state)\n",
    "print(np.mean(cross_val_score(forest, X_train, y_train, cv=5)))"
   ]
  },
  {
   "cell_type": "code",
   "execution_count": 6,
   "metadata": {},
   "outputs": [
    {
     "name": "stdout",
     "output_type": "stream",
     "text": [
      "0.6518518518518519\n",
      "0.975925925925926\n"
     ]
    }
   ],
   "source": [
    "tree_pred = tree.predict(X_holdout)\n",
    "print(accuracy_score(y_holdout, tree_pred))\n",
    "\n",
    "knn_pred = knn.predict(X_holdout)\n",
    "print(accuracy_score(y_holdout, knn_pred))"
   ]
  },
  {
   "cell_type": "markdown",
   "metadata": {},
   "source": [
    "## Cross Val Tree"
   ]
  },
  {
   "cell_type": "code",
   "execution_count": 7,
   "metadata": {},
   "outputs": [],
   "source": [
    "tree_params = {'max_depth': [2**i for i in range(6)],\n",
    "'max_features': [2**i for i in range(6)]}\n",
    "\n",
    "tree_grid = GridSearchCV(tree, tree_params,\n",
    "cv=5, n_jobs=-1,\n",
    "verbose=True)"
   ]
  },
  {
   "cell_type": "code",
   "execution_count": 8,
   "metadata": {},
   "outputs": [
    {
     "name": "stdout",
     "output_type": "stream",
     "text": [
      "Fitting 5 folds for each of 36 candidates, totalling 180 fits\n",
      "Fit end\n"
     ]
    },
    {
     "name": "stderr",
     "output_type": "stream",
     "text": [
      "[Parallel(n_jobs=-1)]: Done 180 out of 180 | elapsed:    0.3s finished\n"
     ]
    }
   ],
   "source": [
    "tree_grid.fit(X_train, y_train)\n",
    "print(\"Fit end\")"
   ]
  },
  {
   "cell_type": "code",
   "execution_count": 9,
   "metadata": {},
   "outputs": [
    {
     "name": "stdout",
     "output_type": "stream",
     "text": [
      "{'max_depth': 16, 'max_features': 32} 0.8361177406523469\n"
     ]
    }
   ],
   "source": [
    "print(tree_grid.best_params_, tree_grid.best_score_)"
   ]
  },
  {
   "cell_type": "code",
   "execution_count": 10,
   "metadata": {},
   "outputs": [
    {
     "name": "stdout",
     "output_type": "stream",
     "text": [
      "0.8518518518518519\n"
     ]
    }
   ],
   "source": [
    "print(accuracy_score(y_holdout, tree_grid.predict(X_holdout)))"
   ]
  },
  {
   "cell_type": "markdown",
   "metadata": {},
   "source": [
    "## Cross Val KNN"
   ]
  },
  {
   "cell_type": "code",
   "execution_count": 11,
   "metadata": {},
   "outputs": [],
   "source": [
    "knn_pipe = Pipeline([('scaler', StandardScaler()), ('knn', KNeighborsClassifier(n_jobs=-1))])\n",
    "\n",
    "knn_params = {'knn__n_neighbors': range(1, 10)}\n",
    "\n",
    "knn_grid = GridSearchCV(knn_pipe, knn_params,\n",
    "cv=5, n_jobs=-1,\n",
    "verbose=True)"
   ]
  },
  {
   "cell_type": "code",
   "execution_count": 12,
   "metadata": {},
   "outputs": [
    {
     "name": "stdout",
     "output_type": "stream",
     "text": [
      "Fitting 5 folds for each of 9 candidates, totalling 45 fits\n",
      "Fit end\n"
     ]
    },
    {
     "name": "stderr",
     "output_type": "stream",
     "text": [
      "[Parallel(n_jobs=-1)]: Done  45 out of  45 | elapsed:    2.8s finished\n"
     ]
    }
   ],
   "source": [
    "knn_grid.fit(X_train, y_train)\n",
    "print(\"Fit end\")"
   ]
  },
  {
   "cell_type": "code",
   "execution_count": 13,
   "metadata": {},
   "outputs": [
    {
     "name": "stdout",
     "output_type": "stream",
     "text": [
      "{'knn__n_neighbors': 5} 0.9713603818615751\n"
     ]
    }
   ],
   "source": [
    "print(knn_grid.best_params_, knn_grid.best_score_)"
   ]
  },
  {
   "cell_type": "code",
   "execution_count": 14,
   "metadata": {},
   "outputs": [
    {
     "name": "stdout",
     "output_type": "stream",
     "text": [
      "0.9777777777777777\n"
     ]
    }
   ],
   "source": [
    "print(accuracy_score(y_holdout, knn_grid.predict(X_holdout)))"
   ]
  },
  {
   "cell_type": "markdown",
   "metadata": {},
   "source": [
    "## Cross Val Forest"
   ]
  },
  {
   "cell_type": "code",
   "execution_count": 15,
   "metadata": {},
   "outputs": [],
   "source": [
    "forest_params = {'max_depth': [2**i for i in range(6)],\n",
    "'max_features': [2**i for i in range(6)]}\n",
    "\n",
    "forest_grid = GridSearchCV(forest, forest_params,\n",
    "cv=5, n_jobs=-1,\n",
    "verbose=True)"
   ]
  },
  {
   "cell_type": "code",
   "execution_count": 16,
   "metadata": {},
   "outputs": [
    {
     "name": "stdout",
     "output_type": "stream",
     "text": [
      "Fitting 5 folds for each of 36 candidates, totalling 180 fits\n"
     ]
    },
    {
     "name": "stderr",
     "output_type": "stream",
     "text": [
      "[Parallel(n_jobs=-1)]: Done  42 tasks      | elapsed:    4.9s\n",
      "[Parallel(n_jobs=-1)]: Done 180 out of 180 | elapsed:   23.2s finished\n"
     ]
    },
    {
     "name": "stdout",
     "output_type": "stream",
     "text": [
      "Fit end\n"
     ]
    }
   ],
   "source": [
    "forest_grid.fit(X_train, y_train)\n",
    "print(\"Fit end\")"
   ]
  },
  {
   "cell_type": "code",
   "execution_count": 17,
   "metadata": {},
   "outputs": [
    {
     "name": "stdout",
     "output_type": "stream",
     "text": [
      "{'max_depth': 32, 'max_features': 4} 0.9769291964996022\n"
     ]
    }
   ],
   "source": [
    "print(forest_grid.best_params_, forest_grid.best_score_)"
   ]
  },
  {
   "cell_type": "code",
   "execution_count": 18,
   "metadata": {},
   "outputs": [
    {
     "name": "stdout",
     "output_type": "stream",
     "text": [
      "0.975925925925926\n"
     ]
    }
   ],
   "source": [
    "print(accuracy_score(y_holdout, forest_grid.predict(X_holdout)))"
   ]
  },
  {
   "cell_type": "markdown",
   "metadata": {},
   "source": [
    "## Naive Bayes"
   ]
  },
  {
   "cell_type": "code",
   "execution_count": 19,
   "metadata": {},
   "outputs": [
    {
     "data": {
      "text/plain": [
       "GaussianNB(priors=None)"
      ]
     },
     "execution_count": 19,
     "metadata": {},
     "output_type": "execute_result"
    }
   ],
   "source": [
    "gnb = GaussianNB()\n",
    "gnb.fit(X_train, y_train)"
   ]
  },
  {
   "cell_type": "code",
   "execution_count": 20,
   "metadata": {},
   "outputs": [
    {
     "name": "stdout",
     "output_type": "stream",
     "text": [
      "0.8055555555555556\n"
     ]
    }
   ],
   "source": [
    "gnb_pred = gnb.predict(X_holdout) # Нечего подбирать\n",
    "print(accuracy_score(y_holdout, gnb_pred))"
   ]
  },
  {
   "cell_type": "markdown",
   "metadata": {},
   "source": [
    "## 2 Вопрос"
   ]
  },
  {
   "cell_type": "code",
   "execution_count": 21,
   "metadata": {},
   "outputs": [],
   "source": [
    "tree = DecisionTreeClassifier(max_depth=5, random_state=rnd_state)\n",
    "tree_params = {'max_depth': [2**i for i in range(6)],\n",
    "'max_features': [X.shape[1]]}\n",
    "\n",
    "tree_grid = GridSearchCV(tree, tree_params,\n",
    "cv=5, n_jobs=-1,\n",
    "verbose=True)"
   ]
  },
  {
   "cell_type": "code",
   "execution_count": 22,
   "metadata": {},
   "outputs": [
    {
     "name": "stdout",
     "output_type": "stream",
     "text": [
      "Fitting 5 folds for each of 6 candidates, totalling 30 fits\n",
      "Fit end\n"
     ]
    },
    {
     "name": "stderr",
     "output_type": "stream",
     "text": [
      "[Parallel(n_jobs=-1)]: Done  30 out of  30 | elapsed:    0.2s finished\n"
     ]
    }
   ],
   "source": [
    "tree_grid.fit(X_train, y_train)\n",
    "print(\"Fit end\")"
   ]
  },
  {
   "cell_type": "code",
   "execution_count": 23,
   "metadata": {},
   "outputs": [
    {
     "name": "stdout",
     "output_type": "stream",
     "text": [
      "{'max_depth': 8, 'max_features': 64} 0.8178202068416865\n"
     ]
    }
   ],
   "source": [
    "print(tree_grid.best_params_, tree_grid.best_score_)"
   ]
  },
  {
   "cell_type": "code",
   "execution_count": 24,
   "metadata": {},
   "outputs": [
    {
     "name": "stdout",
     "output_type": "stream",
     "text": [
      "0.8092592592592592\n"
     ]
    }
   ],
   "source": [
    "print(accuracy_score(y_holdout, tree_grid.predict(X_holdout)))"
   ]
  },
  {
   "cell_type": "code",
   "execution_count": 25,
   "metadata": {},
   "outputs": [
    {
     "data": {
      "text/plain": [
       "64"
      ]
     },
     "execution_count": 25,
     "metadata": {},
     "output_type": "execute_result"
    }
   ],
   "source": [
    "fi = tree_grid.best_estimator_.feature_importances_\n",
    "len(fi)"
   ]
  },
  {
   "cell_type": "code",
   "execution_count": 26,
   "metadata": {},
   "outputs": [
    {
     "data": {
      "text/plain": [
       "<matplotlib.image.AxesImage at 0x10eb44320>"
      ]
     },
     "execution_count": 26,
     "metadata": {},
     "output_type": "execute_result"
    },
    {
     "data": {
      "image/png": "[encoded data removed]",
      "text/plain": [
       "<Figure size 432x288 with 1 Axes>"
      ]
     },
     "metadata": {
      "needs_background": "light"
     },
     "output_type": "display_data"
    }
   ],
   "source": [
    "plt.imshow(fi.reshape([sz,sz]), cmap=plt.cm.gray_r, interpolation='nearest')\n"
   ]
  },
  {
   "cell_type": "markdown",
   "metadata": {},
   "source": [
    "# SVC"
   ]
  },
  {
   "cell_type": "code",
   "execution_count": 12,
   "metadata": {},
   "outputs": [
    {
     "name": "stdout",
     "output_type": "stream",
     "text": [
      "{'C': 5.0, 'gamma': 0.001}\n",
      "best SVC on train  0.984884645982498\n",
      "SVC on Test  0.9925925925925926\n"
     ]
    }
   ],
   "source": [
    "from sklearn import svm\n",
    "svc = svm.SVC(gamma=0.001, C=100.)\n",
    "svm_params = {'gamma': [0.0, 0.001, 0.05, 0.1], \n",
    "              #'max_iter': range(2, 20), \n",
    "              'C': [1., 5., 10., 20., 40., 100.]}\n",
    "svm_grid = GridSearchCV(svc, svm_params,cv=5, n_jobs=-1,verbose=False)\n",
    "svm_grid.fit(X_train, y_train)\n",
    "print(svm_grid.best_params_)\n",
    "print('best SVC on train ', svm_grid.best_score_)\n",
    "pred = svm_grid.predict(X_holdout)\n",
    "print('SVC on Test ', accuracy_score(y_holdout, pred))  "
   ]
  },
  {
   "cell_type": "markdown",
   "metadata": {},
   "source": [
    "# LogisticRegression"
   ]
  },
  {
   "cell_type": "code",
   "execution_count": 14,
   "metadata": {},
   "outputs": [
    {
     "name": "stdout",
     "output_type": "stream",
     "text": [
      "Fitting 5 folds for each of 4 candidates, totalling 20 fits\n"
     ]
    },
    {
     "name": "stderr",
     "output_type": "stream",
     "text": [
      "/usr/local/lib/python3.7/site-packages/sklearn/linear_model/sag.py:326: ConvergenceWarning: The max_iter was reached which means the coef_ did not converge\n",
      "  \"the coef_ did not converge\", ConvergenceWarning)\n",
      "/usr/local/lib/python3.7/site-packages/sklearn/linear_model/sag.py:326: ConvergenceWarning: The max_iter was reached which means the coef_ did not converge\n",
      "  \"the coef_ did not converge\", ConvergenceWarning)\n",
      "/usr/local/lib/python3.7/site-packages/sklearn/linear_model/sag.py:326: ConvergenceWarning: The max_iter was reached which means the coef_ did not converge\n",
      "  \"the coef_ did not converge\", ConvergenceWarning)\n",
      "/usr/local/lib/python3.7/site-packages/sklearn/linear_model/sag.py:326: ConvergenceWarning: The max_iter was reached which means the coef_ did not converge\n",
      "  \"the coef_ did not converge\", ConvergenceWarning)\n",
      "/usr/local/lib/python3.7/site-packages/sklearn/linear_model/sag.py:326: ConvergenceWarning: The max_iter was reached which means the coef_ did not converge\n",
      "  \"the coef_ did not converge\", ConvergenceWarning)\n",
      "/usr/local/lib/python3.7/site-packages/sklearn/linear_model/sag.py:326: ConvergenceWarning: The max_iter was reached which means the coef_ did not converge\n",
      "  \"the coef_ did not converge\", ConvergenceWarning)\n",
      "/usr/local/lib/python3.7/site-packages/sklearn/linear_model/sag.py:326: ConvergenceWarning: The max_iter was reached which means the coef_ did not converge\n",
      "  \"the coef_ did not converge\", ConvergenceWarning)\n",
      "/usr/local/lib/python3.7/site-packages/sklearn/linear_model/sag.py:326: ConvergenceWarning: The max_iter was reached which means the coef_ did not converge\n",
      "  \"the coef_ did not converge\", ConvergenceWarning)\n",
      "/usr/local/lib/python3.7/site-packages/sklearn/linear_model/sag.py:326: ConvergenceWarning: The max_iter was reached which means the coef_ did not converge\n",
      "  \"the coef_ did not converge\", ConvergenceWarning)\n",
      "/usr/local/lib/python3.7/site-packages/sklearn/linear_model/sag.py:326: ConvergenceWarning: The max_iter was reached which means the coef_ did not converge\n",
      "  \"the coef_ did not converge\", ConvergenceWarning)\n",
      "[Parallel(n_jobs=-1)]: Done  20 out of  20 | elapsed:    5.2s finished\n"
     ]
    },
    {
     "name": "stdout",
     "output_type": "stream",
     "text": [
      "{'solver': 'newton-cg'}\n",
      "best Regression on train  0.958631662688942\n",
      "Regression on Test  0.9611111111111111\n"
     ]
    }
   ],
   "source": [
    "from sklearn.linear_model import LogisticRegression\n",
    "logRegr = LogisticRegression(\n",
    "    random_state=rnd_state,\n",
    "    solver='lbfgs',\n",
    "    multi_class='multinomial')\n",
    "\n",
    "log_params = {\n",
    "    'solver': ['newton-cg', 'lbfgs', 'sag', 'saga']\n",
    "}\n",
    "\n",
    "regr_grid = GridSearchCV(logRegr, log_params, cv=5, n_jobs=-1,verbose=True)\n",
    "regr_grid.fit(X_train, y_train)\n",
    "\n",
    "\n",
    "print(regr_grid.best_params_)\n",
    "print('best Regression on train ', regr_grid.best_score_)\n",
    "pred = regr_grid.predict(X_holdout)\n",
    "print('Regression on Test ', accuracy_score(y_holdout, pred)) \n",
    "#"
   ]
  },
  {
   "cell_type": "markdown",
   "metadata": {},
   "source": [
    "## 3 Вопрос"
   ]
  },
  {
   "cell_type": "code",
   "execution_count": 74,
   "metadata": {},
   "outputs": [
    {
     "name": "stdout",
     "output_type": "stream",
     "text": [
      "(8000, 784) 5708\n"
     ]
    }
   ],
   "source": [
    "mnist = fetch_mldata('MNIST original') #имеют размер 28x28\n",
    "sz = 28\n",
    "\n",
    "max_sz = 8000\n",
    "\n",
    "X, y = mnist.data, mnist.target\n",
    "\n",
    "X = X[:max_sz].astype('float64')\n",
    "y = y[:max_sz]\n",
    "rnd_state = np.random.randint(0, X.shape[0])\n",
    "print(X.shape, rnd_state)\n",
    "\n"
   ]
  },
  {
   "cell_type": "code",
   "execution_count": 75,
   "metadata": {},
   "outputs": [
    {
     "data": {
      "image/png": "[encoded data removed]",
      "text/plain": [
       "<Figure size 432x288 with 8 Axes>"
      ]
     },
     "metadata": {
      "needs_background": "light"
     },
     "output_type": "display_data"
    }
   ],
   "source": [
    "images_and_labels = list(zip(X, y))\n",
    "\n",
    "for index, (image, label) in enumerate(images_and_labels[rnd_state:rnd_state + 8]):\n",
    "    plt.subplot(2, 4, index + 1)\n",
    "    plt.axis('off')\n",
    "    plt.imshow(image.reshape([sz,sz]), cmap=plt.cm.gray_r, interpolation='nearest')\n",
    "    plt.title('Training: %i' % label)"
   ]
  },
  {
   "cell_type": "code",
   "execution_count": 76,
   "metadata": {},
   "outputs": [
    {
     "name": "stdout",
     "output_type": "stream",
     "text": [
      "(2400, 784)\n"
     ]
    }
   ],
   "source": [
    "X_train, X_holdout, y_train, y_holdout = train_test_split(X, y, test_size=0.3,\n",
    "random_state=rnd_state)\n",
    "print(X_holdout.shape)\n",
    "\n",
    "images_and_labels = list(zip(X_train, y_train))\n",
    "\n",
    "for index, (image, label) in enumerate(images_and_labels[rnd_state:rnd_state + 8]):\n",
    "    plt.subplot(2, 4, index + 1)\n",
    "    plt.axis('off')\n",
    "    plt.imshow(image.reshape([sz,sz]), cmap=plt.cm.gray_r, interpolation='nearest')\n",
    "    plt.title('Training: %i' % label)"
   ]
  },
  {
   "cell_type": "code",
   "execution_count": 77,
   "metadata": {},
   "outputs": [],
   "source": [
    "tree = DecisionTreeClassifier(max_depth=5, random_state=rnd_state)\n",
    "knn = KNeighborsClassifier(n_neighbors=10)\n",
    "\n",
    "tree_params = {'max_depth': [2**i for i in range(8)],\n",
    "'max_features': [2**i for i in range(10)] + [784]}\n",
    "\n",
    "tree_grid = GridSearchCV(tree, tree_params,\n",
    "cv=5, n_jobs=-1,\n",
    "verbose=True)\n",
    "\n",
    "\n",
    "knn_pipe = Pipeline([('scaler', StandardScaler()), ('knn', KNeighborsClassifier(n_jobs=-1))])\n",
    "\n",
    "knn_params = {'knn__n_neighbors': [2**i for i in range(3)]}\n",
    "\n",
    "knn_grid = GridSearchCV(knn_pipe, knn_params,\n",
    "cv=5, n_jobs=-1,\n",
    "verbose=True)\n",
    "\n"
   ]
  },
  {
   "cell_type": "code",
   "execution_count": 78,
   "metadata": {},
   "outputs": [
    {
     "name": "stdout",
     "output_type": "stream",
     "text": [
      "Fitting 5 folds for each of 88 candidates, totalling 440 fits\n"
     ]
    },
    {
     "name": "stderr",
     "output_type": "stream",
     "text": [
      "[Parallel(n_jobs=-1)]: Done  42 tasks      | elapsed:    2.9s\n",
      "[Parallel(n_jobs=-1)]: Done 192 tasks      | elapsed:   12.6s\n"
     ]
    },
    {
     "name": "stdout",
     "output_type": "stream",
     "text": [
      "Fit end\n",
      "{'max_depth': 16, 'max_features': 32} 0.9946428571428572\n",
      "0.9908333333333333\n"
     ]
    },
    {
     "name": "stderr",
     "output_type": "stream",
     "text": [
      "[Parallel(n_jobs=-1)]: Done 440 out of 440 | elapsed:   36.8s finished\n"
     ]
    },
    {
     "data": {
      "text/plain": [
       "784"
      ]
     },
     "execution_count": 78,
     "metadata": {},
     "output_type": "execute_result"
    }
   ],
   "source": [
    "tree_grid.fit(X_train, y_train)\n",
    "print(\"Fit end\")\n",
    "print(tree_grid.best_params_, tree_grid.best_score_)\n",
    "print(accuracy_score(y_holdout, tree_grid.predict(X_holdout)))\n",
    "fi = tree_grid.best_estimator_.feature_importances_\n",
    "len(fi)"
   ]
  },
  {
   "cell_type": "code",
   "execution_count": 79,
   "metadata": {},
   "outputs": [
    {
     "name": "stdout",
     "output_type": "stream",
     "text": [
      "Fitting 5 folds for each of 3 candidates, totalling 15 fits\n"
     ]
    },
    {
     "name": "stderr",
     "output_type": "stream",
     "text": [
      "[Parallel(n_jobs=-1)]: Done  15 out of  15 | elapsed:  2.7min finished\n"
     ]
    },
    {
     "name": "stdout",
     "output_type": "stream",
     "text": [
      "Fit end\n",
      "{'knn__n_neighbors': 4} 0.9966071428571428\n",
      "0.9945833333333334\n"
     ]
    }
   ],
   "source": [
    "knn_grid.fit(X_train, y_train)\n",
    "print(\"Fit end\")\n",
    "print(knn_grid.best_params_, knn_grid.best_score_)\n",
    "print(accuracy_score(y_holdout, knn_grid.predict(X_holdout)))"
   ]
  },
  {
   "cell_type": "code",
   "execution_count": 83,
   "metadata": {},
   "outputs": [],
   "source": [
    "X_train[:, fi <= 0] = 0\n",
    "X_holdout[:, fi <= 0] = 0"
   ]
  },
  {
   "cell_type": "code",
   "execution_count": 84,
   "metadata": {},
   "outputs": [
    {
     "name": "stdout",
     "output_type": "stream",
     "text": [
      "Fitting 5 folds for each of 3 candidates, totalling 15 fits\n"
     ]
    },
    {
     "name": "stderr",
     "output_type": "stream",
     "text": [
      "[Parallel(n_jobs=-1)]: Done  15 out of  15 | elapsed:  2.7min finished\n"
     ]
    },
    {
     "name": "stdout",
     "output_type": "stream",
     "text": [
      "Fit end\n",
      "{'knn__n_neighbors': 1} 0.99875\n",
      "0.9979166666666667\n"
     ]
    }
   ],
   "source": [
    "knn_grid.fit(X_train, y_train)\n",
    "print(\"Fit end\")\n",
    "print(knn_grid.best_params_, knn_grid.best_score_)\n",
    "print(accuracy_score(y_holdout, knn_grid.predict(X_holdout)))"
   ]
  },
  {
   "cell_type": "code",
   "execution_count": null,
   "metadata": {},
   "outputs": [],
   "source": []
  }
 ],
 "metadata": {
  "kernelspec": {
   "display_name": "Python 3",
   "language": "python",
   "name": "python3"
  },
  "language_info": {
   "codemirror_mode": {
    "name": "ipython",
    "version": 3
   },
   "file_extension": ".py",
   "mimetype": "text/x-python",
   "name": "python",
   "nbconvert_exporter": "python",
   "pygments_lexer": "ipython3",
   "version": "3.7.0"
  }
 },
 "nbformat": 4,
 "nbformat_minor": 2
}
